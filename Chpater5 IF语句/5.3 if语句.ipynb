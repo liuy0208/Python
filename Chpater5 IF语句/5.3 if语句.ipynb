{
 "cells": [
  {
   "cell_type": "markdown",
   "id": "3a6a92ec",
   "metadata": {},
   "source": [
    "# 5.3 if语句"
   ]
  },
  {
   "cell_type": "code",
   "execution_count": 5,
   "id": "fa74407b",
   "metadata": {},
   "outputs": [
    {
     "name": "stdout",
     "output_type": "stream",
     "text": [
      "You are old enough to vote!\n",
      "Have you registered to vote yet?\n"
     ]
    }
   ],
   "source": [
    "# 简单的if语句\n",
    "age = 19\n",
    "if age >= 18 :\n",
    "    print(\"You are old enough to vote!\")\n",
    "    print(\"Have you registered to vote yet?\")"
   ]
  },
  {
   "cell_type": "code",
   "execution_count": 13,
   "id": "6d220618",
   "metadata": {},
   "outputs": [
    {
     "name": "stdout",
     "output_type": "stream",
     "text": [
      "Sorry,you are too young to vote.\n",
      "Please register to vote as soon as you turn 18!\n"
     ]
    }
   ],
   "source": [
    "# if-else 语句\n",
    "age = 17\n",
    "if age >= 18 :\n",
    "    print(\"You are old enough to vote!\")\n",
    "    print(\"Have you registered to vote yet?\")\n",
    "else:\n",
    "    print(\"Sorry,you are too young to vote.\")\n",
    "    print(\"Please register to vote as soon as you turn 18!\")"
   ]
  },
  {
   "cell_type": "code",
   "execution_count": 20,
   "id": "e07d3b56",
   "metadata": {},
   "outputs": [
    {
     "name": "stdout",
     "output_type": "stream",
     "text": [
      "Your admission cost is $25.\n"
     ]
    }
   ],
   "source": [
    "# if-elif-else 结构\n",
    "age = 5\n",
    "if age < 4:\n",
    "    print(\"You admission cost is $0.\")\n",
    "elif 4 <= age < 18:\n",
    "    print(\"Your admission cost is $25.\")\n",
    "else:\n",
    "    print(\"Your admission cost is $40.\")"
   ]
  },
  {
   "cell_type": "code",
   "execution_count": 25,
   "id": "1fe7f072",
   "metadata": {},
   "outputs": [
    {
     "name": "stdout",
     "output_type": "stream",
     "text": [
      "You admission cost is $25.\n"
     ]
    }
   ],
   "source": [
    "# if-elif-else 结构\n",
    "age = 7\n",
    "if age < 4:\n",
    "    price = 0\n",
    "elif age <18:\n",
    "    price = 25\n",
    "else:\n",
    "    price = 40\n",
    "print(f\"You admission cost is ${price}.\")"
   ]
  },
  {
   "cell_type": "code",
   "execution_count": 26,
   "id": "113fac14",
   "metadata": {},
   "outputs": [
    {
     "name": "stdout",
     "output_type": "stream",
     "text": [
      "Your admission cost is $25.\n"
     ]
    }
   ],
   "source": [
    "# 使用多个elif代码块\n",
    "age = 12\n",
    "if age <4:\n",
    "    price = 0\n",
    "elif age <18:\n",
    "    price = 25\n",
    "elif age <65:\n",
    "    price = 40\n",
    "else:\n",
    "    price = 20\n",
    "print(f\"Your admission cost is ${price}.\")"
   ]
  },
  {
   "cell_type": "code",
   "execution_count": 29,
   "id": "12161882",
   "metadata": {},
   "outputs": [
    {
     "name": "stdout",
     "output_type": "stream",
     "text": [
      "Your admission cost is $25.\n"
     ]
    }
   ],
   "source": [
    "# 省略else代码块\n",
    "age = 12\n",
    "if age <4:\n",
    "    price = 0\n",
    "elif age <18:\n",
    "    price = 25\n",
    "elif age <65:\n",
    "    price = 40\n",
    "elif age >= 65:\n",
    "    price = 20\n",
    "print(f\"Your admission cost is ${price}.\")"
   ]
  },
  {
   "cell_type": "code",
   "execution_count": 32,
   "id": "16602d26",
   "metadata": {},
   "outputs": [
    {
     "name": "stdout",
     "output_type": "stream",
     "text": [
      "Adding mushrooms.\n",
      "Adding extra cheese.\n",
      "\n",
      "Finished making your pizza!\n"
     ]
    }
   ],
   "source": [
    "requested_toppings = ['mushrooms','extra cheese']\n",
    "if 'mushrooms' in requested_toppings:\n",
    "    print(\"Adding mushrooms.\")\n",
    "if 'pepperoni' in requested_toppings:\n",
    "    print(\"Adding pepperoni.\")\n",
    "if 'extra cheese' in requested_toppings:\n",
    "    print(\"Adding extra cheese.\")\n",
    "print(\"\\nFinished making your pizza!\")"
   ]
  },
  {
   "cell_type": "markdown",
   "id": "6effa0b3",
   "metadata": {},
   "source": [
    "## 5-3~7 练习"
   ]
  },
  {
   "cell_type": "code",
   "execution_count": 34,
   "id": "6ca7771b",
   "metadata": {},
   "outputs": [
    {
     "name": "stdout",
     "output_type": "stream",
     "text": [
      "Congratulations!You get 5 points!\n"
     ]
    }
   ],
   "source": [
    "# 5-3 外星人颜色\n",
    "alien_color = 'green'\n",
    "if alien_color == 'green':\n",
    "    print(\"Congratulations!You get 5 points!\")"
   ]
  },
  {
   "cell_type": "code",
   "execution_count": 35,
   "id": "01e3f8e8",
   "metadata": {},
   "outputs": [],
   "source": [
    "# 5-3 外星人颜色\n",
    "alien_color = 'red'\n",
    "if alien_color == 'green':\n",
    "    print(\"Congratulations!You get 5 points!\")"
   ]
  },
  {
   "cell_type": "code",
   "execution_count": 39,
   "id": "367d9e08",
   "metadata": {},
   "outputs": [
    {
     "name": "stdout",
     "output_type": "stream",
     "text": [
      "Congratulations!You get 10 points!\n",
      "\n",
      "You get 5 points because you hit it!\n"
     ]
    }
   ],
   "source": [
    "# 5-4 外星人颜色2\n",
    "alien_color = 'red'\n",
    "if alien_color == 'green':\n",
    "    print(\"You get 5 points because you hit it!\")\n",
    "else:\n",
    "    print(\"Congratulations!You get 10 points!\")\n",
    "    \n",
    "alien_color = 'green'\n",
    "if alien_color == 'green':\n",
    "    print(\"\\nYou get 5 points because you hit it!\")\n",
    "else:\n",
    "    print(\"\\nCongratulations!You get 10 points!\")"
   ]
  },
  {
   "cell_type": "code",
   "execution_count": 41,
   "id": "b7147d9c",
   "metadata": {},
   "outputs": [
    {
     "name": "stdout",
     "output_type": "stream",
     "text": [
      "You get 5 scores!\n",
      "You get 10 scores!\n",
      "You get 15 scores!\n"
     ]
    }
   ],
   "source": [
    "# 5-5 外星人颜色3\n",
    "alien_color = 'green'\n",
    "if alien_color == 'green':\n",
    "    print(\"You get 5 scores!\")\n",
    "elif alien_color == 'yellow':\n",
    "    print(\"You get 10 scores!\")\n",
    "elif alien_color == 'red':\n",
    "    print(\"You get 15 scores!\")\n",
    "alien_color = 'yellow'\n",
    "if alien_color == 'green':\n",
    "    print(\"You get 5 scores!\")\n",
    "elif alien_color == 'yellow':\n",
    "    print(\"You get 10 scores!\")\n",
    "elif alien_color == 'red':\n",
    "    print(\"You get 15 scores!\")\n",
    "alien_color = 'red'\n",
    "if alien_color == 'green':\n",
    "    print(\"You get 5 scores!\")\n",
    "elif alien_color == 'yellow':\n",
    "    print(\"You get 10 scores!\")\n",
    "elif alien_color == 'red':\n",
    "    print(\"You get 15 scores!\")"
   ]
  },
  {
   "cell_type": "code",
   "execution_count": 42,
   "id": "f744b4a9",
   "metadata": {},
   "outputs": [
    {
     "name": "stdout",
     "output_type": "stream",
     "text": [
      "你是成年人。\n"
     ]
    }
   ],
   "source": [
    "# 5-6 人生的不同阶段\n",
    "age = 20\n",
    "if age <2:\n",
    "    print(\"你是婴儿。\")\n",
    "elif age <4:\n",
    "    print(\"你是幼儿。\")\n",
    "elif age <13:\n",
    "    print(\"你是儿童。\")\n",
    "elif age <20:\n",
    "    print(\"你是青少年。\")\n",
    "elif age <65:\n",
    "    print(\"你是成年人。\")\n",
    "else:\n",
    "    print(\"你是老年人\")"
   ]
  },
  {
   "cell_type": "code",
   "execution_count": 44,
   "id": "f173afaf",
   "metadata": {},
   "outputs": [
    {
     "name": "stdout",
     "output_type": "stream",
     "text": [
      "True\n",
      "False\n"
     ]
    }
   ],
   "source": [
    "# 5-7 喜欢的水果\n",
    "fruits = ['banana','orange','watermelon','apple','pineapple']\n",
    "print('banana' in fruits)\n",
    "print('lemon' in fruits)"
   ]
  },
  {
   "cell_type": "code",
   "execution_count": 47,
   "id": "99aab89e",
   "metadata": {},
   "outputs": [
    {
     "name": "stdout",
     "output_type": "stream",
     "text": [
      "You really like bananas!\n",
      "You really like bananas!\n",
      "You really like bananas!\n"
     ]
    }
   ],
   "source": [
    "# 5-7 喜欢的水果\n",
    "fruits = ['banana','orange','watermelon']\n",
    "if 'banana' in fruits:\n",
    "    print(\"You really like bananas!\")\n",
    "if 'apple' in fruits:\n",
    "    print(\"You really like bananas!\")\n",
    "if 'lemon' in fruits:\n",
    "    print(\"You really like bananas!\")  \n",
    "if 'orange' in fruits:\n",
    "    print(\"You really like bananas!\")\n",
    "if 'watermelon' in fruits:\n",
    "    print(\"You really like bananas!\")"
   ]
  },
  {
   "cell_type": "code",
   "execution_count": null,
   "id": "5aff2658",
   "metadata": {},
   "outputs": [],
   "source": []
  }
 ],
 "metadata": {
  "kernelspec": {
   "display_name": "Python 3 (ipykernel)",
   "language": "python",
   "name": "python3"
  },
  "language_info": {
   "codemirror_mode": {
    "name": "ipython",
    "version": 3
   },
   "file_extension": ".py",
   "mimetype": "text/x-python",
   "name": "python",
   "nbconvert_exporter": "python",
   "pygments_lexer": "ipython3",
   "version": "3.9.13"
  }
 },
 "nbformat": 4,
 "nbformat_minor": 5
}
