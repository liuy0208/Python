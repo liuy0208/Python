{
 "cells": [
  {
   "cell_type": "markdown",
   "id": "cbab1ab6",
   "metadata": {},
   "source": [
    "# 5.4 用if语句处理列表"
   ]
  },
  {
   "cell_type": "code",
   "execution_count": 2,
   "id": "c976bc87",
   "metadata": {},
   "outputs": [
    {
     "name": "stdout",
     "output_type": "stream",
     "text": [
      "Adding mushroom.\n",
      "Adding green peppers.\n",
      "Adding extra cheese.\n",
      "\n",
      "Finished making your pizza!\n"
     ]
    }
   ],
   "source": [
    "requested_toppings = ['mushroom','green peppers','extra cheese']\n",
    "for requested_topping in requested_toppings:\n",
    "    print(f\"Adding {requested_topping}.\")\n",
    "print(\"\\nFinished making your pizza!\")"
   ]
  },
  {
   "cell_type": "code",
   "execution_count": 9,
   "id": "41d4d1ba",
   "metadata": {},
   "outputs": [
    {
     "name": "stdout",
     "output_type": "stream",
     "text": [
      "Adding mushroom.\n",
      "Sorry,we are out of green peppers right now.\n",
      "Adding extra cheese.\n",
      "\n",
      "Finished making your pizza!\n"
     ]
    }
   ],
   "source": [
    "# 检查特殊元素\n",
    "requested_toppings = ['mushroom','green peppers','extra cheese']\n",
    "for requested_topping in requested_toppings:\n",
    "    if requested_topping == 'green peppers':\n",
    "        print(\"Sorry,we are out of green peppers right now.\")\n",
    "    else:\n",
    "        print(f\"Adding {requested_topping}.\")\n",
    "print(\"\\nFinished making your pizza!\")"
   ]
  },
  {
   "cell_type": "code",
   "execution_count": 15,
   "id": "62e03035",
   "metadata": {},
   "outputs": [
    {
     "name": "stdout",
     "output_type": "stream",
     "text": [
      "Are you sure you want a plain pizza?\n"
     ]
    }
   ],
   "source": [
    "# 确定列表不是空的\n",
    "requested_toppings = []\n",
    "if requested_toppings:\n",
    "    for requested_topping in requested_toppings:\n",
    "        print(f\"Adding {requested_topping}.\")\n",
    "    print(\"\\nFinished making your pizza!\")\n",
    "else:\n",
    "    print(\"Are you sure you want a plain pizza?\")"
   ]
  },
  {
   "cell_type": "code",
   "execution_count": 59,
   "id": "e28aefa4",
   "metadata": {},
   "outputs": [
    {
     "name": "stdout",
     "output_type": "stream",
     "text": [
      "Bye!\n"
     ]
    }
   ],
   "source": [
    "# 检查列表是否为空\n",
    "names = []\n",
    "if names:\n",
    "    print(\"Hi!\")\n",
    "else:\n",
    "    print(\"Bye!\")"
   ]
  },
  {
   "cell_type": "code",
   "execution_count": 16,
   "id": "0e03978f",
   "metadata": {},
   "outputs": [
    {
     "name": "stdout",
     "output_type": "stream",
     "text": [
      "Adding mushroom.\n",
      "Adding green peppers.\n",
      "\n",
      "Finished making your pizza!\n"
     ]
    }
   ],
   "source": [
    "# 确定列表不是空的\n",
    "requested_toppings = ['mushroom','green peppers']\n",
    "if requested_toppings:\n",
    "    for requested_topping in requested_toppings:\n",
    "        print(f\"Adding {requested_topping}.\")\n",
    "    print(\"\\nFinished making your pizza!\")\n",
    "else:\n",
    "    print(\"Are you sure you want a plain pizza?\")"
   ]
  },
  {
   "cell_type": "code",
   "execution_count": 21,
   "id": "be2ee499",
   "metadata": {},
   "outputs": [
    {
     "name": "stdout",
     "output_type": "stream",
     "text": [
      "Adding mushrooms.\n",
      "Sorry,we don't have french fries.\n",
      "Adding extra cheese.\n",
      "\n",
      "Finished making your pizza!\n"
     ]
    }
   ],
   "source": [
    "# 使用多个列表\n",
    "available_toppings = ['mushrooms','olives','green peppers','pepperoni','pineapple','extra cheese']\n",
    "requested_toppings = ['mushrooms','french fries','extra cheese']\n",
    "for requested_topping in requested_toppings:\n",
    "    if requested_topping in available_toppings:\n",
    "        print(f\"Adding {requested_topping}.\")\n",
    "    else:\n",
    "        print(f\"Sorry,we don't have {requested_topping}.\")\n",
    "print(\"\\nFinished making your pizza!\")"
   ]
  },
  {
   "cell_type": "markdown",
   "id": "50e83e09",
   "metadata": {},
   "source": [
    "## 5-8~11 练习"
   ]
  },
  {
   "cell_type": "code",
   "execution_count": 27,
   "id": "628f3599",
   "metadata": {},
   "outputs": [
    {
     "name": "stdout",
     "output_type": "stream",
     "text": [
      "Hello ly,thank you logging in again!\n",
      "\n",
      "Hello wbw,thank you logging in again!\n",
      "\n",
      "Hello,admin,would you like to see a status report?\n",
      "\n",
      "Hello zsp,thank you logging in again!\n",
      "\n",
      "Hello hzq,thank you logging in again!\n",
      "\n"
     ]
    }
   ],
   "source": [
    "# 5-8 以特殊方式跟管理员打招呼\n",
    "user_names = ['ly','wbw','admin','zsp','hzq']\n",
    "for user_name in user_names:\n",
    "    if user_name == 'admin':\n",
    "        print(f\"Hello,{user_name},would you like to see a status report?\\n\")\n",
    "    else: \n",
    "        print(f\"Hello {user_name},thank you logging in again!\\n\")"
   ]
  },
  {
   "cell_type": "code",
   "execution_count": 29,
   "id": "7241f7b0",
   "metadata": {},
   "outputs": [
    {
     "name": "stdout",
     "output_type": "stream",
     "text": [
      "Hello ly,thank you logging in again!\n",
      "\n",
      "Hello wbw,thank you logging in again!\n",
      "\n",
      "Hello,admin,would you like to see a status report?\n",
      "\n",
      "Hello zsp,thank you logging in again!\n",
      "\n",
      "Hello hzq,thank you logging in again!\n",
      "\n"
     ]
    }
   ],
   "source": [
    "# 5-9 处理没有用户的情形\n",
    "user_names = ['ly','wbw','admin','zsp','hzq']\n",
    "if user_names:\n",
    "    for user_name in user_names:\n",
    "        if user_name == 'admin':\n",
    "            print(f\"Hello,{user_name},would you like to see a status report?\\n\")\n",
    "        else: \n",
    "            print(f\"Hello {user_name},thank you logging in again!\\n\")\n",
    "else:\n",
    "    print(\"We need to find some users!\")"
   ]
  },
  {
   "cell_type": "code",
   "execution_count": 30,
   "id": "ed20da0f",
   "metadata": {},
   "outputs": [
    {
     "name": "stdout",
     "output_type": "stream",
     "text": [
      "We need to find some users!\n"
     ]
    }
   ],
   "source": [
    "# 5-9 处理没有用户的情形\n",
    "user_names = []\n",
    "if user_names:\n",
    "    for user_name in user_names:\n",
    "        if user_name == 'admin':\n",
    "            print(f\"Hello,{user_name},would you like to see a status report?\\n\")\n",
    "        else: \n",
    "            print(f\"Hello {user_name},thank you logging in again!\\n\")\n",
    "else:\n",
    "    print(\"We need to find some users!\")"
   ]
  },
  {
   "cell_type": "code",
   "execution_count": 38,
   "id": "a400a7b4",
   "metadata": {},
   "outputs": [
    {
     "name": "stdout",
     "output_type": "stream",
     "text": [
      "The name 'ly' hasn't been occupied.\n",
      "\n",
      "Sorry,the name 'wbw' has been occupied.Please change a name.\n",
      "\n",
      "The name 'cjy' hasn't been occupied.\n",
      "\n",
      "The name 'wyr' hasn't been occupied.\n",
      "\n",
      "The name 'jxy' hasn't been occupied.\n",
      "\n"
     ]
    }
   ],
   "source": [
    "# 5-10 检查用户名\n",
    "current_users = ['LY','wbw','admin','zsp','hzq']\n",
    "new_users = ['ly','wbw','cjy','wyr','jxy']\n",
    "for new_user in new_users:\n",
    "    if new_user in current_users:\n",
    "        print(f\"Sorry,the name '{new_user}' has been occupied.Please change a name.\\n\")\n",
    "    else:\n",
    "        print(f\"The name '{new_user}' hasn't been occupied.\\n\")"
   ]
  },
  {
   "cell_type": "code",
   "execution_count": 51,
   "id": "42b930e9",
   "metadata": {},
   "outputs": [
    {
     "name": "stdout",
     "output_type": "stream",
     "text": [
      "Sorry,the name 'ly' has been occupied.Please change a name.\n",
      "\n",
      "Sorry,the name 'wbw' has been occupied.Please change a name.\n",
      "\n",
      "The name 'cjy' hasn't been occupied.\n",
      "\n",
      "The name 'wyr' hasn't been occupied.\n",
      "\n",
      "The name 'jxy' hasn't been occupied.\n",
      "\n"
     ]
    }
   ],
   "source": [
    "# 5-10 检查用户名\n",
    "current_users = ['LY','wbw','admin','zsp','hzq']\n",
    "new_users = ['ly','wbw','cjy','wyr','jxy']\n",
    "for new_user in new_users:\n",
    "    if new_user.lower() in [current_name.lower() for current_name in current_users]:\n",
    "        print(f\"Sorry,the name '{new_user}' has been occupied.Please change a name.\\n\")\n",
    "    else:\n",
    "        print(f\"The name '{new_user}' hasn't been occupied.\\n\")"
   ]
  },
  {
   "cell_type": "code",
   "execution_count": 53,
   "id": "8ea80c4a",
   "metadata": {},
   "outputs": [
    {
     "name": "stdout",
     "output_type": "stream",
     "text": [
      "Sorry,the name 'ly' has been occupied.Please change a name.\n",
      "\n",
      "Sorry,the name 'wbw' has been occupied.Please change a name.\n",
      "\n",
      "The name 'cjy' hasn't been occupied.\n",
      "\n",
      "The name 'wyr' hasn't been occupied.\n",
      "\n",
      "The name 'jxy' hasn't been occupied.\n",
      "\n"
     ]
    }
   ],
   "source": [
    "# 5-10 检查用户名\n",
    "current_users = ['LY','wbw','admin','zsp','hzq']\n",
    "new_users = ['ly','wbw','cjy','wyr','jxy']\n",
    "current_users_copied = [current_user.lower() for current_user in current_users]\n",
    "for new_user in new_users:\n",
    "    if new_user.lower() in current_users_copied :\n",
    "        print(f\"Sorry,the name '{new_user}' has been occupied.Please change a name.\\n\")\n",
    "    else:\n",
    "        print(f\"The name '{new_user}' hasn't been occupied.\\n\")"
   ]
  },
  {
   "cell_type": "code",
   "execution_count": 50,
   "id": "f0d07a76",
   "metadata": {},
   "outputs": [
    {
     "name": "stdout",
     "output_type": "stream",
     "text": [
      "1st\n",
      "2nd\n",
      "3th\n",
      "4th\n",
      "5th\n",
      "6th\n",
      "7th\n",
      "8th\n",
      "9th\n"
     ]
    }
   ],
   "source": [
    "# 5-11 序数\n",
    "numbers = list(range(1,10))\n",
    "for number in numbers:\n",
    "    if number == 1:\n",
    "        print(f\"{number}st\")\n",
    "    elif number == 2:\n",
    "        print(f\"{number}nd\")\n",
    "    else:\n",
    "        print(f\"{number}th\")"
   ]
  },
  {
   "cell_type": "code",
   "execution_count": null,
   "id": "39000512",
   "metadata": {},
   "outputs": [],
   "source": []
  }
 ],
 "metadata": {
  "kernelspec": {
   "display_name": "Python 3 (ipykernel)",
   "language": "python",
   "name": "python3"
  },
  "language_info": {
   "codemirror_mode": {
    "name": "ipython",
    "version": 3
   },
   "file_extension": ".py",
   "mimetype": "text/x-python",
   "name": "python",
   "nbconvert_exporter": "python",
   "pygments_lexer": "ipython3",
   "version": "3.9.13"
  }
 },
 "nbformat": 4,
 "nbformat_minor": 5
}
