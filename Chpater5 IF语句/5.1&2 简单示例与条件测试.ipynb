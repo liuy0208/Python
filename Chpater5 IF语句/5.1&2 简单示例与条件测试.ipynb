{
 "cells": [
  {
   "cell_type": "markdown",
   "id": "e0b33f9d",
   "metadata": {},
   "source": [
    "# 5.1 简单示例"
   ]
  },
  {
   "cell_type": "code",
   "execution_count": 51,
   "id": "b95a9383",
   "metadata": {},
   "outputs": [
    {
     "name": "stdout",
     "output_type": "stream",
     "text": [
      "Audi\n",
      "BMW\n",
      "Subaru\n",
      "Toyota\n"
     ]
    }
   ],
   "source": [
    "cars = ['audi','bmw','subaru','toyota']\n",
    "for car in cars:\n",
    "    if car == 'bmw':\n",
    "        print(car.upper())\n",
    "    else:\n",
    "        print(car.title())"
   ]
  },
  {
   "cell_type": "code",
   "execution_count": 63,
   "id": "1e42adfc",
   "metadata": {},
   "outputs": [
    {
     "data": {
      "text/plain": [
       "True"
      ]
     },
     "execution_count": 63,
     "metadata": {},
     "output_type": "execute_result"
    }
   ],
   "source": [
    "True == 1"
   ]
  },
  {
   "cell_type": "code",
   "execution_count": 67,
   "id": "85893d91",
   "metadata": {},
   "outputs": [
    {
     "data": {
      "text/plain": [
       "True"
      ]
     },
     "execution_count": 67,
     "metadata": {},
     "output_type": "execute_result"
    }
   ],
   "source": [
    "False == 0"
   ]
  },
  {
   "cell_type": "code",
   "execution_count": 73,
   "id": "bd58aea6",
   "metadata": {},
   "outputs": [
    {
     "name": "stdout",
     "output_type": "stream",
     "text": [
      "False\n"
     ]
    }
   ],
   "source": [
    "print(True == 0)"
   ]
  },
  {
   "cell_type": "code",
   "execution_count": 75,
   "id": "06e0f0ed",
   "metadata": {},
   "outputs": [
    {
     "data": {
      "text/plain": [
       "2"
      ]
     },
     "execution_count": 75,
     "metadata": {},
     "output_type": "execute_result"
    }
   ],
   "source": [
    "True + True"
   ]
  },
  {
   "cell_type": "code",
   "execution_count": 78,
   "id": "f4da1128",
   "metadata": {},
   "outputs": [
    {
     "data": {
      "text/plain": [
       "True"
      ]
     },
     "execution_count": 78,
     "metadata": {},
     "output_type": "execute_result"
    }
   ],
   "source": [
    "True and True"
   ]
  },
  {
   "cell_type": "code",
   "execution_count": 80,
   "id": "2426e7b0",
   "metadata": {},
   "outputs": [
    {
     "data": {
      "text/plain": [
       "True"
      ]
     },
     "execution_count": 80,
     "metadata": {},
     "output_type": "execute_result"
    }
   ],
   "source": [
    "True or False"
   ]
  },
  {
   "cell_type": "code",
   "execution_count": 93,
   "id": "11e901bd",
   "metadata": {},
   "outputs": [
    {
     "data": {
      "text/plain": [
       "False"
      ]
     },
     "execution_count": 93,
     "metadata": {},
     "output_type": "execute_result"
    }
   ],
   "source": [
    "True & False"
   ]
  },
  {
   "cell_type": "code",
   "execution_count": 95,
   "id": "7c5b66b2",
   "metadata": {},
   "outputs": [
    {
     "data": {
      "text/plain": [
       "False"
      ]
     },
     "execution_count": 95,
     "metadata": {},
     "output_type": "execute_result"
    }
   ],
   "source": [
    "result = True\n",
    "not result"
   ]
  },
  {
   "cell_type": "code",
   "execution_count": 98,
   "id": "60762bf5",
   "metadata": {},
   "outputs": [
    {
     "data": {
      "text/plain": [
       "True"
      ]
     },
     "execution_count": 98,
     "metadata": {},
     "output_type": "execute_result"
    }
   ],
   "source": [
    "# 判断游戏状态——在第三行中，not的优先级比and高（相当于给not game_paused的部分加上了括号）\n",
    "screen_active = True\n",
    "game_paused = False\n",
    "game_active = screen_active and not game_paused\n",
    "game_active"
   ]
  },
  {
   "cell_type": "markdown",
   "id": "73b80495",
   "metadata": {},
   "source": [
    "# 5.2 条件测试"
   ]
  },
  {
   "cell_type": "code",
   "execution_count": 3,
   "id": "e2fc972e",
   "metadata": {},
   "outputs": [
    {
     "name": "stdout",
     "output_type": "stream",
     "text": [
      "True\n"
     ]
    }
   ],
   "source": [
    "car = 'bmw'\n",
    "print(car == 'bmw')"
   ]
  },
  {
   "cell_type": "code",
   "execution_count": 4,
   "id": "392df34a",
   "metadata": {},
   "outputs": [
    {
     "name": "stdout",
     "output_type": "stream",
     "text": [
      "False\n"
     ]
    }
   ],
   "source": [
    "car = 'bmw'\n",
    "print(car == 'toyota')"
   ]
  },
  {
   "cell_type": "code",
   "execution_count": 8,
   "id": "a21eb31b",
   "metadata": {},
   "outputs": [
    {
     "data": {
      "text/plain": [
       "False"
      ]
     },
     "execution_count": 8,
     "metadata": {},
     "output_type": "execute_result"
    }
   ],
   "source": [
    "car = 'Bmw'\n",
    "car == 'bmw'"
   ]
  },
  {
   "cell_type": "code",
   "execution_count": 10,
   "id": "4412ada5",
   "metadata": {},
   "outputs": [
    {
     "data": {
      "text/plain": [
       "True"
      ]
     },
     "execution_count": 10,
     "metadata": {},
     "output_type": "execute_result"
    }
   ],
   "source": [
    "car = 'Audi'\n",
    "car.lower() == 'audi'"
   ]
  },
  {
   "cell_type": "code",
   "execution_count": 12,
   "id": "32cab4ae",
   "metadata": {},
   "outputs": [
    {
     "name": "stdout",
     "output_type": "stream",
     "text": [
      "Hold the anchovies!\n"
     ]
    }
   ],
   "source": [
    "requested_topping = 'mushrooms'\n",
    "if requested_topping != 'anchovies':\n",
    "    print(\"Hold the anchovies!\")"
   ]
  },
  {
   "cell_type": "code",
   "execution_count": 13,
   "id": "2af85ab3",
   "metadata": {},
   "outputs": [
    {
     "data": {
      "text/plain": [
       "True"
      ]
     },
     "execution_count": 13,
     "metadata": {},
     "output_type": "execute_result"
    }
   ],
   "source": [
    "age = 18\n",
    "age == 18"
   ]
  },
  {
   "cell_type": "code",
   "execution_count": 14,
   "id": "663da225",
   "metadata": {},
   "outputs": [
    {
     "name": "stdout",
     "output_type": "stream",
     "text": [
      "That is not the correct answer.Please try again!\n"
     ]
    }
   ],
   "source": [
    "answer = 17\n",
    "if answer != 42:\n",
    "    print(\"That is not the correct answer.Please try again!\")"
   ]
  },
  {
   "cell_type": "code",
   "execution_count": 15,
   "id": "9615bfcc",
   "metadata": {},
   "outputs": [
    {
     "data": {
      "text/plain": [
       "False"
      ]
     },
     "execution_count": 15,
     "metadata": {},
     "output_type": "execute_result"
    }
   ],
   "source": [
    "age_0 = 22\n",
    "age_1 = 18\n",
    "age_0 >=21 and age_1 >=21"
   ]
  },
  {
   "cell_type": "code",
   "execution_count": 16,
   "id": "0406c2e1",
   "metadata": {},
   "outputs": [
    {
     "data": {
      "text/plain": [
       "True"
      ]
     },
     "execution_count": 16,
     "metadata": {},
     "output_type": "execute_result"
    }
   ],
   "source": [
    "age_0 = 22\n",
    "age_1 = 18\n",
    "age_0 >=21 and age_1 >= 10"
   ]
  },
  {
   "cell_type": "code",
   "execution_count": 17,
   "id": "6de531dc",
   "metadata": {},
   "outputs": [
    {
     "data": {
      "text/plain": [
       "True"
      ]
     },
     "execution_count": 17,
     "metadata": {},
     "output_type": "execute_result"
    }
   ],
   "source": [
    "age_0 = 22\n",
    "age_1 = 18\n",
    "(age_0 >= 15) and (age_1 >= 15)"
   ]
  },
  {
   "cell_type": "code",
   "execution_count": 18,
   "id": "a929d372",
   "metadata": {},
   "outputs": [
    {
     "data": {
      "text/plain": [
       "True"
      ]
     },
     "execution_count": 18,
     "metadata": {},
     "output_type": "execute_result"
    }
   ],
   "source": [
    "age_0 = 22\n",
    "age_1 = 18\n",
    "(age_0 >= 15) or (age_1 >= 20)"
   ]
  },
  {
   "cell_type": "code",
   "execution_count": 19,
   "id": "51c8faa5",
   "metadata": {},
   "outputs": [
    {
     "data": {
      "text/plain": [
       "True"
      ]
     },
     "execution_count": 19,
     "metadata": {},
     "output_type": "execute_result"
    }
   ],
   "source": [
    "requested_toppings = ['mushrooms','onions','pineapple']\n",
    "'mushrooms' in requested_toppings"
   ]
  },
  {
   "cell_type": "code",
   "execution_count": 20,
   "id": "75848593",
   "metadata": {},
   "outputs": [
    {
     "data": {
      "text/plain": [
       "False"
      ]
     },
     "execution_count": 20,
     "metadata": {},
     "output_type": "execute_result"
    }
   ],
   "source": [
    "requested_toppings = ['mushrooms','onions','pineapple']\n",
    "'pepperoni' in requested_toppings"
   ]
  },
  {
   "cell_type": "code",
   "execution_count": 21,
   "id": "c791cd0a",
   "metadata": {},
   "outputs": [
    {
     "data": {
      "text/plain": [
       "True"
      ]
     },
     "execution_count": 21,
     "metadata": {},
     "output_type": "execute_result"
    }
   ],
   "source": [
    "banned_users = ['andrew','carolina','david']\n",
    "'andy' not in banned_users"
   ]
  },
  {
   "cell_type": "code",
   "execution_count": 22,
   "id": "fa3ef6a0",
   "metadata": {},
   "outputs": [
    {
     "name": "stdout",
     "output_type": "stream",
     "text": [
      "Marie,you can post a response if you wish.\n"
     ]
    }
   ],
   "source": [
    "banned_users = ['andrew','carolina','david']\n",
    "user = 'marie'\n",
    "if user not in banned_users:\n",
    "    print(f\"{user.title()},you can post a response if you wish.\")"
   ]
  },
  {
   "cell_type": "code",
   "execution_count": 25,
   "id": "a92393f2",
   "metadata": {},
   "outputs": [
    {
     "data": {
      "text/plain": [
       "True"
      ]
     },
     "execution_count": 25,
     "metadata": {},
     "output_type": "execute_result"
    }
   ],
   "source": [
    "game_active = True\n",
    "game_active"
   ]
  },
  {
   "cell_type": "markdown",
   "id": "96d5678d",
   "metadata": {},
   "source": [
    "## 5-1~2 练习"
   ]
  },
  {
   "cell_type": "code",
   "execution_count": 33,
   "id": "db54fda9",
   "metadata": {},
   "outputs": [
    {
     "name": "stdout",
     "output_type": "stream",
     "text": [
      "Is car == 'bmw'? I predict True.\n",
      "True\n",
      "\n",
      "Is car == 'audi'? I predict False.\n",
      "False\n",
      "\n",
      "Is number > 6? I predict True.\n",
      "True\n",
      "\n",
      "Is number >20? I predict False.\n",
      "False\n",
      "\n",
      "Is 'orange' in fruits? I predict True.\n",
      "True\n",
      "\n",
      "Is 'lemon' in fruits? I predict False.\n",
      "False\n",
      "\n",
      "Is 1 in numbers  and 4 in numbers? I predict True.\n",
      "True\n",
      "\n",
      "Is 3 in numbers and 2 in numbers? I predict False.\n",
      "True\n",
      "\n",
      "Is 1 in number or 4 in number? I predict True.\n",
      "True\n",
      "\n",
      "Is 2 in numbers or 33 in numbers? I predict False.\n",
      "True\n"
     ]
    }
   ],
   "source": [
    "# 5-1 条件测试\n",
    "car = 'bmw'\n",
    "print(\"Is car == 'bmw'? I predict True.\")\n",
    "print(car == 'bmw')\n",
    "print(\"\\nIs car == 'audi'? I predict False.\")\n",
    "print(car == 'audi')\n",
    "\n",
    "number = 10\n",
    "print(\"\\nIs number > 6? I predict True.\")\n",
    "print(number > 6)\n",
    "print(\"\\nIs number >20? I predict False.\")\n",
    "print(number > 20)\n",
    "\n",
    "fruits = ['apple','banana','pear','orange']\n",
    "print(\"\\nIs 'orange' in fruits? I predict True.\")\n",
    "print('orange' in fruits)\n",
    "print(\"\\nIs 'lemon' in fruits? I predict False.\")\n",
    "print('lemon' in fruits)\n",
    "\n",
    "numbers = [1,4,2,6,8,10,3]\n",
    "print(\"\\nIs 1 in numbers  and 4 in numbers? I predict True.\")\n",
    "print((1 in numbers) and (4 in numbers))\n",
    "print(\"\\nIs 3 in numbers and 2 in numbers? I predict False.\")\n",
    "print(3 in numbers and 2 in numbers)\n",
    "\n",
    "number = [1,3,6,23,65,0]\n",
    "print(\"\\nIs 1 in number or 4 in number? I predict True.\")\n",
    "print(1 in numbers or 4 in numbers)\n",
    "print(\"\\nIs 2 in numbers or 33 in numbers? I predict False.\")\n",
    "print(2 in numbers or 33 in numbers)"
   ]
  },
  {
   "cell_type": "code",
   "execution_count": 49,
   "id": "098ebf23",
   "metadata": {},
   "outputs": [
    {
     "name": "stdout",
     "output_type": "stream",
     "text": [
      "True\n",
      "False\n",
      "False\n",
      "True\n",
      "False\n",
      "True\n",
      "True\n",
      "False\n"
     ]
    }
   ],
   "source": [
    "# 5-2 更多条件测试\n",
    "print('car' == 'car')\n",
    "print('car' == 'bike')\n",
    "print('car' == 'Car')\n",
    "print('car' == 'Car'.lower())\n",
    "print(2>4)\n",
    "print(3>0 and 5<6)\n",
    "lists = [1,4,6,8,0]\n",
    "print(1 in list)\n",
    "print(0 not in lists)"
   ]
  },
  {
   "cell_type": "code",
   "execution_count": 91,
   "id": "9025325e",
   "metadata": {},
   "outputs": [
    {
     "name": "stdout",
     "output_type": "stream",
     "text": [
      "Sorry,your balance is 20,it's insufficient.\n",
      "\n",
      "Sorry,your balance is 5,it's insufficient.\n",
      "\n",
      "You successfully purchased ticket.\n",
      "Your balance now is 30.\n",
      "\n",
      "Sorry,your balance is 3,it's insufficient.\n",
      "\n",
      "You successfully purchased ticket.\n",
      "Your balance now is 0.\n",
      "\n",
      "You successfully purchased ticket.\n",
      "Your balance now is 10.\n",
      "\n"
     ]
    }
   ],
   "source": [
    "# 购票\n",
    "balances = [20,5,60,3,30,40]\n",
    "for balance in balances:\n",
    "    if balance < 30:\n",
    "        print(f\"Sorry,your balance is {balance},it's insufficient.\\n\")\n",
    "    else:\n",
    "        balance_now = balance - 30\n",
    "        print(f\"You successfully purchased ticket.\\nYour balance now is {balance_now}.\\n\")"
   ]
  },
  {
   "cell_type": "code",
   "execution_count": null,
   "id": "54b859ca",
   "metadata": {},
   "outputs": [],
   "source": []
  }
 ],
 "metadata": {
  "kernelspec": {
   "display_name": "Python 3 (ipykernel)",
   "language": "python",
   "name": "python3"
  },
  "language_info": {
   "codemirror_mode": {
    "name": "ipython",
    "version": 3
   },
   "file_extension": ".py",
   "mimetype": "text/x-python",
   "name": "python",
   "nbconvert_exporter": "python",
   "pygments_lexer": "ipython3",
   "version": "3.9.13"
  }
 },
 "nbformat": 4,
 "nbformat_minor": 5
}
