{
 "cells": [
  {
   "cell_type": "markdown",
   "id": "cba529b9",
   "metadata": {},
   "source": [
    "# 6.4 嵌套"
   ]
  },
  {
   "cell_type": "markdown",
   "id": "07b79a2d",
   "metadata": {},
   "source": [
    "## 6.4.1 字典列表"
   ]
  },
  {
   "cell_type": "code",
   "execution_count": 3,
   "id": "1b8804da",
   "metadata": {},
   "outputs": [
    {
     "name": "stdout",
     "output_type": "stream",
     "text": [
      "[{'color': 'green', 'points': 5}, {'color': 'yellow', 'points': 10}, {'color': 'red', 'points': 15}]\n",
      "{'color': 'green', 'points': 5}\n",
      "{'color': 'yellow', 'points': 10}\n",
      "{'color': 'red', 'points': 15}\n"
     ]
    }
   ],
   "source": [
    "# 将一系列字典放在列表当中\n",
    "alien_0 = {'color':'green','points':5}\n",
    "alien_1 = {'color':'yellow','points':10}\n",
    "alien_2 = {'color':'red','points':15}\n",
    "aliens = [alien_0,alien_1,alien_2]\n",
    "print(aliens)\n",
    "# 遍历列表并将每个作为元素的字典都打出来\n",
    "for alien in aliens:\n",
    "    print(alien)"
   ]
  },
  {
   "cell_type": "code",
   "execution_count": 18,
   "id": "92e43fd8",
   "metadata": {},
   "outputs": [
    {
     "name": "stdout",
     "output_type": "stream",
     "text": [
      "{'color': 'green', 'points': 5, 'speed': 'slow'}\n",
      "{'color': 'green', 'points': 5, 'speed': 'slow'}\n",
      "{'color': 'green', 'points': 5, 'speed': 'slow'}\n",
      "{'color': 'green', 'points': 5, 'speed': 'slow'}\n",
      "{'color': 'green', 'points': 5, 'speed': 'slow'}\n",
      "...\n",
      "Total number of aliens :30\n"
     ]
    }
   ],
   "source": [
    "# 代码自动生成字典\n",
    "aliens = []\n",
    "for alien_number in range(30):\n",
    "    new_alien = {'color':'green','points':5,'speed':'slow'}\n",
    "    aliens.append(new_alien)\n",
    "for alien in aliens[:5]:\n",
    "    print(alien)\n",
    "print('...')\n",
    "print(f'Total number of aliens :{len(aliens)}')"
   ]
  },
  {
   "cell_type": "code",
   "execution_count": 16,
   "id": "e13ff574",
   "metadata": {},
   "outputs": [
    {
     "name": "stdout",
     "output_type": "stream",
     "text": [
      "{'color': 'yellow', 'points': 10, 'speed': 'medium'}\n",
      "{'color': 'yellow', 'points': 10, 'speed': 'medium'}\n",
      "{'color': 'yellow', 'points': 10, 'speed': 'medium'}\n",
      "{'color': 'green', 'points': 5, 'speed': 'slow'}\n",
      "{'color': 'green', 'points': 5, 'speed': 'slow'}\n",
      "...\n"
     ]
    }
   ],
   "source": [
    "# 代码自动生成字典（键值对不同）\n",
    "aliens = []\n",
    "for alien_number in range(30):\n",
    "    new_alien = {'color':'green','points':5,'speed':'slow'}\n",
    "    aliens.append(new_alien)\n",
    "for alien in aliens[:3]:\n",
    "    if alien['color'] == 'green':\n",
    "        alien['color'] = 'yellow'\n",
    "        alien['speed'] = 'medium'\n",
    "        alien['points'] = 10\n",
    "for alien in aliens[:5]:\n",
    "    print(alien)\n",
    "print('...')"
   ]
  },
  {
   "cell_type": "code",
   "execution_count": 31,
   "id": "70e152bb",
   "metadata": {},
   "outputs": [
    {
     "name": "stdout",
     "output_type": "stream",
     "text": [
      "{'color': 'green', 'points': 5, 'speed': 'slow'}\n",
      "{'color': 'yellow', 'points': 10, 'speed': 'medium'}\n",
      "{'color': 'green', 'points': 5, 'speed': 'slow'}\n",
      "{'color': 'yellow', 'points': 10, 'speed': 'medium'}\n",
      "{'color': 'green', 'points': 5, 'speed': 'slow'}\n",
      "...\n",
      "\n",
      "{'color': 'yellow', 'points': 10, 'speed': 'medium'}\n",
      "{'color': 'red', 'points': 15, 'speed': 'fast'}\n",
      "{'color': 'yellow', 'points': 10, 'speed': 'medium'}\n",
      "{'color': 'red', 'points': 15, 'speed': 'fast'}\n",
      "{'color': 'yellow', 'points': 10, 'speed': 'medium'}\n",
      "...\n"
     ]
    }
   ],
   "source": [
    "# 修改外星人属性\n",
    "aliens = []\n",
    "for alien_number in range(0,15):\n",
    "    new_alien = {'color':'green','points':5,'speed':'slow'}\n",
    "    aliens.append(new_alien)\n",
    "    new_alien = {'color':'yellow','points':10,'speed':'medium'}\n",
    "    aliens.append(new_alien)\n",
    "for alien in aliens[:5]:\n",
    "   print(alien)\n",
    "print('...')\n",
    "print()\n",
    "for alien in aliens[:5]:\n",
    "    if alien['color'] == 'green':\n",
    "        alien['color'] = 'yellow'\n",
    "        alien['speed'] = 'medium'\n",
    "        alien['points'] = 10\n",
    "    elif alien['color'] == 'yellow':\n",
    "        alien['color'] = 'red'\n",
    "        alien['speed'] = 'fast'\n",
    "        alien['points'] = 15\n",
    "for alien in aliens[:5]:\n",
    "    print(alien)\n",
    "print('...')"
   ]
  },
  {
   "cell_type": "markdown",
   "id": "c0927338",
   "metadata": {},
   "source": [
    "## 6.4.2 在字典中存储列表"
   ]
  },
  {
   "cell_type": "code",
   "execution_count": 43,
   "id": "229fbd1e",
   "metadata": {},
   "outputs": [
    {
     "name": "stdout",
     "output_type": "stream",
     "text": [
      "You ordered a thick-crust pizza with the following toppings:\n",
      "\tmushroom\n",
      "\textra cheese\n"
     ]
    }
   ],
   "source": [
    "# 描述披萨的字典\n",
    "pizza = {\n",
    "    'crust':'thick',\n",
    "    'toppings':['mushroom','extra cheese'],\n",
    "    }\n",
    "print(f\"You ordered a {pizza['crust']}-crust pizza with the following toppings:\")\n",
    "for topping in pizza['toppings']:\n",
    "    print(f\"\\t{topping}\")"
   ]
  },
  {
   "cell_type": "code",
   "execution_count": 56,
   "id": "4fb6229d",
   "metadata": {},
   "outputs": [
    {
     "name": "stdout",
     "output_type": "stream",
     "text": [
      "Jen's favorite languages are:\n",
      "\tPython\n",
      "\tRuby\n",
      "\n",
      "\n",
      "Sarah's favorite languages is:\n",
      "\tC\n",
      "\n",
      "\n",
      "Edward's favorite languages are:\n",
      "\tRuby\n",
      "\tGo\n",
      "\n",
      "\n",
      "Phil's favorite languages are:\n",
      "\tPython\n",
      "\tHaskell\n",
      "\n",
      "\n"
     ]
    }
   ],
   "source": [
    "# 喜欢的编程语言调查——将喜欢的语言编程字典中的列表并遍历列表\n",
    "favorite_languages = {\n",
    "    'jen':['python','ruby'],\n",
    "    'sarah':['c'],\n",
    "    'edward':['ruby','go'],\n",
    "    'phil':['python','haskell'],\n",
    "    }\n",
    "for name,languages in favorite_languages.items():\n",
    "    if len(languages) == 2:\n",
    "        print(f\"{name.title()}'s favorite languages are:\")\n",
    "        for language in languages:\n",
    "            print(f\"\\t{language.title()}\")\n",
    "        print(\"\\n\")\n",
    "    elif len(languages) == 1:\n",
    "        print(f\"{name.title()}'s favorite languages is:\")\n",
    "        for language in languages:\n",
    "            print(f\"\\t{language.title()}\")\n",
    "            print(\"\\n\")"
   ]
  },
  {
   "cell_type": "markdown",
   "id": "3795af53",
   "metadata": {},
   "source": [
    "## 6.4.3 在字典中存储字典"
   ]
  },
  {
   "cell_type": "code",
   "execution_count": 59,
   "id": "4c6067a9",
   "metadata": {},
   "outputs": [
    {
     "name": "stdout",
     "output_type": "stream",
     "text": [
      "\n",
      "Username:Aeinstein\n",
      "\tFull name:Albert Einstein\n",
      "\tLocation:Princeton\n",
      "\n",
      "Username:Mcurie\n",
      "\tFull name:Marie Curie\n",
      "\tLocation:Paris\n"
     ]
    }
   ],
   "source": [
    "users = {\n",
    "    'aeinstein' : {\n",
    "        'first':'albert',\n",
    "        'last':'einstein',\n",
    "        'location':'princeton',\n",
    "        },\n",
    "    'mcurie':{\n",
    "        'first':'marie',\n",
    "        'last':'curie',\n",
    "        'location':'paris',\n",
    "        },\n",
    "    }\n",
    "for username,user_info in users.items():\n",
    "    print(f\"\\nUsername:{username.title()}\")\n",
    "    full_name = f\"{user_info['first']} {user_info['last']}\"\n",
    "    print(f\"\\tFull name:{full_name.title()}\")\n",
    "    print(f\"\\tLocation:{user_info['location'].title()}\")"
   ]
  },
  {
   "cell_type": "markdown",
   "id": "31565b42",
   "metadata": {},
   "source": [
    "## 6.4 练习"
   ]
  },
  {
   "cell_type": "code",
   "execution_count": 66,
   "id": "23ee5333",
   "metadata": {},
   "outputs": [
    {
     "name": "stdout",
     "output_type": "stream",
     "text": [
      "first_name:Bo Wen\n",
      "last_name:Wang\n",
      "age:20\n",
      "city:Xi'an,Shaanxi\n",
      "\n",
      "\n",
      "first_name:Ying\n",
      "last_name:Liu\n",
      "age:20\n",
      "city:Nan Jing\n",
      "\n",
      "\n",
      "first_name:Shu Ping\n",
      "last_name:Zhang\n",
      "age:20\n",
      "city:Guang Zhou\n",
      "\n",
      "\n"
     ]
    }
   ],
   "source": [
    "# 6-7 人们\n",
    "wbw_info = {'first_name':'Bo Wen','last_name':'Wang','age':20,'city':\"Xi'an,Shaanxi\"}\n",
    "ly_info = {'first_name':'Ying','last_name':'Liu','age':20,'city':'Nan Jing'}\n",
    "zsp_info = {'first_name':'Shu Ping','last_name':'Zhang','age':20,'city':'Guang Zhou'}\n",
    "users = [wbw_info,ly_info,zsp_info]\n",
    "for user in users:\n",
    "    for key,value in user.items():\n",
    "        print(f\"{key}:{value}\")\n",
    "    print(\"\\n\")"
   ]
  },
  {
   "cell_type": "code",
   "execution_count": 72,
   "id": "89a6d577",
   "metadata": {},
   "outputs": [
    {
     "name": "stdout",
     "output_type": "stream",
     "text": [
      "{'type': 'dog', 'owner': 'wbw'}\n",
      "{'type': 'cat', 'owner': 'ly'}\n",
      "{'type': 'bird', 'owner': 'zsp'}\n",
      "\n",
      "type:dog\n",
      "owner:wbw\n",
      "\n",
      "type:cat\n",
      "owner:ly\n",
      "\n",
      "type:bird\n",
      "owner:zsp\n",
      "\n"
     ]
    }
   ],
   "source": [
    "# 6-8 宠物\n",
    "pet_0 = {'type':'dog','owner':'wbw'}\n",
    "pet_1 = {'type':'cat','owner':'ly'}\n",
    "pet_2 = {'type':'bird','owner':'zsp'}\n",
    "pets = [pet_0,pet_1,pet_2]\n",
    "for pet in pets:\n",
    "    print(pet)\n",
    "print()\n",
    "for pet in pets:\n",
    "    for key,value in pet.items():\n",
    "        print(f\"{key}:{value}\")\n",
    "    print()"
   ]
  },
  {
   "cell_type": "code",
   "execution_count": 95,
   "id": "f0d38fcb",
   "metadata": {},
   "outputs": [
    {
     "name": "stdout",
     "output_type": "stream",
     "text": [
      "Wbw's favorite place are:\n",
      "Gan Zhou\n",
      "Chang Sha\n",
      "Nan Jing\n",
      "\n",
      "Ly's favorite place are:\n",
      "Gan Zhou\n",
      "Xi'an\n",
      "\n",
      "Zsp's favorite place is:\n",
      "Bei Jing\n",
      "\n"
     ]
    }
   ],
   "source": [
    "# 6-9 喜欢的地方\n",
    "favorite_places = {\n",
    "    'wbw':['Gan Zhou','Chang Sha','Nan Jing'],\n",
    "    'ly':['Gan Zhou',\"Xi'an\"],\n",
    "    'zsp':['Bei Jing'],\n",
    "    }\n",
    "for key,values in favorite_places.items():\n",
    "    if len(values) == 1:\n",
    "        print(f\"{key.title()}'s favorite place is:\")\n",
    "        for value in values:\n",
    "            print(value)\n",
    "        print()\n",
    "    else:\n",
    "        print(f\"{key.title()}'s favorite place are:\")\n",
    "        for value in values:\n",
    "            print(value)\n",
    "        print()\n",
    "\n",
    "                  "
   ]
  },
  {
   "cell_type": "code",
   "execution_count": 100,
   "id": "bc29bf82",
   "metadata": {},
   "outputs": [
    {
     "name": "stdout",
     "output_type": "stream",
     "text": [
      "Ly's favorite numbers are:\n",
      "2\n",
      "4\n",
      "12\n",
      "6\n",
      "\n",
      "Wbw's favorite numbers are:\n",
      "32\n",
      "23\n",
      "67\n",
      "1\n",
      "2\n",
      "8\n",
      "\n",
      "Zsp's favorite number is:\n",
      "6\n",
      "\n",
      "Hzq's favorite numbers are:\n",
      "5\n",
      "1\n",
      "6\n",
      "8\n",
      "90\n",
      "\n",
      "Ljy's favorite number is:\n",
      "1\n",
      "\n"
     ]
    }
   ],
   "source": [
    "# 6-10 喜欢的数2\n",
    "favorite_numbers = {\n",
    "    'ly':[2,4,12,6],\n",
    "    'wbw':[32,23,67,1,2,8],\n",
    "    'zsp':[6],\n",
    "    'hzq':[5,1,6,8,90],\n",
    "    'ljy':[1],\n",
    "    }\n",
    "for name,numbers in favorite_numbers.items():\n",
    "    if len(numbers) == 1:\n",
    "        print(f\"{name.title()}'s favorite number is:\")\n",
    "        for number in numbers:\n",
    "            print(number)\n",
    "        print()\n",
    "    else:\n",
    "        print(f\"{name.title()}'s favorite numbers are:\")\n",
    "        for number in numbers:\n",
    "              print(number)\n",
    "        print()"
   ]
  },
  {
   "cell_type": "code",
   "execution_count": 107,
   "id": "621c7839",
   "metadata": {},
   "outputs": [
    {
     "name": "stdout",
     "output_type": "stream",
     "text": [
      "Here is a piece of information about SHANGHAI:\n",
      "Country:China\n",
      "Population:24894300\n",
      "Fact:The Oriental Pearl Tower is located in Shanghai.\n",
      "\n",
      "Here is a piece of information about LONDON:\n",
      "Country:UK\n",
      "Population:67026000\n",
      "Fact:London is located in Europe.\n",
      "\n",
      "Here is a piece of information about NEW YORK:\n",
      "Country:America\n",
      "Population:8823500\n",
      "Fact:Statue of Liberty is located in New York\n",
      "\n"
     ]
    }
   ],
   "source": [
    "# 6-11 城市\n",
    "cities = {\n",
    "    'Shanghai':{'country':'China','population':24894300,'fact':'The Oriental Pearl Tower is located in Shanghai.'},\n",
    "    'London':{'country':'UK','population':67026000,'fact':'London is located in Europe.'},\n",
    "    'New York':{'country':'America','population':8823500,'fact':'Statue of Liberty is located in New York'},\n",
    "    }\n",
    "for city,info in cities.items():\n",
    "    print(f\"Here is a piece of information about {city.upper()}:\")\n",
    "    for key,value in info.items():\n",
    "        print(f\"{key.title()}:{value}\")\n",
    "    print()"
   ]
  }
 ],
 "metadata": {
  "kernelspec": {
   "display_name": "Python 3 (ipykernel)",
   "language": "python",
   "name": "python3"
  },
  "language_info": {
   "codemirror_mode": {
    "name": "ipython",
    "version": 3
   },
   "file_extension": ".py",
   "mimetype": "text/x-python",
   "name": "python",
   "nbconvert_exporter": "python",
   "pygments_lexer": "ipython3",
   "version": "3.9.13"
  }
 },
 "nbformat": 4,
 "nbformat_minor": 5
}
