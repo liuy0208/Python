{
 "cells": [
  {
   "cell_type": "markdown",
   "id": "ba2dc217",
   "metadata": {},
   "source": [
    "# 6.1&2 使用字典"
   ]
  },
  {
   "cell_type": "code",
   "execution_count": 40,
   "id": "dcf96e30",
   "metadata": {},
   "outputs": [
    {
     "name": "stdout",
     "output_type": "stream",
     "text": [
      "green\n",
      "5\n"
     ]
    }
   ],
   "source": [
    "# 简单的字典示例\n",
    "alien_0 = {'color':'green','points':5}\n",
    "print(alien_0['color'])\n",
    "print(alien_0['points'])"
   ]
  },
  {
   "cell_type": "code",
   "execution_count": 5,
   "id": "275d75c8",
   "metadata": {},
   "outputs": [
    {
     "name": "stdout",
     "output_type": "stream",
     "text": [
      "green\n"
     ]
    }
   ],
   "source": [
    "# 访问字典中的值\n",
    "alien_0 = {'color':'green'}\n",
    "print(alien_0['color'])"
   ]
  },
  {
   "cell_type": "code",
   "execution_count": 6,
   "id": "ff816006",
   "metadata": {},
   "outputs": [
    {
     "name": "stdout",
     "output_type": "stream",
     "text": [
      "You just earned 5 points!\n"
     ]
    }
   ],
   "source": [
    "# 访问并使用字典中的值\n",
    "alien_0 = {'color':'green','points':5}\n",
    "new_points = alien_0['points']\n",
    "print(f\"You just earned {new_points} points!\")"
   ]
  },
  {
   "cell_type": "code",
   "execution_count": 8,
   "id": "a306358e",
   "metadata": {},
   "outputs": [
    {
     "name": "stdout",
     "output_type": "stream",
     "text": [
      "{'color': 'green', 'points': 5}\n",
      "{'color': 'green', 'points': 5, 'x_position': 0, 'y_position': 25}\n"
     ]
    }
   ],
   "source": [
    "# 添加键值对\n",
    "alien_0 = {'color':'green','points':5}\n",
    "print(alien_0)\n",
    "alien_0['x_position'] = 0\n",
    "alien_0['y_position'] = 25\n",
    "print(alien_0)"
   ]
  },
  {
   "cell_type": "code",
   "execution_count": 11,
   "id": "b1e80ee7",
   "metadata": {},
   "outputs": [
    {
     "name": "stdout",
     "output_type": "stream",
     "text": [
      "{'color': 'green', 'points': 5}\n"
     ]
    }
   ],
   "source": [
    "# 创建空字典\n",
    "alien_0 = {}\n",
    "alien_0['color'] = 'green'\n",
    "alien_0['points'] = 5\n",
    "print(alien_0)"
   ]
  },
  {
   "cell_type": "code",
   "execution_count": 12,
   "id": "b1256ba3",
   "metadata": {},
   "outputs": [
    {
     "name": "stdout",
     "output_type": "stream",
     "text": [
      "{'color': 'green', 'points': 5}\n",
      "{'color': 'red', 'points': 5}\n"
     ]
    }
   ],
   "source": [
    "# 修改字典中的值\n",
    "alien_0 = {'color':'green','points':5}\n",
    "print(alien_0)\n",
    "alien_0['color'] = 'red'\n",
    "print(alien_0)"
   ]
  },
  {
   "cell_type": "code",
   "execution_count": 19,
   "id": "bd0149f6",
   "metadata": {},
   "outputs": [
    {
     "name": "stdout",
     "output_type": "stream",
     "text": [
      "Original x-position:0\n",
      "New x-position:2\n"
     ]
    }
   ],
   "source": [
    "# if语句下修改字典中的值\n",
    "alien_0 = {'x_position':0,'y_position':25,'speed':'medium'}\n",
    "print(f\"Original x-position:{alien_0['x_position']}\")\n",
    "if alien_0['speed'] == 'slow':\n",
    "    x_increment = 1\n",
    "elif alien_0['speed'] == 'medium':\n",
    "    x_increment = 2\n",
    "else:\n",
    "    x_increment = 3\n",
    "alien_0['x_position'] = alien_0['x_position'] + x_increment\n",
    "print(f\"New x-position:{alien_0['x_position']}\")"
   ]
  },
  {
   "cell_type": "code",
   "execution_count": 20,
   "id": "6e49e8f9",
   "metadata": {},
   "outputs": [
    {
     "name": "stdout",
     "output_type": "stream",
     "text": [
      "Original x-position:0\n",
      "New x-position:3\n"
     ]
    }
   ],
   "source": [
    "# if语句下修改字典中的值\n",
    "alien_0 = {'x_position':0,'y_position':25,'speed':'medium'}\n",
    "print(f\"Original x-position:{alien_0['x_position']}\")\n",
    "alien_0['speed'] = 'fast'\n",
    "if alien_0['speed'] == 'slow':\n",
    "    x_increment = 1\n",
    "elif alien_0['speed'] == 'medium':\n",
    "    x_increment = 2\n",
    "else:\n",
    "    x_increment = 3\n",
    "alien_0['x_position'] = alien_0['x_position'] + x_increment\n",
    "print(f\"New x-position:{alien_0['x_position']}\")"
   ]
  },
  {
   "cell_type": "code",
   "execution_count": 22,
   "id": "beaec755",
   "metadata": {},
   "outputs": [
    {
     "name": "stdout",
     "output_type": "stream",
     "text": [
      "{'color': 'green', 'points': 5}\n",
      "{'points': 5}\n"
     ]
    }
   ],
   "source": [
    "# del语句删除键值对\n",
    "alien_0 = {'color':'green','points':5}\n",
    "print(alien_0)\n",
    "del alien_0['color']\n",
    "print(alien_0)"
   ]
  },
  {
   "cell_type": "code",
   "execution_count": 34,
   "id": "e30b816b",
   "metadata": {},
   "outputs": [
    {
     "name": "stdout",
     "output_type": "stream",
     "text": [
      "{'jen': 'python', 'sarah': 'c', 'edward': 'ruby', 'phil': 'python'}\n",
      "{'jen': 'python', 'sarah': 'c', 'edward': 'ruby', 'phil': 'python'}\n",
      "Sarah's favorite language is C.\n"
     ]
    }
   ],
   "source": [
    "# 由类似对象组成的字典\n",
    "favorite_languages = {'jen':'python','sarah':'c','edward':'ruby','phil':'python'}\n",
    "print(favorite_languages)\n",
    "\n",
    "favorite_languages = {\n",
    "    'jen':'python',\n",
    "    'sarah':'c',\n",
    "    'edward':'ruby',\n",
    "    'phil':'python',\n",
    "    }\n",
    "print(favorite_languages)\n",
    "print(f\"Sarah's favorite language is {favorite_languages['sarah'].title()}.\")"
   ]
  },
  {
   "cell_type": "code",
   "execution_count": 35,
   "id": "07ba9398",
   "metadata": {},
   "outputs": [
    {
     "ename": "KeyError",
     "evalue": "'speed'",
     "output_type": "error",
     "traceback": [
      "\u001b[1;31m---------------------------------------------------------------------------\u001b[0m",
      "\u001b[1;31mKeyError\u001b[0m                                  Traceback (most recent call last)",
      "\u001b[1;32m~\\AppData\\Local\\Temp\\ipykernel_45340\\1601440332.py\u001b[0m in \u001b[0;36m<module>\u001b[1;34m\u001b[0m\n\u001b[0;32m      1\u001b[0m \u001b[1;31m# 用方法get()访问值\u001b[0m\u001b[1;33m\u001b[0m\u001b[1;33m\u001b[0m\u001b[0m\n\u001b[0;32m      2\u001b[0m \u001b[0malien_0\u001b[0m \u001b[1;33m=\u001b[0m \u001b[1;33m{\u001b[0m\u001b[1;34m'color'\u001b[0m\u001b[1;33m:\u001b[0m\u001b[1;34m'green'\u001b[0m\u001b[1;33m,\u001b[0m\u001b[1;34m'points'\u001b[0m\u001b[1;33m:\u001b[0m\u001b[1;36m5\u001b[0m\u001b[1;33m}\u001b[0m\u001b[1;33m\u001b[0m\u001b[1;33m\u001b[0m\u001b[0m\n\u001b[1;32m----> 3\u001b[1;33m \u001b[0mprint\u001b[0m\u001b[1;33m(\u001b[0m\u001b[0malien_0\u001b[0m\u001b[1;33m[\u001b[0m\u001b[1;34m'speed'\u001b[0m\u001b[1;33m]\u001b[0m\u001b[1;33m)\u001b[0m\u001b[1;33m\u001b[0m\u001b[1;33m\u001b[0m\u001b[0m\n\u001b[0m",
      "\u001b[1;31mKeyError\u001b[0m: 'speed'"
     ]
    }
   ],
   "source": [
    "# 用方法get()访问值\n",
    "alien_0 = {'color':'green','points':5}\n",
    "print(alien_0['speed'])"
   ]
  },
  {
   "cell_type": "code",
   "execution_count": 36,
   "id": "db60f15d",
   "metadata": {},
   "outputs": [
    {
     "name": "stdout",
     "output_type": "stream",
     "text": [
      "No speed value assigned.\n"
     ]
    }
   ],
   "source": [
    "# 用方法get()访问值\n",
    "alien_0 = {'color':'green','points':5}\n",
    "point_value = alien_0.get('speed','No speed value assigned.')\n",
    "print(point_value)"
   ]
  },
  {
   "cell_type": "code",
   "execution_count": 39,
   "id": "f56d2308",
   "metadata": {},
   "outputs": [
    {
     "name": "stdout",
     "output_type": "stream",
     "text": [
      "None\n"
     ]
    }
   ],
   "source": [
    "# 用方法get()访问值\n",
    "alien_0 = {'color':'green','points':5}\n",
    "speed_value = alien_0.get('speed')\n",
    "print(speed_value)"
   ]
  },
  {
   "cell_type": "markdown",
   "id": "b7c803b8",
   "metadata": {},
   "source": [
    "## 6-1~3 练习"
   ]
  },
  {
   "cell_type": "code",
   "execution_count": 48,
   "id": "2b2b3fcf",
   "metadata": {},
   "outputs": [
    {
     "name": "stdout",
     "output_type": "stream",
     "text": [
      "{'first_name': 'Bo Wen', 'last_name': 'Wang', 'age': 20, 'city': \"Xi'an,Shaanxi\"}\n",
      "\n",
      "first_name\n",
      "last_name\n",
      "age\n",
      "city\n",
      "\n"
     ]
    }
   ],
   "source": [
    "# 6-1 人\n",
    "information_wbw = {'first_name':'Bo Wen','last_name':'Wang','age':20,'city':\"Xi'an,Shaanxi\"}\n",
    "print(f\"{information_wbw}\\n\")\n",
    "\n",
    "for information in information_wbw:\n",
    "    print(information)\n",
    "print()"
   ]
  },
  {
   "cell_type": "code",
   "execution_count": 61,
   "id": "fdf32c3c",
   "metadata": {},
   "outputs": [
    {
     "name": "stdout",
     "output_type": "stream",
     "text": [
      "{'first_name': 'Bo Wen', 'last_name': 'Wang', 'age': 20, 'city': \"Xi'an,Shaanxi\"}\n",
      "\n",
      "('first_name', 'Bo Wen')\n",
      "('last_name', 'Wang')\n",
      "('age', 20)\n",
      "('city', \"Xi'an,Shaanxi\")\n",
      "\n",
      "first_name Bo Wen\n",
      "last_name Wang\n",
      "age 20\n",
      "city Xi'an,Shaanxi\n"
     ]
    }
   ],
   "source": [
    "# 6-1 人???可以打印出冒号的形式吗？“first_name:xxx”\n",
    "information_wbw = {'first_name':'Bo Wen','last_name':'Wang','age':20,'city':\"Xi'an,Shaanxi\"}\n",
    "print(f\"{information_wbw}\\n\")\n",
    "for information in information_wbw.items():\n",
    "    print(information)\n",
    "print()\n",
    "for key,value in information_wbw.items():\n",
    "    print(key,value)"
   ]
  },
  {
   "cell_type": "code",
   "execution_count": 80,
   "id": "6712a1c7",
   "metadata": {},
   "outputs": [
    {
     "name": "stdout",
     "output_type": "stream",
     "text": [
      "{'ly': 2, 'wbw': 3, 'zsp': 6, 'hzq': 5, 'ljy': 1}\n",
      "\n",
      "ly 2\n",
      "wbw 3\n",
      "zsp 6\n",
      "hzq 5\n",
      "ljy 1\n",
      "\n",
      "LY's favorite number is 2.\n",
      "WBW's favorite number is 3.\n",
      "ZSP's favorite number is 6.\n",
      "HZQ's favorite number is 5.\n",
      "LJY's favorite number is 1.\n"
     ]
    }
   ],
   "source": [
    "# 6-2 喜欢的数\n",
    "favorite_numbers = {\n",
    "    'ly':2,\n",
    "    'wbw':3,\n",
    "    'zsp':6,\n",
    "    'hzq':5,\n",
    "    'ljy':1,\n",
    "    }\n",
    "print(favorite_numbers)\n",
    "print()\n",
    "for key,value in favorite_numbers.items():\n",
    "    print(key,value)\n",
    "print()\n",
    "for key,value in favorite_numbers.items():\n",
    "    print(f\"{key.upper()}'s favorite number is {value}.\")"
   ]
  },
  {
   "cell_type": "code",
   "execution_count": 84,
   "id": "f951e340",
   "metadata": {},
   "outputs": [
    {
     "name": "stdout",
     "output_type": "stream",
     "text": [
      "\"variable\"这个术语的意思是\"变量\"\n",
      "\n",
      "\"interpreter\"这个术语的意思是\"解释器\"\n",
      "\n",
      "\"block\"这个术语的意思是\"块\"\n",
      "\n",
      "\"identifier\"这个术语的意思是\"标识符\"\n",
      "\n",
      "\"function\"这个术语的意思是\"函数\"\n",
      "\n"
     ]
    }
   ],
   "source": [
    "# 6-3 词汇表\n",
    "dictionaries = {'variable':'变量',\n",
    "               'interpreter':'解释器',\n",
    "               'block':'块',\n",
    "                'identifier':'标识符',\n",
    "                'function':'函数',\n",
    "               }\n",
    "for key,value in dictionaries.items():\n",
    "    print(f'\"{key}\"这个术语的意思是\"{value}\"\\n')"
   ]
  },
  {
   "cell_type": "code",
   "execution_count": 86,
   "id": "e959f19c",
   "metadata": {},
   "outputs": [
    {
     "name": "stdout",
     "output_type": "stream",
     "text": [
      "variable:变量\n",
      "\n",
      "interpreter:解释器\n",
      "\n",
      "block:块\n",
      "\n",
      "identifier:标识符\n",
      "\n",
      "function:函数\n",
      "\n"
     ]
    }
   ],
   "source": [
    "# 6-3 词汇表\n",
    "dictionaries = {'variable':'变量',\n",
    "               'interpreter':'解释器',\n",
    "               'block':'块',\n",
    "                'identifier':'标识符',\n",
    "                'function':'函数',\n",
    "               }\n",
    "for key,value in dictionaries.items():\n",
    "    print(f'{key}:{value}\\n')"
   ]
  },
  {
   "cell_type": "code",
   "execution_count": 89,
   "id": "351335f9",
   "metadata": {},
   "outputs": [
    {
     "name": "stdout",
     "output_type": "stream",
     "text": [
      "variable的意思是：变量\n",
      "\n",
      "interpreter的意思是：解释器\n",
      "\n",
      "block的意思是：块\n",
      "\n",
      "identifier的意思是：标识符\n",
      "\n",
      "function的意思是：函数\n",
      "\n"
     ]
    }
   ],
   "source": [
    "# 6-3 词汇表\n",
    "dictionaries = {'variable':'变量',\n",
    "               'interpreter':'解释器',\n",
    "               'block':'块',\n",
    "                'identifier':'标识符',\n",
    "                'function':'函数',\n",
    "               }\n",
    "for word in dictionaries:\n",
    "    print(f'{word}的意思是：{dictionaries[word]}\\n')"
   ]
  }
 ],
 "metadata": {
  "kernelspec": {
   "display_name": "Python 3 (ipykernel)",
   "language": "python",
   "name": "python3"
  },
  "language_info": {
   "codemirror_mode": {
    "name": "ipython",
    "version": 3
   },
   "file_extension": ".py",
   "mimetype": "text/x-python",
   "name": "python",
   "nbconvert_exporter": "python",
   "pygments_lexer": "ipython3",
   "version": "3.9.13"
  }
 },
 "nbformat": 4,
 "nbformat_minor": 5
}
