{
 "cells": [
  {
   "cell_type": "markdown",
   "id": "c7c5afe1",
   "metadata": {},
   "source": [
    "# 6.3 遍历字典"
   ]
  },
  {
   "cell_type": "markdown",
   "id": "3f2c9d2f",
   "metadata": {},
   "source": [
    "## 6.3.1 遍历所有键值对"
   ]
  },
  {
   "cell_type": "code",
   "execution_count": 5,
   "id": "864cf75d",
   "metadata": {
    "scrolled": true
   },
   "outputs": [
    {
     "name": "stdout",
     "output_type": "stream",
     "text": [
      "\n",
      "username:efermi\n",
      "\n",
      "first:enrico\n",
      "\n",
      "last:fermi\n"
     ]
    }
   ],
   "source": [
    "user_0 = {\n",
    "    'username':'efermi',\n",
    "    'first':'enrico',\n",
    "    'last':'fermi',\n",
    "    }\n",
    "for key,value in user_0.items():\n",
    "    print(f'\\n{key}:{value}')"
   ]
  },
  {
   "cell_type": "code",
   "execution_count": 7,
   "id": "c780c903",
   "metadata": {},
   "outputs": [
    {
     "name": "stdout",
     "output_type": "stream",
     "text": [
      "Jen's favorite language is 'PYTHON'.\n",
      "\n",
      "Sarah's favorite language is 'C'.\n",
      "\n",
      "Edward's favorite language is 'RUBY'.\n",
      "\n",
      "Phil's favorite language is 'PYTHON'.\n",
      "\n"
     ]
    }
   ],
   "source": [
    "favorite_languages = {\n",
    "    'jen':'python',\n",
    "    'sarah':'c',\n",
    "    'edward':'ruby',\n",
    "    'phil':'python',\n",
    "    }\n",
    "for name,language in favorite_languages.items():\n",
    "    print(f\"{name.title()}'s favorite language is '{language.upper()}'.\\n\")"
   ]
  },
  {
   "cell_type": "markdown",
   "id": "85dc5e80",
   "metadata": {},
   "source": [
    "## 6.3.2 遍历字典中的所有键"
   ]
  },
  {
   "cell_type": "code",
   "execution_count": 8,
   "id": "14ff737b",
   "metadata": {},
   "outputs": [
    {
     "name": "stdout",
     "output_type": "stream",
     "text": [
      "Jen\n",
      "Sarah\n",
      "Edward\n",
      "Phil\n"
     ]
    }
   ],
   "source": [
    "favorite_languages = {\n",
    "    'jen':'python',\n",
    "    'sarah':'c',\n",
    "    'edward':'ruby',\n",
    "    'phil':'python',\n",
    "    }\n",
    "for name in favorite_languages.keys():\n",
    "    print(name.title())"
   ]
  },
  {
   "cell_type": "code",
   "execution_count": 9,
   "id": "17c32a0f",
   "metadata": {},
   "outputs": [
    {
     "name": "stdout",
     "output_type": "stream",
     "text": [
      "Jen\n",
      "Sarah\n",
      "Edward\n",
      "Phil\n"
     ]
    }
   ],
   "source": [
    "#遍历字典时默认遍历所有的键\n",
    "favorite_languages = {\n",
    "    'jen':'python',\n",
    "    'sarah':'c',\n",
    "    'edward':'ruby',\n",
    "    'phil':'python',\n",
    "    }\n",
    "for name in favorite_languages:\n",
    "    print(name.title())"
   ]
  },
  {
   "cell_type": "code",
   "execution_count": 17,
   "id": "868d382d",
   "metadata": {},
   "outputs": [
    {
     "name": "stdout",
     "output_type": "stream",
     "text": [
      "Hi Jen.\n",
      "Hi Sarah.\n",
      "    Sarah I see you love C!\n",
      "Hi Edward.\n",
      "Hi Phil.\n",
      "    Phil I see you love Python!\n"
     ]
    }
   ],
   "source": [
    "# 使用当前键访问与之相关联的值\n",
    "favorite_languages = {\n",
    "    'jen':'python',\n",
    "    'sarah':'c',\n",
    "    'edward':'ruby',\n",
    "    'phil':'python',\n",
    "    }\n",
    "friends = ['sarah','phil']\n",
    "for name in favorite_languages.keys():\n",
    "    if name in friends:\n",
    "        print(f'Hi {name.title()}.\\n    {name.title()} I see you love {favorite_languages[name].title()}!')\n",
    "    else:\n",
    "        print(f'Hi {name.title()}.')"
   ]
  },
  {
   "cell_type": "code",
   "execution_count": 19,
   "id": "cb7a7f35",
   "metadata": {},
   "outputs": [
    {
     "name": "stdout",
     "output_type": "stream",
     "text": [
      "Hi Jen.\n",
      "Hi Sarah.\n",
      "    Sarah I see you love C!\n",
      "Hi Edward.\n",
      "Hi Phil.\n",
      "    Phil I see you love Python!\n"
     ]
    }
   ],
   "source": [
    "# 使用当前键访问与之相关联的值(不用方法keys（）得到相同结果)\n",
    "favorite_languages = {\n",
    "    'jen':'python',\n",
    "    'sarah':'c',\n",
    "    'edward':'ruby',\n",
    "    'phil':'python',\n",
    "    }\n",
    "friends = ['sarah','phil']\n",
    "for name in favorite_languages:\n",
    "    if name in friends:\n",
    "        print(f'Hi {name.title()}.\\n    {name.title()} I see you love {favorite_languages[name].title()}!')\n",
    "    else:\n",
    "        print(f'Hi {name.title()}.')"
   ]
  },
  {
   "cell_type": "code",
   "execution_count": 27,
   "id": "5aae60fc",
   "metadata": {},
   "outputs": [
    {
     "name": "stdout",
     "output_type": "stream",
     "text": [
      "Erin,please take your toll!\n"
     ]
    }
   ],
   "source": [
    "# 检查某个特定的键是否被包含在字典当中\n",
    "# 方法keys()同样可以省略\n",
    "favorite_languages = {\n",
    "    'jen':'python',\n",
    "    'sarah':'c',\n",
    "    'edward':'ruby',\n",
    "    'phil':'python',\n",
    "    }\n",
    "if 'erin' not in favorite_languages.keys():\n",
    "    print(\"Erin,please take your toll!\")"
   ]
  },
  {
   "cell_type": "markdown",
   "id": "c218183a",
   "metadata": {},
   "source": [
    "## 6.3.3 按特定顺序返回键"
   ]
  },
  {
   "cell_type": "code",
   "execution_count": 32,
   "id": "8d985a4f",
   "metadata": {},
   "outputs": [
    {
     "name": "stdout",
     "output_type": "stream",
     "text": [
      "Edward,thank you for taking the poll.\n",
      "Jen,thank you for taking the poll.\n",
      "Phil,thank you for taking the poll.\n",
      "Sarah,thank you for taking the poll.\n"
     ]
    },
    {
     "ename": "AttributeError",
     "evalue": "'dict' object has no attribute 'reserve'",
     "output_type": "error",
     "traceback": [
      "\u001b[1;31m---------------------------------------------------------------------------\u001b[0m",
      "\u001b[1;31mAttributeError\u001b[0m                            Traceback (most recent call last)",
      "\u001b[1;32m~\\AppData\\Local\\Temp\\ipykernel_10844\\1464038461.py\u001b[0m in \u001b[0;36m<module>\u001b[1;34m\u001b[0m\n\u001b[0;32m     15\u001b[0m     \u001b[1;34m'phil'\u001b[0m\u001b[1;33m:\u001b[0m\u001b[1;34m'python'\u001b[0m\u001b[1;33m,\u001b[0m\u001b[1;33m\u001b[0m\u001b[1;33m\u001b[0m\u001b[0m\n\u001b[0;32m     16\u001b[0m     }\n\u001b[1;32m---> 17\u001b[1;33m \u001b[1;32mfor\u001b[0m \u001b[0mname\u001b[0m \u001b[1;32min\u001b[0m \u001b[0mfavorite_languages\u001b[0m\u001b[1;33m.\u001b[0m\u001b[0mreserve\u001b[0m\u001b[1;33m(\u001b[0m\u001b[1;33m)\u001b[0m\u001b[1;33m:\u001b[0m\u001b[1;33m\u001b[0m\u001b[1;33m\u001b[0m\u001b[0m\n\u001b[0m\u001b[0;32m     18\u001b[0m     \u001b[0mprint\u001b[0m\u001b[1;33m(\u001b[0m\u001b[1;34mf'{name.title()},thank you for taking the poll.'\u001b[0m\u001b[1;33m)\u001b[0m\u001b[1;33m\u001b[0m\u001b[1;33m\u001b[0m\u001b[0m\n",
      "\u001b[1;31mAttributeError\u001b[0m: 'dict' object has no attribute 'reserve'"
     ]
    }
   ],
   "source": [
    "# 函数sorted(),不能用方法sort()\n",
    "favorite_languages = {\n",
    "    'jen':'python',\n",
    "    'sarah':'c',\n",
    "    'edward':'ruby',\n",
    "    'phil':'python',\n",
    "    }\n",
    "for name in sorted(favorite_languages):\n",
    "    print(f'{name.title()},thank you for taking the poll.')\n",
    "    \n",
    "favorite_languages = {\n",
    "    'jen':'python',\n",
    "    'sarah':'c',\n",
    "    'edward':'ruby',\n",
    "    'phil':'python',\n",
    "    }\n",
    "for name in favorite_languages.sort():\n",
    "    print(f'{name.title()},thank you for taking the poll.')"
   ]
  },
  {
   "cell_type": "markdown",
   "id": "887a1dfe",
   "metadata": {},
   "source": [
    "## 6.3.4 遍历字典中的所有值"
   ]
  },
  {
   "cell_type": "code",
   "execution_count": 35,
   "id": "08ae3e5f",
   "metadata": {},
   "outputs": [
    {
     "name": "stdout",
     "output_type": "stream",
     "text": [
      "python\n",
      "c\n",
      "ruby\n",
      "python\n"
     ]
    }
   ],
   "source": [
    "#方法values()\n",
    "favorite_languages = {\n",
    "    'jen':'python',\n",
    "    'sarah':'c',\n",
    "    'edward':'ruby',\n",
    "    'phil':'python',\n",
    "    }\n",
    "for value in favorite_languages.values():\n",
    "    print(value)"
   ]
  },
  {
   "cell_type": "code",
   "execution_count": 38,
   "id": "6e9aaf1a",
   "metadata": {},
   "outputs": [
    {
     "name": "stdout",
     "output_type": "stream",
     "text": [
      "The following languages have been mentioned:\n",
      "Python\n",
      "C\n",
      "Ruby\n",
      "Python\n"
     ]
    }
   ],
   "source": [
    "favorite_languages = {\n",
    "    'jen':'python',\n",
    "    'sarah':'c',\n",
    "    'edward':'ruby',\n",
    "    'phil':'python',\n",
    "    }\n",
    "print(\"The following languages have been mentioned:\")\n",
    "for language in favorite_languages.values():\n",
    "    print(language.title())"
   ]
  },
  {
   "cell_type": "code",
   "execution_count": 47,
   "id": "5bc86deb",
   "metadata": {},
   "outputs": [
    {
     "name": "stdout",
     "output_type": "stream",
     "text": [
      "The following languages have been mentioned:\n",
      "Python\n",
      "C\n",
      "Ruby\n"
     ]
    }
   ],
   "source": [
    "# 集合set剔除重复项\n",
    "favorite_languages = {\n",
    "    'jen':'python',\n",
    "    'sarah':'c',\n",
    "    'edward':'ruby',\n",
    "    'phil':'python',\n",
    "    }\n",
    "print(\"The following languages have been mentioned:\")\n",
    "for language in set(favorite_languages.values()):\n",
    "    print(language.title())"
   ]
  },
  {
   "cell_type": "code",
   "execution_count": 49,
   "id": "e08e5769",
   "metadata": {},
   "outputs": [
    {
     "data": {
      "text/plain": [
       "{'c', 'python', 'ruby'}"
      ]
     },
     "execution_count": 49,
     "metadata": {},
     "output_type": "execute_result"
    }
   ],
   "source": [
    "# 集合\n",
    "languages = {'python','ruby','python','c'}\n",
    "languages"
   ]
  },
  {
   "cell_type": "markdown",
   "id": "94e2bbac",
   "metadata": {},
   "source": [
    "## 6.3 练习"
   ]
  },
  {
   "cell_type": "code",
   "execution_count": 56,
   "id": "1137aaf0",
   "metadata": {},
   "outputs": [
    {
     "name": "stdout",
     "output_type": "stream",
     "text": [
      "Variable:变量\n",
      "Interpreter:解释器\n",
      "Block:块\n",
      "Identifier:标识符\n",
      "Function:函数\n",
      "String:字符串\n",
      "Tuple:元组\n",
      "List:列表\n",
      "Set:集合\n",
      "Dictionaries:字典\n"
     ]
    }
   ],
   "source": [
    "# 6-4 词汇表2\n",
    "dictionaries = {'variable':'变量',\n",
    "               'interpreter':'解释器',\n",
    "               'block':'块',\n",
    "                'identifier':'标识符',\n",
    "                'function':'函数',\n",
    "               }\n",
    "dictionaries['string'] = '字符串'\n",
    "dictionaries['tuple'] = '元组'\n",
    "dictionaries['list'] = '列表'\n",
    "dictionaries['set'] = '集合'\n",
    "dictionaries['dictionaries'] = '字典'\n",
    "for key,value in dictionaries.items():\n",
    "    print(f'{key.title()}:{value}')"
   ]
  },
  {
   "cell_type": "code",
   "execution_count": 61,
   "id": "b3a572bc",
   "metadata": {},
   "outputs": [
    {
     "name": "stdout",
     "output_type": "stream",
     "text": [
      "The Nile runs through Egypt.\n",
      "The Amazon runs through Brazil.\n",
      "The Yangtze runs through China.\n",
      "\n",
      "Nile\n",
      "Amazon\n",
      "Yangtze\n",
      "\n",
      "EGYPT\n",
      "BRAZIL\n",
      "CHINA\n"
     ]
    }
   ],
   "source": [
    "# 6-5 河流\n",
    "rivers = {'nile':'egypt','amazon':'brazil','Yangtze':'China'}\n",
    "for river,country in rivers.items():\n",
    "    print(f'The {river.title()} runs through {country.title()}.')\n",
    "print()\n",
    "for river in rivers.keys():\n",
    "    print(river.title())\n",
    "print()\n",
    "for country in rivers.values():\n",
    "    print(country.upper())"
   ]
  },
  {
   "cell_type": "code",
   "execution_count": 63,
   "id": "d5c12999",
   "metadata": {},
   "outputs": [
    {
     "name": "stdout",
     "output_type": "stream",
     "text": [
      "Jen,thank you for taking the poll!\n",
      "Sarah,thank you for taking the poll!\n",
      "Andy,would you like to take the poll?\n",
      "Candy,would you like to take the poll?\n",
      "Edward,thank you for taking the poll!\n",
      "Lucy,would you like to take the poll?\n",
      "Phil,thank you for taking the poll!\n",
      "Robot,would you like to take the poll?\n"
     ]
    }
   ],
   "source": [
    "# 6-6 调查\n",
    "favorite_languages = {\n",
    "    'jen':'python',\n",
    "    'sarah':'c',\n",
    "    'edward':'ruby',\n",
    "    'phil':'python',\n",
    "    }\n",
    "informants = ['jen','sarah','andy','candy','edward','lucy','phil','robot']\n",
    "for name in informants:\n",
    "    if name in favorite_languages.keys():\n",
    "        print(f'{name.title()},thank you for taking the poll!')\n",
    "    else:\n",
    "        print(f'{name.title()},would you like to take the poll?')"
   ]
  }
 ],
 "metadata": {
  "kernelspec": {
   "display_name": "Python 3 (ipykernel)",
   "language": "python",
   "name": "python3"
  },
  "language_info": {
   "codemirror_mode": {
    "name": "ipython",
    "version": 3
   },
   "file_extension": ".py",
   "mimetype": "text/x-python",
   "name": "python",
   "nbconvert_exporter": "python",
   "pygments_lexer": "ipython3",
   "version": "3.9.13"
  }
 },
 "nbformat": 4,
 "nbformat_minor": 5
}
