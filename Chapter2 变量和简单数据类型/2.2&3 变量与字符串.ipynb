{
 "cells": [
  {
   "cell_type": "markdown",
   "id": "7f5110d7",
   "metadata": {},
   "source": [
    "# 2.1 运行hello_world.py"
   ]
  },
  {
   "cell_type": "code",
   "execution_count": 1,
   "id": "6d344c15",
   "metadata": {},
   "outputs": [
    {
     "name": "stdout",
     "output_type": "stream",
     "text": [
      "Hello World!\n"
     ]
    }
   ],
   "source": [
    "print(\"Hello World!\")"
   ]
  },
  {
   "cell_type": "markdown",
   "id": "4ba4e631",
   "metadata": {},
   "source": [
    "# 2.2 变量"
   ]
  },
  {
   "cell_type": "code",
   "execution_count": 1,
   "id": "ef5f2de7",
   "metadata": {},
   "outputs": [
    {
     "name": "stdout",
     "output_type": "stream",
     "text": [
      "Hello Python World!\n"
     ]
    }
   ],
   "source": [
    "# 刘颖 2024.3.9 17:19\n",
    "message = \"Hello Python World!\"\n",
    "print(message)"
   ]
  },
  {
   "cell_type": "code",
   "execution_count": 2,
   "id": "67ddc30a",
   "metadata": {},
   "outputs": [
    {
     "name": "stdout",
     "output_type": "stream",
     "text": [
      "Hello Python World!\n",
      "Hello Python Crash Course World!\n"
     ]
    }
   ],
   "source": [
    "# 变量总是与最新的关联值保持一致\n",
    "message = \"Hello Python World!\"\n",
    "print(message)\n",
    "\n",
    "message = \"Hello Python Crash Course World!\"\n",
    "print(message)"
   ]
  },
  {
   "cell_type": "code",
   "execution_count": 3,
   "id": "c0aae533",
   "metadata": {},
   "outputs": [
    {
     "name": "stdout",
     "output_type": "stream",
     "text": [
      "Hello Python World!\n"
     ]
    }
   ],
   "source": [
    "# 变量的拼写无语法要求，重要的是对变量的拼写要一致\n",
    "mesage = \"Hello Python World!\"\n",
    "print(mesage)"
   ]
  },
  {
   "cell_type": "code",
   "execution_count": 4,
   "id": "64aed054",
   "metadata": {},
   "outputs": [
    {
     "name": "stdout",
     "output_type": "stream",
     "text": [
      "这门课的名称叫做“新文科编程基础”\n"
     ]
    }
   ],
   "source": [
    "# 2-1 simple_message\n",
    "simple_message = \"这门课的名称叫做“新文科编程基础”\"\n",
    "print(simple_message)"
   ]
  },
  {
   "cell_type": "code",
   "execution_count": 5,
   "id": "4576f2b7",
   "metadata": {},
   "outputs": [
    {
     "name": "stdout",
     "output_type": "stream",
     "text": [
      "This is a good day!\n",
      "This is a bad day!\n"
     ]
    }
   ],
   "source": [
    "# 2-2 simple_messages\n",
    "message = \"This is a good day!\"\n",
    "print(message)\n",
    "message = \"This is a bad day!\"\n",
    "print(message)"
   ]
  },
  {
   "cell_type": "markdown",
   "id": "c4937172",
   "metadata": {},
   "source": [
    "# 2.3 字符串"
   ]
  },
  {
   "cell_type": "code",
   "execution_count": 6,
   "id": "1412d8d6",
   "metadata": {},
   "outputs": [
    {
     "name": "stdout",
     "output_type": "stream",
     "text": [
      "This is a string.\n",
      "This is also a string.\n"
     ]
    }
   ],
   "source": [
    "# 刘颖 2024.3.9 17：29\n",
    "sentence1 = \"This is a string.\"\n",
    "sentence2 = 'This is also a string.'\n",
    "print(sentence1)\n",
    "print(sentence2) "
   ]
  },
  {
   "cell_type": "code",
   "execution_count": 7,
   "id": "82f0d74e",
   "metadata": {},
   "outputs": [
    {
     "name": "stdout",
     "output_type": "stream",
     "text": [
      "I told my friend,\"Python is my favourite language!\"\n",
      "The language 'Python'is named after Monty Python,not the snake.\n",
      "One of Python's strengths is its diverse and supportive community.\n"
     ]
    }
   ],
   "source": [
    "sentence1 = 'I told my friend,\"Python is my favourite language!\"'\n",
    "sentence2 = \"The language 'Python'is named after Monty Python,not the snake.\"\n",
    "sentence3 = \"One of Python's strengths is its diverse and supportive community.\"\n",
    "print(sentence1)\n",
    "print(sentence2)\n",
    "print(sentence3)"
   ]
  },
  {
   "cell_type": "markdown",
   "id": "bd307a64",
   "metadata": {},
   "source": [
    "## 2.3.1 使用方法修改字符串的大小"
   ]
  },
  {
   "cell_type": "code",
   "execution_count": 8,
   "id": "c651fe8a",
   "metadata": {},
   "outputs": [
    {
     "name": "stdout",
     "output_type": "stream",
     "text": [
      "Ada Lovelace\n"
     ]
    }
   ],
   "source": [
    "# 变量首字母大写\n",
    "name = \"ada lovelace\"\n",
    "print(name.title())"
   ]
  },
  {
   "cell_type": "code",
   "execution_count": 9,
   "id": "edc24f7b",
   "metadata": {},
   "outputs": [
    {
     "name": "stdout",
     "output_type": "stream",
     "text": [
      "ADA LOVELACE\n"
     ]
    }
   ],
   "source": [
    "# 变量全部字母大写\n",
    "name = \"Ada Lovelace\"\n",
    "print(name.upper())"
   ]
  },
  {
   "cell_type": "code",
   "execution_count": 10,
   "id": "9bfc6d89",
   "metadata": {},
   "outputs": [
    {
     "name": "stdout",
     "output_type": "stream",
     "text": [
      "ada lovlace\n"
     ]
    }
   ],
   "source": [
    "# 变量全部字母小写\n",
    "name = \"AdA lovLace\"\n",
    "print(name.lower())"
   ]
  },
  {
   "cell_type": "markdown",
   "id": "7847073b",
   "metadata": {},
   "source": [
    "## 2.3.2 在字符串中使用变量"
   ]
  },
  {
   "cell_type": "code",
   "execution_count": 11,
   "id": "66614072",
   "metadata": {},
   "outputs": [
    {
     "name": "stdout",
     "output_type": "stream",
     "text": [
      "ada lovelace\n"
     ]
    }
   ],
   "source": [
    "# f字符\n",
    "first_name = \"ada\"\n",
    "last_name = \"lovelace\"\n",
    "full_name = f\"{first_name} {last_name}\"\n",
    "print(full_name)"
   ]
  },
  {
   "cell_type": "code",
   "execution_count": 12,
   "id": "3f60342f",
   "metadata": {},
   "outputs": [
    {
     "name": "stdout",
     "output_type": "stream",
     "text": [
      "Hello,ada lovelace!\n",
      "Hello,Ada Lovelace!\n",
      "Hello,ADA LOVELACE!\n"
     ]
    }
   ],
   "source": [
    "# f字符赋予给新变量\n",
    "first_name = \"ada\"\n",
    "last_name = \"lovelace\"\n",
    "full_name = f\"{first_name} {last_name}\"\n",
    "print(f\"Hello,{full_name}!\")\n",
    "print(f\"Hello,{full_name.title()}!\")\n",
    "message = f\"Hello,{full_name.upper()}!\"\n",
    "print(message)"
   ]
  },
  {
   "cell_type": "markdown",
   "id": "6001143d",
   "metadata": {},
   "source": [
    "## 2.3.3 添加与删除空白"
   ]
  },
  {
   "cell_type": "code",
   "execution_count": 13,
   "id": "e8dc1dca",
   "metadata": {},
   "outputs": [
    {
     "name": "stdout",
     "output_type": "stream",
     "text": [
      "Python\n",
      "\tPython\n",
      "\n",
      "Python\n",
      "\n",
      "\tPython\n",
      "\t\n",
      "Python\n"
     ]
    }
   ],
   "source": [
    "# 制表符、换行符\n",
    "print(\"Python\")\n",
    "print(\"\\tPython\")\n",
    "print(\"\\nPython\")\n",
    "print(\"\\n\\tPython\")\n",
    "print(\"\\t\\nPython\")"
   ]
  },
  {
   "cell_type": "code",
   "execution_count": 14,
   "id": "04baa88b",
   "metadata": {},
   "outputs": [
    {
     "name": "stdout",
     "output_type": "stream",
     "text": [
      "Language:\n",
      "\tPython\n",
      "\tC\n",
      "\tJavaScript\n",
      "\n",
      "\tLanguage:\n",
      "\tPython\n",
      "\tC\n",
      "\tJavaScript\n",
      "Language:\n",
      " \t Python \n",
      "\tC\n",
      "\t JavaScript\n"
     ]
    }
   ],
   "source": [
    "print(\"Language:\\n\\tPython\\n\\tC\\n\\tJavaScript\")\n",
    "print(\"\\n\\tLanguage:\\n\\tPython\\n\\tC\\n\\tJavaScript\")\n",
    "print(\"Language:\\n \\t Python \\n\\tC\\n\\t JavaScript\")"
   ]
  },
  {
   "cell_type": "code",
   "execution_count": 15,
   "id": "d8372c86",
   "metadata": {},
   "outputs": [
    {
     "name": "stdout",
     "output_type": "stream",
     "text": [
      "\tHello!\n",
      "\n",
      "\tHello!\n",
      "Hello!\n",
      "\n",
      "Hello!\n"
     ]
    }
   ],
   "source": [
    "message = \"\\tHello!\\n\"\n",
    "print(message)\n",
    "print(message.rstrip())\n",
    "print(message.lstrip())\n",
    "print(message.strip())"
   ]
  },
  {
   "cell_type": "code",
   "execution_count": 16,
   "id": "0edbfc36",
   "metadata": {},
   "outputs": [
    {
     "data": {
      "text/plain": [
       "'apple'"
      ]
     },
     "execution_count": 16,
     "metadata": {},
     "output_type": "execute_result"
    }
   ],
   "source": [
    "# 用''没有空格取代“ ”空格,用逗号后面的取代逗号前面的\n",
    "'a pp  l e'.replace(\" \",'')"
   ]
  },
  {
   "cell_type": "code",
   "execution_count": 17,
   "id": "e376a878",
   "metadata": {},
   "outputs": [
    {
     "name": "stdout",
     "output_type": "stream",
     "text": [
      "s://github.com\n"
     ]
    }
   ],
   "source": [
    "# 方法.removeprefix()\n",
    "url = 'https://github.com'\n",
    "print(url.removeprefix('http'))"
   ]
  },
  {
   "cell_type": "code",
   "execution_count": 18,
   "id": "4378bc66",
   "metadata": {},
   "outputs": [
    {
     "name": "stdout",
     "output_type": "stream",
     "text": [
      "Let's go!\n"
     ]
    }
   ],
   "source": [
    "# \\作为转义字符,会保留斜杠后面的’符号，而不将其理解为代码的结束\n",
    "message = \"Let\\'s go!\"\n",
    "print(message)"
   ]
  },
  {
   "cell_type": "code",
   "execution_count": 19,
   "id": "5a97c226",
   "metadata": {},
   "outputs": [
    {
     "name": "stdout",
     "output_type": "stream",
     "text": [
      "Hello World!\n"
     ]
    }
   ],
   "source": [
    "# 字符拼接\n",
    "print('Hello'+' World!')"
   ]
  },
  {
   "cell_type": "code",
   "execution_count": 20,
   "id": "c359f506",
   "metadata": {},
   "outputs": [
    {
     "data": {
      "text/plain": [
       "'Hello Hello '"
      ]
     },
     "execution_count": 20,
     "metadata": {},
     "output_type": "execute_result"
    }
   ],
   "source": [
    "# 字符串乘2\n",
    "'Hello '*2"
   ]
  },
  {
   "cell_type": "markdown",
   "id": "c09f84f0",
   "metadata": {},
   "source": [
    "## 2.3 练习2-3~2-7"
   ]
  },
  {
   "cell_type": "code",
   "execution_count": 21,
   "id": "94530696",
   "metadata": {},
   "outputs": [
    {
     "name": "stdout",
     "output_type": "stream",
     "text": [
      "How are you today,Anna?\n"
     ]
    }
   ],
   "source": [
    "# 2-3 personalized message\n",
    "name = \"Anna\"\n",
    "personalized_message = f\"How are you today,{name}?\"\n",
    "print(personalized_message)"
   ]
  },
  {
   "cell_type": "code",
   "execution_count": 22,
   "id": "e1ad1d5c",
   "metadata": {},
   "outputs": [
    {
     "name": "stdout",
     "output_type": "stream",
     "text": [
      "Alexander Graham Bell\n",
      "ALEXANDER GRAHAM BELL\n",
      "alexander graham bell\n"
     ]
    }
   ],
   "source": [
    "# 2-4 Letter case\n",
    "name = \"Alexander graham bell\"\n",
    "print(name.title())\n",
    "print(name.upper())\n",
    "print(name.lower())"
   ]
  },
  {
   "cell_type": "code",
   "execution_count": 23,
   "id": "add7eb34",
   "metadata": {},
   "outputs": [
    {
     "name": "stdout",
     "output_type": "stream",
     "text": [
      "Thomas Carlyle once said,\"Cease to struggle and you cease to live.\"\n"
     ]
    }
   ],
   "source": [
    "# 2-5 well-known saying\n",
    "print('Thomas Carlyle once said,\"Cease to struggle and you cease to live.\"')"
   ]
  },
  {
   "cell_type": "code",
   "execution_count": 24,
   "id": "f03362d6",
   "metadata": {},
   "outputs": [
    {
     "name": "stdout",
     "output_type": "stream",
     "text": [
      "Thomas Carlyle once said,\"Cease to struggle and you cease to live.\"\n"
     ]
    }
   ],
   "source": [
    "# 2-6 well-known saying\n",
    "famous_person = \"Thomas carlyle\"\n",
    "well_known_saying = \"Cease to struggle and you cease to live.\"\n",
    "message = f'{famous_person.title()} once said,\"{well_known_saying}\"'\n",
    "print(message)"
   ]
  },
  {
   "cell_type": "code",
   "execution_count": 25,
   "id": "e9bffcee",
   "metadata": {},
   "outputs": [
    {
     "name": "stdout",
     "output_type": "stream",
     "text": [
      "\n",
      "\tAnna\n",
      "\n"
     ]
    }
   ],
   "source": [
    "# 2-7 delete blank space\n",
    "name = \"\\n\\tAnna\\n\"\n",
    "print(name)"
   ]
  },
  {
   "cell_type": "code",
   "execution_count": 26,
   "id": "2159cdef",
   "metadata": {},
   "outputs": [
    {
     "name": "stdout",
     "output_type": "stream",
     "text": [
      "Anna\n"
     ]
    }
   ],
   "source": [
    "# 2-7 delete blank space\n",
    "name = \"\\n\\tAnna\\n\"\n",
    "print(name.strip())"
   ]
  },
  {
   "cell_type": "code",
   "execution_count": 27,
   "id": "8fb9c6a7",
   "metadata": {},
   "outputs": [
    {
     "name": "stdout",
     "output_type": "stream",
     "text": [
      "Anna\n",
      "\n"
     ]
    }
   ],
   "source": [
    "# 2-7 delete blank space\n",
    "name = \"\\n\\tAnna\\n\"\n",
    "print(name.lstrip())"
   ]
  },
  {
   "cell_type": "code",
   "execution_count": 28,
   "id": "5b6e6209",
   "metadata": {},
   "outputs": [
    {
     "name": "stdout",
     "output_type": "stream",
     "text": [
      "\n",
      "\tAnna\n"
     ]
    }
   ],
   "source": [
    "# 2-7 delete blank space\n",
    "name = \"\\n\\tAnna\\n\"\n",
    "print(name.rstrip())"
   ]
  }
 ],
 "metadata": {
  "kernelspec": {
   "display_name": "Python 3 (ipykernel)",
   "language": "python",
   "name": "python3"
  },
  "language_info": {
   "codemirror_mode": {
    "name": "ipython",
    "version": 3
   },
   "file_extension": ".py",
   "mimetype": "text/x-python",
   "name": "python",
   "nbconvert_exporter": "python",
   "pygments_lexer": "ipython3",
   "version": "3.9.13"
  }
 },
 "nbformat": 4,
 "nbformat_minor": 5
}
