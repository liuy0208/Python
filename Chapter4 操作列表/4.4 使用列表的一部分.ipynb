{
 "cells": [
  {
   "cell_type": "markdown",
   "id": "5b2c964d",
   "metadata": {},
   "source": [
    "# 4.4 使用列表的一部分——切片"
   ]
  },
  {
   "cell_type": "code",
   "execution_count": 4,
   "id": "566144eb",
   "metadata": {},
   "outputs": [
    {
     "name": "stdout",
     "output_type": "stream",
     "text": [
      "['charles']\n",
      "['martina', 'michael', 'florence']\n",
      "['charles', 'martina', 'michael', 'florence', 'eli']\n",
      "['florence', 'eli']\n",
      "['charles', 'martina', 'michael']\n",
      "['charles', 'martina']\n"
     ]
    }
   ],
   "source": [
    "# 生成切片——列表名[起始索引，终止索引]\n",
    "players = ['charles','martina','michael','florence','eli']\n",
    "print(players[0:1])\n",
    "print(players[1:4])\n",
    "print(players[0:])\n",
    "print(players[-2:])\n",
    "print(players[:3])\n",
    "print(players[:-3])"
   ]
  },
  {
   "cell_type": "code",
   "execution_count": 8,
   "id": "c1747d7e",
   "metadata": {},
   "outputs": [
    {
     "name": "stdout",
     "output_type": "stream",
     "text": [
      "[1, 4, 9, 16, 25, 36, 49, 64]\n",
      "[1, 9, 25]\n"
     ]
    }
   ],
   "source": [
    "# 第三个索引指定距离\n",
    "numbers = [value**2 for value in range(1,9)]\n",
    "print(numbers)\n",
    "print(number[0:5:2])"
   ]
  },
  {
   "cell_type": "code",
   "execution_count": 10,
   "id": "110f07f5",
   "metadata": {},
   "outputs": [
    {
     "name": "stdout",
     "output_type": "stream",
     "text": [
      "Here are the first three players on my team:\n",
      "charles\n",
      "martina\n",
      "michael\n"
     ]
    }
   ],
   "source": [
    "# 在for循环中使用切片\n",
    "players = ['charles','martina','michael','florence','eli']\n",
    "print(\"Here are the first three players on my team:\")\n",
    "for player in players[0:3]:\n",
    "    print(player)"
   ]
  },
  {
   "cell_type": "code",
   "execution_count": 14,
   "id": "04719b99",
   "metadata": {},
   "outputs": [
    {
     "name": "stdout",
     "output_type": "stream",
     "text": [
      "['charles', 'martina', 'michael', 'florence', 'eli']\n",
      "['charles', 'michael', 'eli']\n"
     ]
    }
   ],
   "source": [
    "# 列表的副本\n",
    "players = ['charles','martina','michael','florence','eli']\n",
    "print(players[:])"
   ]
  },
  {
   "cell_type": "code",
   "execution_count": 20,
   "id": "cee6d108",
   "metadata": {},
   "outputs": [
    {
     "name": "stdout",
     "output_type": "stream",
     "text": [
      "['pizza', 'falafel', 'carrot cake']\n",
      "\n",
      "['pizza', 'falafel', 'carrot cake', 'cannoli']\n",
      "\n",
      "My favorite foods are:\n",
      "['pizza', 'falafel', 'carrot cake', 'cannoli']\n",
      "\n",
      "My friend's favorite foods are:\n",
      "['pizza', 'falafel', 'carrot cake', 'cannoli']\n"
     ]
    }
   ],
   "source": [
    "# 复制列表并编辑\n",
    "my_foods = ['pizza','falafel','carrot cake']\n",
    "friend_foods = my_foods\n",
    "print(friend_foods)\n",
    "\n",
    "friend_foods = my_foods[:]\n",
    "# 如果此处直接用friend_foods = my_foods,在后续给friend——foods增加元素时也会改变原来my_foods列表\n",
    "# 因为这将my_foods的值赋给了friend_foods，并非相互独立的列表\n",
    "friend_foods.append('cannoli')\n",
    "print(f\"\\n{friend_foods}\")\n",
    "\n",
    "print(\"\\nMy favorite foods are:\")\n",
    "print(my_foods)\n",
    "\n",
    "print(\"\\nMy friend's favorite foods are:\")\n",
    "print(friend_foods)"
   ]
  },
  {
   "cell_type": "markdown",
   "id": "35df43cb",
   "metadata": {},
   "source": [
    "## 4-10~12练习"
   ]
  },
  {
   "cell_type": "code",
   "execution_count": 27,
   "id": "67910dba",
   "metadata": {},
   "outputs": [
    {
     "name": "stdout",
     "output_type": "stream",
     "text": [
      "Alice\n",
      "David\n",
      "Carolina\n",
      "Lina\n",
      "Belly\n",
      "\n",
      "The first three names in the list are:\n",
      "['alice', 'david', 'carolina']\n",
      "\n",
      "Three names from the middle of the list are:\n",
      "['david', 'carolina', 'lina']\n",
      "\n",
      "The last three names in the list are:\n",
      "['carolina', 'lina', 'belly']\n"
     ]
    }
   ],
   "source": [
    "# 4-10 切片\n",
    "magicians = ['alice','david','carolina','lina','belly']\n",
    "for magician in magicians:\n",
    "    print(magician.title())\n",
    "    \n",
    "print(\"\\nThe first three names in the list are:\")\n",
    "print(magicians[:3])\n",
    "\n",
    "print(\"\\nThree names from the middle of the list are:\")\n",
    "print(magicians[1:-1])\n",
    "\n",
    "print(\"\\nThe last three names in the list are:\")\n",
    "print(magicians[2:])"
   ]
  },
  {
   "cell_type": "code",
   "execution_count": 29,
   "id": "cbba8f8b",
   "metadata": {},
   "outputs": [
    {
     "name": "stdout",
     "output_type": "stream",
     "text": [
      "apple\n",
      "beef\n",
      "vegetable\n",
      "\n",
      "I like Apple pizza.\n",
      "\n",
      "I like Beef pizza.\n",
      "\n",
      "I like Vegetable pizza.\n",
      "\n",
      "I really love pizza!\n",
      "['apple', 'beef', 'vegetable', 'banana']\n",
      "['apple', 'beef', 'vegetable', 'fish']\n",
      "\n",
      "My favorite pizzas are:\n",
      "apple\n",
      "beef\n",
      "vegetable\n",
      "banana\n",
      "\n",
      "My friend's favorite pizzas are:\n",
      "apple\n",
      "beef\n",
      "vegetable\n",
      "fish\n"
     ]
    }
   ],
   "source": [
    "# 4-11 pizza\n",
    "pizzas = ['apple','beef','vegetable']\n",
    "for pizza in pizzas:\n",
    "    print(pizza)\n",
    "print()\n",
    "for pizza in pizzas:\n",
    "    print(f\"I like {pizza.title()} pizza.\\n\")\n",
    "print(\"I really love pizza!\")\n",
    "# 以上为4-1程序代码\n",
    "friend_pizzas = pizzas[:]\n",
    "pizzas.append('banana')\n",
    "friend_pizzas.append('fish')\n",
    "print(pizzas)\n",
    "print(friend_pizzas)\n",
    "\n",
    "print(\"\\nMy favorite pizzas are:\")\n",
    "for pizza in pizzas:\n",
    "    print(pizza)\n",
    "\n",
    "print(\"\\nMy friend's favorite pizzas are:\")\n",
    "for pizza in friend_pizzas:\n",
    "    print(pizza)"
   ]
  },
  {
   "cell_type": "code",
   "execution_count": 30,
   "id": "b1e60617",
   "metadata": {},
   "outputs": [
    {
     "name": "stdout",
     "output_type": "stream",
     "text": [
      "\n",
      "My favorite foods are:\n",
      "pizza\n",
      "falafel\n",
      "carrot cake\n",
      "\n",
      "My friend's favorite foods are:\n",
      "pizza\n",
      "falafel\n",
      "carrot cake\n"
     ]
    }
   ],
   "source": [
    "# 4-12 使用多个循环\n",
    "my_foods = ['pizza','falafel','carrot cake']\n",
    "friend_foods = my_foods[:]\n",
    "print(\"\\nMy favorite foods are:\")\n",
    "for food in my_foods:\n",
    "    print(food)\n",
    "\n",
    "print(\"\\nMy friend's favorite foods are:\")\n",
    "for food in friend_foods:\n",
    "    print(food)"
   ]
  }
 ],
 "metadata": {
  "kernelspec": {
   "display_name": "Python 3 (ipykernel)",
   "language": "python",
   "name": "python3"
  },
  "language_info": {
   "codemirror_mode": {
    "name": "ipython",
    "version": 3
   },
   "file_extension": ".py",
   "mimetype": "text/x-python",
   "name": "python",
   "nbconvert_exporter": "python",
   "pygments_lexer": "ipython3",
   "version": "3.9.13"
  }
 },
 "nbformat": 4,
 "nbformat_minor": 5
}
