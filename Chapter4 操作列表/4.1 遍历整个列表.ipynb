{
 "cells": [
  {
   "cell_type": "code",
   "execution_count": 4,
   "id": "6f870a1c",
   "metadata": {},
   "outputs": [
    {
     "name": "stdout",
     "output_type": "stream",
     "text": [
      "Alice\n",
      "David\n",
      "Carolina\n"
     ]
    }
   ],
   "source": [
    "# 刘颖 2024.3.13\n",
    "magicians = ['alice','david','carolina']\n",
    "for magician in magicians:\n",
    "    print(magician.title())"
   ]
  },
  {
   "cell_type": "code",
   "execution_count": 8,
   "id": "fd9baa13",
   "metadata": {},
   "outputs": [
    {
     "name": "stdout",
     "output_type": "stream",
     "text": [
      "Alice,that was a great trick!\n",
      "I can't wait to see you next trick,Alice\n",
      "\n",
      "Alice,that was a great trick!\n",
      "I can't wait to see you next trick,Alice!\n",
      "\n",
      "David,that was a great trick!\n",
      "I can't wait to see you next trick,David\n",
      "\n",
      "David,that was a great trick!\n",
      "I can't wait to see you next trick,David!\n",
      "\n",
      "Carolina,that was a great trick!\n",
      "I can't wait to see you next trick,Carolina\n",
      "\n",
      "Carolina,that was a great trick!\n",
      "I can't wait to see you next trick,Carolina!\n",
      "\n"
     ]
    }
   ],
   "source": [
    "# 对元素执行操作\n",
    "magicians = ['alice','david','carolina']\n",
    "for magician in magicians:\n",
    "    print(f\"{magician.title()},that was a great trick!\\nI can't wait to see you next trick,{magician.title()}\\n\")\n",
    "    print(f\"{magician.title()},that was a great trick!\")\n",
    "    print(f\"I can't wait to see you next trick,{magician.title()}!\\n\")"
   ]
  },
  {
   "cell_type": "code",
   "execution_count": 9,
   "id": "cbd465e4",
   "metadata": {},
   "outputs": [
    {
     "name": "stdout",
     "output_type": "stream",
     "text": [
      "Alice,that was a great trick!\n",
      "I can't wait to see you next trick,Alice!\n",
      "\n",
      "David,that was a great trick!\n",
      "I can't wait to see you next trick,David!\n",
      "\n",
      "Carolina,that was a great trick!\n",
      "I can't wait to see you next trick,Carolina!\n",
      "\n",
      "Thank you,everyone.That was a great magic show!\n"
     ]
    }
   ],
   "source": [
    "# 循环结束后的执行\n",
    "magicians = ['alice','david','carolina']\n",
    "for magician in magicians:\n",
    "    print(f\"{magician.title()},that was a great trick!\")\n",
    "    print(f\"I can't wait to see you next trick,{magician.title()}!\\n\")\n",
    "print(\"Thank you,everyone.That was a great magic show!\")"
   ]
  },
  {
   "cell_type": "code",
   "execution_count": null,
   "id": "bf87a8f5",
   "metadata": {},
   "outputs": [],
   "source": []
  }
 ],
 "metadata": {
  "kernelspec": {
   "display_name": "Python 3 (ipykernel)",
   "language": "python",
   "name": "python3"
  },
  "language_info": {
   "codemirror_mode": {
    "name": "ipython",
    "version": 3
   },
   "file_extension": ".py",
   "mimetype": "text/x-python",
   "name": "python",
   "nbconvert_exporter": "python",
   "pygments_lexer": "ipython3",
   "version": "3.9.13"
  }
 },
 "nbformat": 4,
 "nbformat_minor": 5
}
