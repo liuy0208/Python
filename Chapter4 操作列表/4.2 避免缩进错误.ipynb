{
 "cells": [
  {
   "cell_type": "code",
   "execution_count": 3,
   "id": "a37d0ca8",
   "metadata": {},
   "outputs": [
    {
     "name": "stdout",
     "output_type": "stream",
     "text": [
      "alice\n",
      "david\n",
      "carolina\n"
     ]
    }
   ],
   "source": [
    "# 刘颖 2024.3.14 22:46\n",
    "magicians = ['alice','david','carolina']\n",
    "for magician in magicians:\n",
    "    print(magician)"
   ]
  },
  {
   "cell_type": "code",
   "execution_count": 4,
   "id": "3f61ebdc",
   "metadata": {},
   "outputs": [
    {
     "name": "stdout",
     "output_type": "stream",
     "text": [
      "Alice,that was a great trick!\n",
      "I can't wait to see you next trick,Carolina.\n",
      "\n",
      "David,that was a great trick!\n",
      "I can't wait to see you next trick,Carolina.\n",
      "\n",
      "Carolina,that was a great trick!\n",
      "I can't wait to see you next trick,Carolina.\n",
      "\n"
     ]
    }
   ],
   "source": [
    "# 不要忘记缩进额外的代码行\n",
    "magicians = ['alice','david','carolina']\n",
    "for magicain in magicians:\n",
    "    print(f\"{magicain.title()},that was a great trick!\")\n",
    "    print(f\"I can't wait to see you next trick,{magician.title()}.\\n\")"
   ]
  },
  {
   "cell_type": "code",
   "execution_count": 13,
   "id": "e2f55dc0",
   "metadata": {},
   "outputs": [
    {
     "name": "stdout",
     "output_type": "stream",
     "text": [
      "apple\n",
      "beef\n",
      "vegetable\n",
      "\n",
      "I like Apple pizza.\n",
      "\n",
      "I like Beef pizza.\n",
      "\n",
      "I like Vegetable pizza.\n",
      "\n",
      "I really love pizza!\n"
     ]
    }
   ],
   "source": [
    "# 4-1 pizza\n",
    "pizzas = ['apple','beef','vegetable']\n",
    "for pizza in pizzas:\n",
    "    print(pizza)\n",
    "print()\n",
    "for pizza in pizzas:\n",
    "    print(f\"I like {pizza.title()} pizza.\\n\")\n",
    "print(\"I really love pizza!\")"
   ]
  },
  {
   "cell_type": "code",
   "execution_count": 14,
   "id": "e0733524",
   "metadata": {},
   "outputs": [
    {
     "name": "stdout",
     "output_type": "stream",
     "text": [
      "A dog has four legs.\n",
      "A pig has four legs.\n",
      "A cat has four legs.\n",
      "Any of these animals have four legs.\n"
     ]
    }
   ],
   "source": [
    "# 4-2 animals\n",
    "animals = ['dog','pig','cat']\n",
    "for animal in animals:\n",
    "    print(f\"A {animal} has four legs.\")\n",
    "print(\"Any of these animals have four legs.\")"
   ]
  },
  {
   "cell_type": "code",
   "execution_count": null,
   "id": "144d4b72",
   "metadata": {},
   "outputs": [],
   "source": []
  }
 ],
 "metadata": {
  "kernelspec": {
   "display_name": "Python 3 (ipykernel)",
   "language": "python",
   "name": "python3"
  },
  "language_info": {
   "codemirror_mode": {
    "name": "ipython",
    "version": 3
   },
   "file_extension": ".py",
   "mimetype": "text/x-python",
   "name": "python",
   "nbconvert_exporter": "python",
   "pygments_lexer": "ipython3",
   "version": "3.9.13"
  }
 },
 "nbformat": 4,
 "nbformat_minor": 5
}
