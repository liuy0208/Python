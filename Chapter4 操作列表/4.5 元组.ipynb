{
 "cells": [
  {
   "cell_type": "markdown",
   "id": "70c78a62",
   "metadata": {},
   "source": [
    "# 4.5 元组"
   ]
  },
  {
   "cell_type": "code",
   "execution_count": 3,
   "id": "7e1a2bd5",
   "metadata": {},
   "outputs": [
    {
     "name": "stdout",
     "output_type": "stream",
     "text": [
      "200\n",
      "50\n"
     ]
    }
   ],
   "source": [
    "dimensions =(200,50)\n",
    "print(dimensions[0])\n",
    "print(dimensions[1])"
   ]
  },
  {
   "cell_type": "code",
   "execution_count": 6,
   "id": "73a660c7",
   "metadata": {},
   "outputs": [
    {
     "name": "stdout",
     "output_type": "stream",
     "text": [
      "alice\n",
      "david\n",
      "carolina\n",
      "('alice', 'david')\n"
     ]
    }
   ],
   "source": [
    "# for循环遍历整个元组\n",
    "magicians = ('alice','david','carolina')\n",
    "for magician in magicians:\n",
    "    print(magician)\n",
    "# 也可以生成元组“切片”\n",
    "print(magicians[0:2])"
   ]
  },
  {
   "cell_type": "code",
   "execution_count": 10,
   "id": "29789af6",
   "metadata": {},
   "outputs": [
    {
     "name": "stdout",
     "output_type": "stream",
     "text": [
      "(50, 20)\n"
     ]
    }
   ],
   "source": [
    "# 修改元组变量\n",
    "dimensions =(200,50)\n",
    "dimensions = new_dimensions\n",
    "new_dimensions = (50,20)\n",
    "print(dimensions)\n",
    "# 以上代码是我自己尝试改的"
   ]
  },
  {
   "cell_type": "code",
   "execution_count": 11,
   "id": "885e7aa8",
   "metadata": {},
   "outputs": [
    {
     "name": "stdout",
     "output_type": "stream",
     "text": [
      "Original dimensions:\n",
      "200\n",
      "50\n",
      "\n",
      "Modified dimensions:\n",
      "400\n",
      "100\n"
     ]
    }
   ],
   "source": [
    "# 修改元组变量\n",
    "dimensions = (200,50)\n",
    "print(\"Original dimensions:\")\n",
    "for dimension in dimensions:\n",
    "    print(dimension)\n",
    "    \n",
    "dimensions = (400,100)\n",
    "print(\"\\nModified dimensions:\")\n",
    "for dimension in dimensions:\n",
    "    print(dimension)"
   ]
  },
  {
   "cell_type": "code",
   "execution_count": 14,
   "id": "9ac298f6",
   "metadata": {},
   "outputs": [
    {
     "name": "stdout",
     "output_type": "stream",
     "text": [
      "(200, 50)\n",
      "(400, 100)\n"
     ]
    }
   ],
   "source": [
    "# 修改元组变量\n",
    "dimensions = (200,50)\n",
    "print(dimensions)\n",
    "\n",
    "dimensions = (400,100)\n",
    "print(dimensions)"
   ]
  },
  {
   "cell_type": "markdown",
   "id": "0fa7fb7b",
   "metadata": {},
   "source": [
    "## 4-13 练习"
   ]
  },
  {
   "cell_type": "code",
   "execution_count": 18,
   "id": "7b0d93d9",
   "metadata": {},
   "outputs": [
    {
     "name": "stdout",
     "output_type": "stream",
     "text": [
      "apple\n",
      "beef\n",
      "noodle\n",
      "hamburger\n",
      "soup\n",
      "\n",
      "banana\n",
      "mutton\n",
      "noodle\n",
      "hamburger\n",
      "soup\n"
     ]
    }
   ],
   "source": [
    "# 4-13 自助餐\n",
    "foods = ('apple','beef','noodle','hamburger','soup')\n",
    "for food in foods:\n",
    "    print(food)\n",
    "print('')\n",
    "foods = ('banana','mutton','noodle','hamburger','soup')\n",
    "for food in foods:\n",
    "    print(food)"
   ]
  },
  {
   "cell_type": "code",
   "execution_count": null,
   "id": "f066f79d",
   "metadata": {},
   "outputs": [],
   "source": []
  }
 ],
 "metadata": {
  "kernelspec": {
   "display_name": "Python 3 (ipykernel)",
   "language": "python",
   "name": "python3"
  },
  "language_info": {
   "codemirror_mode": {
    "name": "ipython",
    "version": 3
   },
   "file_extension": ".py",
   "mimetype": "text/x-python",
   "name": "python",
   "nbconvert_exporter": "python",
   "pygments_lexer": "ipython3",
   "version": "3.9.13"
  }
 },
 "nbformat": 4,
 "nbformat_minor": 5
}
