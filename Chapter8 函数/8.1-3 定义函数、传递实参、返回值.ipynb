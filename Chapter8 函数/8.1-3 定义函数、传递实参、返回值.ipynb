{
 "cells": [
  {
   "cell_type": "markdown",
   "id": "b97a6d90",
   "metadata": {},
   "source": [
    "# 8.1 定义函数"
   ]
  },
  {
   "cell_type": "code",
   "execution_count": 4,
   "id": "b9965e13",
   "metadata": {},
   "outputs": [
    {
     "name": "stdout",
     "output_type": "stream",
     "text": [
      "Hello!\n"
     ]
    }
   ],
   "source": [
    "def greet_user():\n",
    "    \"\"\"显示简单的问候语。\"\"\"\n",
    "    print(\"Hello!\")\n",
    "greet_user()"
   ]
  },
  {
   "cell_type": "code",
   "execution_count": 3,
   "id": "f9044609",
   "metadata": {},
   "outputs": [
    {
     "name": "stdout",
     "output_type": "stream",
     "text": [
      "Hello,Anna!\n"
     ]
    }
   ],
   "source": [
    "# 向函数传递信息\n",
    "def greet_user(username):\n",
    "    \"\"\"显示简单的问候语。\"\"\"\n",
    "    print(f\"Hello,{username.title()}!\")\n",
    "greet_user('anna')"
   ]
  },
  {
   "cell_type": "markdown",
   "id": "70b88406",
   "metadata": {},
   "source": [
    "## 8.1 练习"
   ]
  },
  {
   "cell_type": "code",
   "execution_count": 6,
   "id": "68c82998",
   "metadata": {},
   "outputs": [
    {
     "name": "stdout",
     "output_type": "stream",
     "text": [
      "我们本章要学习函数的知识。\n"
     ]
    }
   ],
   "source": [
    "# 8-1 消息\n",
    "def display_message():\n",
    "    \"\"\"说出本章学习的知识\"\"\"\n",
    "    print(\"我们本章要学习函数的知识。\")\n",
    "display_message()"
   ]
  },
  {
   "cell_type": "code",
   "execution_count": 7,
   "id": "7cd61197",
   "metadata": {},
   "outputs": [
    {
     "name": "stdout",
     "output_type": "stream",
     "text": [
      "One of my favorite books is Alice In Wonderland.\n"
     ]
    }
   ],
   "source": [
    "# 8-2 喜欢的图书\n",
    "def favorite_book(title):\n",
    "    \"\"\"说出喜欢的图书\"\"\"\n",
    "    print(f\"One of my favorite books is {title.title()}.\")\n",
    "favorite_book('Alice in Wonderland')"
   ]
  },
  {
   "cell_type": "markdown",
   "id": "5c547175",
   "metadata": {},
   "source": [
    "# 8.2 传递实参"
   ]
  },
  {
   "cell_type": "code",
   "execution_count": 15,
   "id": "cb996e33",
   "metadata": {},
   "outputs": [
    {
     "name": "stdout",
     "output_type": "stream",
     "text": [
      "\n",
      "I have a hamster.\n",
      "My hamster's name is Harry.\n"
     ]
    }
   ],
   "source": [
    "# 位置实参\n",
    "def describe_pet(animal_type,pet_name):\n",
    "    \"\"\"显示宠物信息\"\"\"\n",
    "    print(f\"\\nI have a {animal_type}.\")\n",
    "    print(f\"My {animal_type}'s name is {pet_name.title()}.\")\n",
    "describe_pet('hamster','harry')"
   ]
  },
  {
   "cell_type": "code",
   "execution_count": 14,
   "id": "40cf40d9",
   "metadata": {},
   "outputs": [
    {
     "name": "stdout",
     "output_type": "stream",
     "text": [
      "\n",
      "I have a hamster.\n",
      "My hamster's name is Harry.\n",
      "\n",
      "I have a dog.\n",
      "My dog's name is Willie.\n"
     ]
    }
   ],
   "source": [
    "# 多次调用函数\n",
    "def describe_pet(animal_type,pet_name):\n",
    "    \"\"\"显示宠物信息\"\"\"\n",
    "    print(f\"\\nI have a {animal_type}.\")\n",
    "    print(f\"My {animal_type}'s name is {pet_name.title()}.\")\n",
    "describe_pet('hamster','harry')\n",
    "describe_pet('dog','willie')"
   ]
  },
  {
   "cell_type": "code",
   "execution_count": 13,
   "id": "a62de65c",
   "metadata": {},
   "outputs": [
    {
     "name": "stdout",
     "output_type": "stream",
     "text": [
      "\n",
      "I have a harry.\n",
      "My harry's name is Hamster.\n"
     ]
    }
   ],
   "source": [
    "# 位置实参的顺序很重要\n",
    "def describe_pet(animal_type,pet_name):\n",
    "    \"\"\"显示宠物信息\"\"\"\n",
    "    print(f\"\\nI have a {animal_type}.\")\n",
    "    print(f\"My {animal_type}'s name is {pet_name.title()}.\")\n",
    "describe_pet('harry','hamster')"
   ]
  },
  {
   "cell_type": "code",
   "execution_count": 16,
   "id": "59d02a01",
   "metadata": {},
   "outputs": [
    {
     "name": "stdout",
     "output_type": "stream",
     "text": [
      "\n",
      "I have a hamster.\n",
      "My hamster's name is Harry.\n"
     ]
    }
   ],
   "source": [
    "# 关键字实参(与实参的位置无关)\n",
    "def describe_pet(animal_type,pet_name):\n",
    "    \"\"\"显示宠物信息\"\"\"\n",
    "    print(f\"\\nI have a {animal_type}.\")\n",
    "    print(f\"My {animal_type}'s name is {pet_name.title()}.\")\n",
    "describe_pet(animal_type = 'hamster',pet_name = 'harry')"
   ]
  },
  {
   "cell_type": "code",
   "execution_count": 19,
   "id": "38a4b750",
   "metadata": {},
   "outputs": [
    {
     "name": "stdout",
     "output_type": "stream",
     "text": [
      "\n",
      "I have a dog.\n",
      "My dog's name is Willie.\n"
     ]
    }
   ],
   "source": [
    "# 默认值\n",
    "def describe_pet(pet_name,animal_type='dog'):\n",
    "    \"\"\"显示宠物信息\"\"\"\n",
    "    print(f\"\\nI have a {animal_type}.\")\n",
    "    print(f\"My {animal_type}'s name is {pet_name.title()}.\")\n",
    "describe_pet('willie')"
   ]
  },
  {
   "cell_type": "code",
   "execution_count": 20,
   "id": "8bef5d38",
   "metadata": {},
   "outputs": [
    {
     "ename": "SyntaxError",
     "evalue": "non-default argument follows default argument (1606258770.py, line 2)",
     "output_type": "error",
     "traceback": [
      "\u001b[1;36m  File \u001b[1;32m\"C:\\Users\\86153\\AppData\\Local\\Temp\\ipykernel_38592\\1606258770.py\"\u001b[1;36m, line \u001b[1;32m2\u001b[0m\n\u001b[1;33m    def describe_pet(animal_type='dog',pet_name):\u001b[0m\n\u001b[1;37m                                               ^\u001b[0m\n\u001b[1;31mSyntaxError\u001b[0m\u001b[1;31m:\u001b[0m non-default argument follows default argument\n"
     ]
    }
   ],
   "source": [
    "# 默认值(无默认值的形参放前面，默认值形参最好放在后面)\n",
    "def describe_pet(animal_type='dog',pet_name):\n",
    "    \"\"\"显示宠物信息\"\"\"\n",
    "    print(f\"\\nI have a {animal_type}.\")\n",
    "    print(f\"My {animal_type}'s name is {pet_name.title()}.\")\n",
    "describe_pet('willie')"
   ]
  },
  {
   "cell_type": "code",
   "execution_count": 23,
   "id": "2b854fa9",
   "metadata": {},
   "outputs": [
    {
     "ename": "SyntaxError",
     "evalue": "non-default argument follows default argument (1460094079.py, line 2)",
     "output_type": "error",
     "traceback": [
      "\u001b[1;36m  File \u001b[1;32m\"C:\\Users\\86153\\AppData\\Local\\Temp\\ipykernel_38592\\1460094079.py\"\u001b[1;36m, line \u001b[1;32m2\u001b[0m\n\u001b[1;33m    def describe_pet(animal_type='dog',pet_name):\u001b[0m\n\u001b[1;37m                                               ^\u001b[0m\n\u001b[1;31mSyntaxError\u001b[0m\u001b[1;31m:\u001b[0m non-default argument follows default argument\n"
     ]
    }
   ],
   "source": [
    "# 默认值（无默认值的形参会当作位置形参，赋给第一个形参）\n",
    "def describe_pet(animal_type='dog',pet_name):\n",
    "    \"\"\"显示宠物信息\"\"\"\n",
    "    print(f\"\\nI have a {animal_type}.\")\n",
    "    print(f\"My {animal_type}'s name is {pet_name.title()}.\")\n",
    "describe_pet('willie')"
   ]
  },
  {
   "cell_type": "code",
   "execution_count": 25,
   "id": "d040ed82",
   "metadata": {},
   "outputs": [
    {
     "name": "stdout",
     "output_type": "stream",
     "text": [
      "\n",
      "I have a hamster.\n",
      "My hamster's name is Harry.\n"
     ]
    }
   ],
   "source": [
    "# 默认值\n",
    "def describe_pet(pet_name,animal_type='dog'):\n",
    "    \"\"\"显示宠物信息\"\"\"\n",
    "    print(f\"\\nI have a {animal_type}.\")\n",
    "    print(f\"My {animal_type}'s name is {pet_name.title()}.\")\n",
    "describe_pet('harry',animal_type = 'hamster')"
   ]
  },
  {
   "cell_type": "code",
   "execution_count": 27,
   "id": "a903f957",
   "metadata": {},
   "outputs": [
    {
     "ename": "IndentationError",
     "evalue": "unindent does not match any outer indentation level (<tokenize>, line 4)",
     "output_type": "error",
     "traceback": [
      "\u001b[1;36m  File \u001b[1;32m\"<tokenize>\"\u001b[1;36m, line \u001b[1;32m4\u001b[0m\n\u001b[1;33m    print(f\"\\nI have a {animal_type}.\")\u001b[0m\n\u001b[1;37m    ^\u001b[0m\n\u001b[1;31mIndentationError\u001b[0m\u001b[1;31m:\u001b[0m unindent does not match any outer indentation level\n"
     ]
    }
   ],
   "source": [
    "# 避免实参错误（实参数量要与形参是一致的）\n",
    "def describe_pet(animal_type,pet_name):\n",
    "        \"\"\"显示宠物信息\"\"\"\n",
    "    print(f\"\\nI have a {animal_type}.\")\n",
    "    print(f\"My {animal_type}'s name is {pet_name.title()}.\")\n",
    "describe_pet()"
   ]
  },
  {
   "cell_type": "markdown",
   "id": "2eb96e09",
   "metadata": {},
   "source": [
    "## 8.2 练习"
   ]
  },
  {
   "cell_type": "code",
   "execution_count": 43,
   "id": "d23b4294",
   "metadata": {},
   "outputs": [
    {
     "name": "stdout",
     "output_type": "stream",
     "text": [
      "This L-size T-shirt with following words:\n",
      "Hello World!\n",
      "This XL-size T-shirt with following words:\n",
      "Goodbye\n"
     ]
    }
   ],
   "source": [
    "# 8-3 T恤\n",
    "def make_shirt(size,words):\n",
    "    print(f\"This {size}-size T-shirt with following words:\\n{words}\")\n",
    "make_shirt('L','Hello World!')\n",
    "make_shirt(size='XL',words='Goodbye')"
   ]
  },
  {
   "cell_type": "code",
   "execution_count": 44,
   "id": "122ff576",
   "metadata": {},
   "outputs": [
    {
     "name": "stdout",
     "output_type": "stream",
     "text": [
      "This L-size T-shirt with following words:\n",
      "I Love Python\n",
      "This M-size T-shirt with following words:\n",
      "I Love Python\n",
      "This M-size T-shirt with following words:\n",
      "Hello Python\n"
     ]
    }
   ],
   "source": [
    "# 8-4 大号T恤\n",
    "def make_shirt(size='L',words='I Love Python'):\n",
    "    print(f\"This {size}-size T-shirt with following words:\\n{words}\")\n",
    "make_shirt()\n",
    "make_shirt(size='M')\n",
    "make_shirt(size='M',words='Hello Python')"
   ]
  },
  {
   "cell_type": "code",
   "execution_count": 46,
   "id": "f419989f",
   "metadata": {},
   "outputs": [
    {
     "name": "stdout",
     "output_type": "stream",
     "text": [
      "Shanghai is in China\n",
      "Beijing is in China\n",
      "Newyork is in America\n"
     ]
    }
   ],
   "source": [
    "# 8-5 城市\n",
    "def describe_city(city,country='China'):\n",
    "    print(f\"{city.title()} is in {country.title()}\")\n",
    "describe_city('Shanghai')\n",
    "describe_city('Beijing')\n",
    "describe_city('NewYork','America')"
   ]
  },
  {
   "cell_type": "markdown",
   "id": "bf2024e9",
   "metadata": {},
   "source": [
    "# 8.3 返回值"
   ]
  },
  {
   "cell_type": "code",
   "execution_count": 28,
   "id": "fc02ca95",
   "metadata": {},
   "outputs": [
    {
     "name": "stdout",
     "output_type": "stream",
     "text": [
      "Jimi Hendrix\n"
     ]
    }
   ],
   "source": [
    "# 返回简单值（函数除了调用print显示输出以外，还可以处理一些数据并返回一个或一组值）——用return语句\n",
    "def get_formatted_name(first_name,last_name):\n",
    "    \"\"\"返回整洁的姓名\"\"\"\n",
    "    full_name = f\"{first_name} {last_name}\"\n",
    "    return full_name.title()\n",
    "musician = get_formatted_name('jimi','hendrix')\n",
    "print(musician)"
   ]
  },
  {
   "cell_type": "code",
   "execution_count": 33,
   "id": "13910311",
   "metadata": {},
   "outputs": [
    {
     "name": "stdout",
     "output_type": "stream",
     "text": [
      "Jimi  Hendrix\n"
     ]
    },
    {
     "data": {
      "text/plain": [
       "'John Lee Hooker'"
      ]
     },
     "execution_count": 33,
     "metadata": {},
     "output_type": "execute_result"
    }
   ],
   "source": [
    "# 让实参变成可选的（使用默认值实参）\n",
    "def get_formatted_name(first_name,last_name,middle_name = ''):\n",
    "    \"\"\"返回整洁的姓名\"\"\"\n",
    "    full_name = f\"{first_name} {middle_name} {last_name}\"\n",
    "    return full_name.title()\n",
    "musician = get_formatted_name('jimi','hendrix')\n",
    "print(musician)\n",
    "get_formatted_name('john','hooker','lee')"
   ]
  },
  {
   "cell_type": "code",
   "execution_count": 34,
   "id": "f8548e4c",
   "metadata": {},
   "outputs": [
    {
     "name": "stdout",
     "output_type": "stream",
     "text": [
      "{'first': 'jimi', 'last': 'hendrix'}\n"
     ]
    }
   ],
   "source": [
    "# 返回字典\n",
    "def build_person(first_name,last_name):\n",
    "    \"\"\"返回一个字典，其中包含有关一个人的信息\"\"\"\n",
    "    person = {'first':first_name,'last':last_name}\n",
    "    return person\n",
    "musician = build_person('jimi','hendrix')\n",
    "print(musician)"
   ]
  },
  {
   "cell_type": "code",
   "execution_count": 36,
   "id": "fdfc5ff1",
   "metadata": {},
   "outputs": [
    {
     "name": "stdout",
     "output_type": "stream",
     "text": [
      "{'first': 'jimi', 'last': 'hendrix', 'age': 27}\n"
     ]
    }
   ],
   "source": [
    "# 返回字典时有可选值\n",
    "def build_person(first_name,last_name,age = None):\n",
    "    \"\"\"返回一个字典，其中包含有关一个人的信息\"\"\"\n",
    "    person = {'first':first_name,'last':last_name}\n",
    "    # 形参age的默认值None是指没有值，如果age被赋予实际参数值，那么就执行以下if条件中的代码块\n",
    "    if age: \n",
    "    # age是可选形参，所以字典键值对中的值直接赋予参数“age”即可\n",
    "        person['age'] = age\n",
    "    return person\n",
    "musician = build_person('jimi','hendrix',age = 27)\n",
    "print(musician)"
   ]
  },
  {
   "cell_type": "code",
   "execution_count": 38,
   "id": "c6bdd3f9",
   "metadata": {},
   "outputs": [
    {
     "name": "stdout",
     "output_type": "stream",
     "text": [
      "\n",
      "Please tell me your name:\n"
     ]
    },
    {
     "ename": "KeyboardInterrupt",
     "evalue": "Interrupted by user",
     "output_type": "error",
     "traceback": [
      "\u001b[1;31m---------------------------------------------------------------------------\u001b[0m",
      "\u001b[1;31mKeyboardInterrupt\u001b[0m                         Traceback (most recent call last)",
      "\u001b[1;32m~\\AppData\\Local\\Temp\\ipykernel_38592\\4071613262.py\u001b[0m in \u001b[0;36m<module>\u001b[1;34m\u001b[0m\n\u001b[0;32m      7\u001b[0m \u001b[1;32mwhile\u001b[0m \u001b[1;32mTrue\u001b[0m\u001b[1;33m:\u001b[0m\u001b[1;33m\u001b[0m\u001b[1;33m\u001b[0m\u001b[0m\n\u001b[0;32m      8\u001b[0m     \u001b[0mprint\u001b[0m\u001b[1;33m(\u001b[0m\u001b[1;34m\"\\nPlease tell me your name:\"\u001b[0m\u001b[1;33m)\u001b[0m\u001b[1;33m\u001b[0m\u001b[1;33m\u001b[0m\u001b[0m\n\u001b[1;32m----> 9\u001b[1;33m     \u001b[0mf_name\u001b[0m \u001b[1;33m=\u001b[0m \u001b[0minput\u001b[0m\u001b[1;33m(\u001b[0m\u001b[1;34m\"First name:\"\u001b[0m\u001b[1;33m)\u001b[0m\u001b[1;33m\u001b[0m\u001b[1;33m\u001b[0m\u001b[0m\n\u001b[0m\u001b[0;32m     10\u001b[0m     \u001b[0ml_name\u001b[0m \u001b[1;33m=\u001b[0m \u001b[0minput\u001b[0m\u001b[1;33m(\u001b[0m\u001b[1;34m\"Last name:\"\u001b[0m\u001b[1;33m)\u001b[0m\u001b[1;33m\u001b[0m\u001b[1;33m\u001b[0m\u001b[0m\n\u001b[0;32m     11\u001b[0m     \u001b[0mformatted_name\u001b[0m \u001b[1;33m=\u001b[0m \u001b[0mget_formatted_name\u001b[0m\u001b[1;33m(\u001b[0m\u001b[0mf_name\u001b[0m\u001b[1;33m,\u001b[0m\u001b[0ml_name\u001b[0m\u001b[1;33m)\u001b[0m\u001b[1;33m\u001b[0m\u001b[1;33m\u001b[0m\u001b[0m\n",
      "\u001b[1;32mC:\\ProgramData\\Anaconda3\\lib\\site-packages\\ipykernel\\kernelbase.py\u001b[0m in \u001b[0;36mraw_input\u001b[1;34m(self, prompt)\u001b[0m\n\u001b[0;32m   1175\u001b[0m                 \u001b[1;34m\"raw_input was called, but this frontend does not support input requests.\"\u001b[0m\u001b[1;33m\u001b[0m\u001b[1;33m\u001b[0m\u001b[0m\n\u001b[0;32m   1176\u001b[0m             )\n\u001b[1;32m-> 1177\u001b[1;33m         return self._input_request(\n\u001b[0m\u001b[0;32m   1178\u001b[0m             \u001b[0mstr\u001b[0m\u001b[1;33m(\u001b[0m\u001b[0mprompt\u001b[0m\u001b[1;33m)\u001b[0m\u001b[1;33m,\u001b[0m\u001b[1;33m\u001b[0m\u001b[1;33m\u001b[0m\u001b[0m\n\u001b[0;32m   1179\u001b[0m             \u001b[0mself\u001b[0m\u001b[1;33m.\u001b[0m\u001b[0m_parent_ident\u001b[0m\u001b[1;33m[\u001b[0m\u001b[1;34m\"shell\"\u001b[0m\u001b[1;33m]\u001b[0m\u001b[1;33m,\u001b[0m\u001b[1;33m\u001b[0m\u001b[1;33m\u001b[0m\u001b[0m\n",
      "\u001b[1;32mC:\\ProgramData\\Anaconda3\\lib\\site-packages\\ipykernel\\kernelbase.py\u001b[0m in \u001b[0;36m_input_request\u001b[1;34m(self, prompt, ident, parent, password)\u001b[0m\n\u001b[0;32m   1217\u001b[0m             \u001b[1;32mexcept\u001b[0m \u001b[0mKeyboardInterrupt\u001b[0m\u001b[1;33m:\u001b[0m\u001b[1;33m\u001b[0m\u001b[1;33m\u001b[0m\u001b[0m\n\u001b[0;32m   1218\u001b[0m                 \u001b[1;31m# re-raise KeyboardInterrupt, to truncate traceback\u001b[0m\u001b[1;33m\u001b[0m\u001b[1;33m\u001b[0m\u001b[0m\n\u001b[1;32m-> 1219\u001b[1;33m                 \u001b[1;32mraise\u001b[0m \u001b[0mKeyboardInterrupt\u001b[0m\u001b[1;33m(\u001b[0m\u001b[1;34m\"Interrupted by user\"\u001b[0m\u001b[1;33m)\u001b[0m \u001b[1;32mfrom\u001b[0m \u001b[1;32mNone\u001b[0m\u001b[1;33m\u001b[0m\u001b[1;33m\u001b[0m\u001b[0m\n\u001b[0m\u001b[0;32m   1220\u001b[0m             \u001b[1;32mexcept\u001b[0m \u001b[0mException\u001b[0m\u001b[1;33m:\u001b[0m\u001b[1;33m\u001b[0m\u001b[1;33m\u001b[0m\u001b[0m\n\u001b[0;32m   1221\u001b[0m                 \u001b[0mself\u001b[0m\u001b[1;33m.\u001b[0m\u001b[0mlog\u001b[0m\u001b[1;33m.\u001b[0m\u001b[0mwarning\u001b[0m\u001b[1;33m(\u001b[0m\u001b[1;34m\"Invalid Message:\"\u001b[0m\u001b[1;33m,\u001b[0m \u001b[0mexc_info\u001b[0m\u001b[1;33m=\u001b[0m\u001b[1;32mTrue\u001b[0m\u001b[1;33m)\u001b[0m\u001b[1;33m\u001b[0m\u001b[1;33m\u001b[0m\u001b[0m\n",
      "\u001b[1;31mKeyboardInterrupt\u001b[0m: Interrupted by user"
     ]
    }
   ],
   "source": [
    "# 结合使用函数和while循环\n",
    "def get_formatted_name(first_name,last_name):\n",
    "    \"\"\"返回整洁的名字\"\"\"\n",
    "    full_name = f\"{first_name} {last_name}\"\n",
    "    return full_name.title()\n",
    "# 这是一个无限循环\n",
    "while True:\n",
    "    print(\"\\nPlease tell me your name:\")\n",
    "    f_name = input(\"First name:\")\n",
    "    l_name = input(\"Last name:\")\n",
    "    formatted_name = get_formatted_name(f_name,l_name)\n",
    "    print(f\"\\nHello,{formatted_name.title()}!\")"
   ]
  },
  {
   "cell_type": "code",
   "execution_count": 40,
   "id": "53399d07",
   "metadata": {
    "scrolled": true
   },
   "outputs": [
    {
     "name": "stdout",
     "output_type": "stream",
     "text": [
      "\n",
      "Please tell me your name:\n",
      "(enter 'q' at any time to quit)\n",
      "First name:Ying\n",
      "Last name:Liu\n",
      "\n",
      "Hello,Ying Liu!\n",
      "\n",
      "Please tell me your name:\n",
      "(enter 'q' at any time to quit)\n",
      "First name:q\n"
     ]
    }
   ],
   "source": [
    "# 上一个代码是无限循环，如果没有及时终止，本代码就无法正常运行\n",
    "# 结合使用函数和while循环\n",
    "def get_formatted_name(first_name,last_name):\n",
    "    \"\"\"返回整洁的名字\"\"\"\n",
    "    full_name = f\"{first_name} {last_name}\"\n",
    "    return full_name.title()\n",
    "# 解决无限循环的问题\n",
    "while True:\n",
    "    print(\"\\nPlease tell me your name:\")\n",
    "    print(\"(enter 'q' at any time to quit)\")\n",
    "    f_name = input(\"First name:\")\n",
    "    if f_name == 'q':\n",
    "        break\n",
    "    l_name = input(\"Last name:\")\n",
    "    if l_name == 'q':\n",
    "        break\n",
    "    formatted_name = get_formatted_name(f_name,l_name)\n",
    "    print(f\"\\nHello,{formatted_name.title()}!\")"
   ]
  },
  {
   "cell_type": "markdown",
   "id": "171b9704",
   "metadata": {},
   "source": [
    "## 8.3 练习"
   ]
  },
  {
   "cell_type": "code",
   "execution_count": 49,
   "id": "4f8a87b3",
   "metadata": {},
   "outputs": [
    {
     "name": "stdout",
     "output_type": "stream",
     "text": [
      "Santiago,Chile\n",
      "Beijing,China\n",
      "Newyork,America\n"
     ]
    }
   ],
   "source": [
    "# 8-6 城市名\n",
    "def city_country(city,country):\n",
    "    \"\"\"接受城市的名称及其所属国家\"\"\"\n",
    "    message = f\"{city.title()},{country.title()}\"\n",
    "    return message\n",
    "m_1 = city_country('santiago','chile')\n",
    "print(m_1)\n",
    "m_2 = city_country('beijing','china')\n",
    "print(m_2)\n",
    "m_3 = city_country('newyork','america')\n",
    "print(m_3)"
   ]
  },
  {
   "cell_type": "code",
   "execution_count": 59,
   "id": "e35ce4a4",
   "metadata": {},
   "outputs": [
    {
     "name": "stdout",
     "output_type": "stream",
     "text": [
      "{'singer': 'a1', 'album': 'b1'}\n",
      "{'singer': 'a2', 'album': 'b2'}\n",
      "{'singer': 'a3', 'album': 'b3'}\n",
      "{'singer': 'a4', 'album': 'b4', 'number': 4}\n"
     ]
    }
   ],
   "source": [
    "# 8-7 专辑\n",
    "def make_album(singer_name,album_name,number=None):\n",
    "    \"\"\"接受歌手名字及专辑名称并返回一个字典\"\"\"\n",
    "    album = {'singer':singer_name,'album':album_name}\n",
    "    if number:\n",
    "        album['number'] = number\n",
    "    return album\n",
    "s_1 = make_album('a1','b1')\n",
    "print(s_1)\n",
    "s_2 = make_album('a2','b2')\n",
    "print(s_2)\n",
    "s_3 = make_album('a3','b3')\n",
    "print(s_3)\n",
    "s_4 = make_album('a4','b4',4)\n",
    "print(s_4)"
   ]
  },
  {
   "cell_type": "code",
   "execution_count": 63,
   "id": "dcf0311c",
   "metadata": {},
   "outputs": [
    {
     "name": "stdout",
     "output_type": "stream",
     "text": [
      "You can enter 'q' to quit out at any time.\n",
      "Please enter singer's name:Anna\n",
      "Please enter album's name:Fly\n",
      "Please enter the number of the songs in the album:\n",
      "{'singer': 'Anna', 'album': 'Fly'}\n",
      "You can enter 'q' to quit out at any time.\n",
      "Please enter singer's name:Tom\n",
      "Please enter album's name:Betty\n",
      "Please enter the number of the songs in the album:8\n",
      "{'singer': 'Tom', 'album': 'Betty', 'number': '8'}\n",
      "You can enter 'q' to quit out at any time.\n",
      "Please enter singer's name:q\n"
     ]
    }
   ],
   "source": [
    "# 8-8 用户的专辑\n",
    "def make_album(singer_name,album_name,number=None):\n",
    "    \"\"\"接受歌手名字及专辑名称并返回一个字典\"\"\"\n",
    "    album = {'singer':singer_name,'album':album_name}\n",
    "    if number:\n",
    "        album['number'] = number\n",
    "    return album\n",
    "\n",
    "while True:\n",
    "    print(\"You can enter 'q' to quit out at any time.\")\n",
    "    singer_input = input(\"Please enter singer's name:\")\n",
    "    if singer_input == 'q':\n",
    "        break\n",
    "    album_input = input(\"Please enter album's name:\")\n",
    "    if album_input == 'q':\n",
    "        break\n",
    "    prompt = \"Please enter the number of the songs in the album:\"\n",
    "    number_input = input(prompt)\n",
    "    if number_input == 'q':\n",
    "         break\n",
    "    user_album = make_album(singer_input,album_input,number_input)\n",
    "    print(user_album)"
   ]
  },
  {
   "cell_type": "code",
   "execution_count": null,
   "id": "d9839ac2",
   "metadata": {},
   "outputs": [],
   "source": []
  }
 ],
 "metadata": {
  "kernelspec": {
   "display_name": "Python 3 (ipykernel)",
   "language": "python",
   "name": "python3"
  },
  "language_info": {
   "codemirror_mode": {
    "name": "ipython",
    "version": 3
   },
   "file_extension": ".py",
   "mimetype": "text/x-python",
   "name": "python",
   "nbconvert_exporter": "python",
   "pygments_lexer": "ipython3",
   "version": "3.9.13"
  }
 },
 "nbformat": 4,
 "nbformat_minor": 5
}
