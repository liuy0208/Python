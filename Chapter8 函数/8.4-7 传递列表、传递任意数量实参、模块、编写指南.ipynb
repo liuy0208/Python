{
 "cells": [
  {
   "cell_type": "markdown",
   "id": "3fe510fa",
   "metadata": {},
   "source": [
    "# 8.4 传递列表"
   ]
  },
  {
   "cell_type": "code",
   "execution_count": 2,
   "id": "3f2a6ce1",
   "metadata": {},
   "outputs": [
    {
     "name": "stdout",
     "output_type": "stream",
     "text": [
      "Hello,Hannah!\n",
      "Hello,Ty!\n",
      "Hello,Margot!\n"
     ]
    }
   ],
   "source": [
    "# 将包含名字的列表传递给一个问候函数\n",
    "def greet_user(names):\n",
    "    \"\"\"向列表中的每位用户发出简单的问候\"\"\"\n",
    "    for name in names:\n",
    "        print(f\"Hello,{name.title()}!\")\n",
    "usernames = ['hannah','ty','margot']\n",
    "greet_user(usernames)"
   ]
  },
  {
   "cell_type": "markdown",
   "id": "f44aed17",
   "metadata": {},
   "source": [
    "## 8.4.1 在函数中修改列表"
   ]
  },
  {
   "cell_type": "code",
   "execution_count": 10,
   "id": "40c184d6",
   "metadata": {},
   "outputs": [
    {
     "name": "stdout",
     "output_type": "stream",
     "text": [
      "Printing design:dodecahedron\n",
      "Printing design:robot pendant\n",
      "Printing design:phone case\n",
      "The following models have been printed:\n",
      "dodecahedron\n",
      "robot pendant\n",
      "phone case\n"
     ]
    }
   ],
   "source": [
    "# 在函数中修改列表——创建一个列表，其中包含一些要打印的设计\n",
    "unprinted_designs = ['phone case','robot pendant','dodecahedron']\n",
    "completed_models = []\n",
    "# 模拟打印每个设计，直到没有未打印的设计为止\n",
    "# 打印每个设计以后都将其移到列表completed_models中\n",
    "while unprinted_designs:\n",
    "    printing_design = unprinted_designs.pop()\n",
    "    print(f\"Printing design:{printing_design}\")\n",
    "    completed_models.append(printing_design)\n",
    "# 显示打印好的所有模型\n",
    "print(\"The following models have been printed:\")\n",
    "for model in completed_models:\n",
    "    print(model)"
   ]
  },
  {
   "cell_type": "code",
   "execution_count": 17,
   "id": "9e5436ee",
   "metadata": {},
   "outputs": [
    {
     "name": "stdout",
     "output_type": "stream",
     "text": [
      "Printing design:dodecahedron\n",
      "Printing design:robot pendant\n",
      "Printing design:phone case\n",
      "['dodecahedron', 'robot pendant', 'phone case']\n",
      "The following models have been printed:\n",
      "dodecahedron\n",
      "robot pendant\n",
      "phone case\n"
     ]
    }
   ],
   "source": [
    "# （自我编写版）先定义函数，解释其功能\n",
    "def printing_design(designs):\n",
    "    \"\"\"\n",
    "    模拟打印每个设计，直到没有未打印的设为止\n",
    "    打印每个设计后，都将其移到列表completed_models中\n",
    "    \"\"\"\n",
    "    while designs:\n",
    "        printing_design = designs.pop()\n",
    "        print(f\"Printing design:{printing_design}\")\n",
    "# 下面这行代码其实也是引入了一个参数，可以在定义函数形参时给其建立一个占位值\n",
    "        completed_models.append(printing_design)\n",
    "    \n",
    "    \n",
    "def completed_model(models):\n",
    "    \"\"\"显示打印好的所有模型\"\"\"\n",
    "    for model in models:\n",
    "        print(model)\n",
    "# 给函数中的形参具体赋值\n",
    "unprinted_designs = ['phone case','robot pendant','dodecahedron']\n",
    "completed_models = []\n",
    "printing_design(unprinted_designs)\n",
    "print(completed_models)\n",
    "print(\"The following models have been printed:\")\n",
    "completed_model(completed_models)"
   ]
  },
  {
   "cell_type": "code",
   "execution_count": 18,
   "id": "4c99a93c",
   "metadata": {},
   "outputs": [
    {
     "name": "stdout",
     "output_type": "stream",
     "text": [
      "Printing design:dodecahedron\n",
      "Printing design:robot pendant\n",
      "Printing design:phone case\n",
      "['dodecahedron', 'robot pendant', 'phone case']\n",
      "The following models have been printed:\n"
     ]
    },
    {
     "ename": "TypeError",
     "evalue": "'list' object is not callable",
     "output_type": "error",
     "traceback": [
      "\u001b[1;31m---------------------------------------------------------------------------\u001b[0m",
      "\u001b[1;31mTypeError\u001b[0m                                 Traceback (most recent call last)",
      "\u001b[1;32m~\\AppData\\Local\\Temp\\ipykernel_64352\\2175337081.py\u001b[0m in \u001b[0;36m<module>\u001b[1;34m\u001b[0m\n\u001b[0;32m     14\u001b[0m \u001b[0mprint\u001b[0m\u001b[1;33m(\u001b[0m\u001b[0mcompleted_models\u001b[0m\u001b[1;33m)\u001b[0m\u001b[1;33m\u001b[0m\u001b[1;33m\u001b[0m\u001b[0m\n\u001b[0;32m     15\u001b[0m \u001b[0mprint\u001b[0m\u001b[1;33m(\u001b[0m\u001b[1;34m\"The following models have been printed:\"\u001b[0m\u001b[1;33m)\u001b[0m\u001b[1;33m\u001b[0m\u001b[1;33m\u001b[0m\u001b[0m\n\u001b[1;32m---> 16\u001b[1;33m \u001b[0mcompleted_models\u001b[0m\u001b[1;33m(\u001b[0m\u001b[0mcompleted_models\u001b[0m\u001b[1;33m)\u001b[0m\u001b[1;33m\u001b[0m\u001b[1;33m\u001b[0m\u001b[0m\n\u001b[0m",
      "\u001b[1;31mTypeError\u001b[0m: 'list' object is not callable"
     ]
    }
   ],
   "source": [
    "# （自我编写版）先定义函数，解释其功能\n",
    "def printing_design(designs):\n",
    "    while designs:\n",
    "        printing_design = designs.pop()\n",
    "        print(f\"Printing design:{printing_design}\")\n",
    "        completed_models.append(printing_design)\n",
    "        \n",
    "        \n",
    "def completed_models(models):\n",
    "    for model in models:\n",
    "        print(model)\n",
    "# 给函数中的形参具体赋值\n",
    "unprinted_designs = ['phone case','robot pendant','dodecahedron']\n",
    "completed_models = []\n",
    "printing_design(unprinted_designs)\n",
    "print(completed_models)\n",
    "print(\"The following models have been printed:\")\n",
    "completed_models(completed_models)\n",
    "# 报错的原因：定义的函数与列表名一模一样，当中python读取代码时产生了混乱——解决方案：修改其中一个名称即可"
   ]
  },
  {
   "cell_type": "code",
   "execution_count": 19,
   "id": "0a1ed2f8",
   "metadata": {},
   "outputs": [
    {
     "name": "stdout",
     "output_type": "stream",
     "text": [
      "Printing model:dodecahedron\n",
      "Printing model:robot pendant\n",
      "Printing model:phone case\n",
      "\n",
      "The following models have been printed:\n",
      "dodecahedron\n",
      "robot pendant\n",
      "phone case\n"
     ]
    }
   ],
   "source": [
    "# 课本参考示例（学习其规范性）\n",
    "def print_models(unprinted_designs,completed_models):\n",
    "    \"\"\"\n",
    "    模拟打印每个设计，直到没有未打印的设为止\n",
    "    打印每个设计后，都将其移到列表completed_models中\n",
    "    \"\"\"\n",
    "    while unprinted_designs:\n",
    "        current_design = unprinted_designs.pop()\n",
    "        print(f\"Printing model:{current_design}\")\n",
    "        completed_models.append(current_design)\n",
    "        \n",
    "        \n",
    "def show_completed_models(completed_models):\n",
    "    \"\"\"显示打印好的所有模型\"\"\"\n",
    "    print(\"\\nThe following models have been printed:\")\n",
    "    for completed_model in completed_models:\n",
    "        print(completed_model)\n",
    "unprinted_designs = ['phone case','robot pendant','dodecahedron']\n",
    "completed_models = []\n",
    "print_models(unprinted_designs,completed_models)\n",
    "show_completed_models(completed_models)\n",
    "# 在定义参数的时候根据其内容、属性或功能进行有意义的定义"
   ]
  },
  {
   "cell_type": "markdown",
   "id": "ad31b535",
   "metadata": {},
   "source": [
    "## 8.4.2 禁止函数修改列表"
   ]
  },
  {
   "cell_type": "code",
   "execution_count": 23,
   "id": "63aadb6f",
   "metadata": {},
   "outputs": [
    {
     "name": "stdout",
     "output_type": "stream",
     "text": [
      "Printing model:dodecahedron\n",
      "Printing model:robot pendant\n",
      "Printing model:phone case\n",
      "\n",
      "The following models have been printed:\n",
      "dodecahedron\n",
      "robot pendant\n",
      "phone case\n",
      "['phone case', 'robot pendant', 'dodecahedron']\n"
     ]
    }
   ],
   "source": [
    "# 创建列表副本\n",
    "# 课本参考示例（学习其规范性）\n",
    "def print_models(unprinted_designs,completed_models):\n",
    "    \"\"\"\n",
    "    模拟打印每个设计，直到没有未打印的设为止\n",
    "    打印每个设计后，都将其移到列表completed_models中\n",
    "    \"\"\"\n",
    "    while unprinted_designs:\n",
    "        current_design = unprinted_designs.pop()\n",
    "        print(f\"Printing model:{current_design}\")\n",
    "        completed_models.append(current_design)\n",
    "        \n",
    "        \n",
    "def show_completed_models(completed_models):\n",
    "    \"\"\"显示打印好的所有模型\"\"\"\n",
    "    print(\"\\nThe following models have been printed:\")\n",
    "    for completed_model in completed_models:\n",
    "        print(completed_model)\n",
    "unprinted_designs = ['phone case','robot pendant','dodecahedron']\n",
    "completed_models = []\n",
    "print_models(unprinted_designs[:],completed_models)\n",
    "show_completed_models(completed_models)\n",
    "print(unprinted_designs)\n",
    "# 在定义参数的时候根据其内容、属性或功能进行有意义的定义"
   ]
  },
  {
   "cell_type": "markdown",
   "id": "a507f514",
   "metadata": {},
   "source": [
    "## 8.4 练习"
   ]
  },
  {
   "cell_type": "code",
   "execution_count": 24,
   "id": "c5f73de3",
   "metadata": {},
   "outputs": [
    {
     "name": "stdout",
     "output_type": "stream",
     "text": [
      "Hello World\n",
      "Good Morning\n",
      "Good Night\n"
     ]
    }
   ],
   "source": [
    "# 8-9 消息\n",
    "def show_message(messages):\n",
    "    \"\"\"打印列表中的简单消息\"\"\"\n",
    "    for message in messages:\n",
    "        print(message)\n",
    "simple_messages = ['Hello World','Good Morning','Good Night']\n",
    "show_message(simple_messages)"
   ]
  },
  {
   "cell_type": "code",
   "execution_count": 30,
   "id": "837b07e1",
   "metadata": {},
   "outputs": [
    {
     "name": "stdout",
     "output_type": "stream",
     "text": [
      "Hello World\n",
      "Good Morning\n",
      "Good Night\n",
      "[]\n",
      "['Good Night', 'Good Morning', 'Hello World']\n"
     ]
    }
   ],
   "source": [
    "# 8-10 发送消息\n",
    "def show_message(show_messages):\n",
    "    \"\"\"打印列表中的简单消息\"\"\"\n",
    "    for message in show_messages:\n",
    "        print(message)\n",
    "        \n",
    "        \n",
    "def send_message(show_messages,send_messages):\n",
    "    \"\"\"将列表中的消息移动到新的列表当中\"\"\"\n",
    "    while show_messages:\n",
    "        need_send_message = show_messages.pop()\n",
    "        send_messages.append(need_send_message)\n",
    "        \n",
    "        \n",
    "show_messages = ['Hello World','Good Morning','Good Night']\n",
    "send_messages = []\n",
    "show_message(show_messages)\n",
    "send_message(show_messages,send_messages)\n",
    "print(show_messages)\n",
    "print(send_messages)"
   ]
  },
  {
   "cell_type": "code",
   "execution_count": 31,
   "id": "a0ce82b8",
   "metadata": {},
   "outputs": [
    {
     "name": "stdout",
     "output_type": "stream",
     "text": [
      "Hello World\n",
      "Good Morning\n",
      "Good Night\n",
      "['Hello World', 'Good Morning', 'Good Night']\n",
      "['Good Night', 'Good Morning', 'Hello World']\n"
     ]
    }
   ],
   "source": [
    "# 8-11 消息归档（留存原始数据）\n",
    "def show_message(show_messages):\n",
    "     \"\"\"打印列表中的简单消息\"\"\"\n",
    "    for message in show_messages:\n",
    "        print(message)\n",
    "        \n",
    "        \n",
    "def send_message(show_messages,send_messages):\n",
    "    \"\"\"将列表中的消息移动到新的列表当中\"\"\"\n",
    "    while show_messages:\n",
    "        need_send_message = show_messages.pop()\n",
    "        send_messages.append(need_send_message)\n",
    "        \n",
    "        \n",
    "show_messages = ['Hello World','Good Morning','Good Night']\n",
    "send_messages = []\n",
    "show_message(show_messages)\n",
    "send_message(show_messages[:],send_messages)\n",
    "print(show_messages)\n",
    "print(send_messages)"
   ]
  },
  {
   "cell_type": "markdown",
   "id": "41927b14",
   "metadata": {},
   "source": [
    "# 8.5 传递任意数量的实参"
   ]
  },
  {
   "cell_type": "code",
   "execution_count": 33,
   "id": "129acafb",
   "metadata": {},
   "outputs": [
    {
     "name": "stdout",
     "output_type": "stream",
     "text": [
      "('pepperoni',)\n",
      "('mushroom', 'green peppers', 'extra cheese')\n"
     ]
    }
   ],
   "source": [
    "def make_pizza(*toppings):\n",
    "    \"\"\"打印顾客点的所有配料\"\"\"\n",
    "    print(toppings)\n",
    "make_pizza('pepperoni')\n",
    "make_pizza('mushroom','green peppers','extra cheese')"
   ]
  },
  {
   "cell_type": "code",
   "execution_count": 34,
   "id": "a84b719e",
   "metadata": {},
   "outputs": [
    {
     "name": "stdout",
     "output_type": "stream",
     "text": [
      "\n",
      "Making a pizza with the following toppings:\n",
      "-pepperoni\n",
      "\n",
      "Making a pizza with the following toppings:\n",
      "-mushroom\n",
      "-green peppers\n",
      "-extra cheese\n"
     ]
    }
   ],
   "source": [
    "def make_pizza(*toppings):\n",
    "    \"\"\"概述要制作的披萨\"\"\"\n",
    "    print(\"\\nMaking a pizza with the following toppings:\")\n",
    "    for topping in toppings:\n",
    "        print(f'-{topping}')\n",
    "make_pizza('pepperoni')\n",
    "make_pizza('mushroom','green peppers','extra cheese')"
   ]
  },
  {
   "cell_type": "markdown",
   "id": "14348be2",
   "metadata": {},
   "source": [
    "## 8.5.1 结合使用位置形参和任意数量形参"
   ]
  },
  {
   "cell_type": "code",
   "execution_count": 42,
   "id": "2977e46b",
   "metadata": {},
   "outputs": [
    {
     "name": "stdout",
     "output_type": "stream",
     "text": [
      "\n",
      "Making a 16-inch pizza with the following toppings:\n",
      "-pepperoni\n",
      "\n",
      "Making a 12-inch pizza with the following toppings:\n",
      "-mushroom\n",
      "-green peppers\n",
      "-extra cheese\n"
     ]
    }
   ],
   "source": [
    "# 不同类型的实参共同使用时，需要注意形参的位置顺序\n",
    "def make_pizza(size,*toppings):\n",
    "    \"\"\"概述要制作的披萨\"\"\"\n",
    "    print(f\"\\nMaking a {size}-inch pizza with the following toppings:\")\n",
    "    for topping in toppings:\n",
    "        print(f'-{topping}')\n",
    "make_pizza(16,'pepperoni')\n",
    "make_pizza(12,'mushroom','green peppers','extra cheese')"
   ]
  },
  {
   "cell_type": "markdown",
   "id": "3da73c78",
   "metadata": {},
   "source": [
    "## 8.5.2 使用任意数量的关键字实参"
   ]
  },
  {
   "cell_type": "code",
   "execution_count": 44,
   "id": "2c5540aa",
   "metadata": {},
   "outputs": [
    {
     "name": "stdout",
     "output_type": "stream",
     "text": [
      "{'location': 'princeton', 'field': 'physics', 'first_name': 'albert', 'last_name': 'einstein'}\n"
     ]
    }
   ],
   "source": [
    "# 创建用户简介\n",
    "def build_profile(first,last,**user_info):\n",
    "    \"\"\"创建一个字典，里面包含我们知道的有关用户的一切。\"\"\"\n",
    "    user_info['first_name'] = first\n",
    "    user_info['last_name'] = last\n",
    "    return user_info\n",
    "user_profile = build_profile('albert','einstein',location='princeton',field='physics')\n",
    "print(user_profile)"
   ]
  },
  {
   "cell_type": "markdown",
   "id": "dac83671",
   "metadata": {},
   "source": [
    "## 8.5 练习"
   ]
  },
  {
   "cell_type": "code",
   "execution_count": 45,
   "id": "fb27cbe7",
   "metadata": {},
   "outputs": [
    {
     "name": "stdout",
     "output_type": "stream",
     "text": [
      "\n",
      "Making a sandwich with following toppings:\n",
      "-mayo\n",
      "\n",
      "Making a sandwich with following toppings:\n",
      "-buns\n",
      "-lettuce\n",
      "\n",
      "Making a sandwich with following toppings:\n",
      "-extra cheese\n",
      "-beef\n",
      "-egg\n"
     ]
    }
   ],
   "source": [
    "# 8-12 三明治\n",
    "def make_sandwich(*toppings):\n",
    "    \"\"\"概述三明治的配料\"\"\"\n",
    "    print(f\"\\nMaking a sandwich with following toppings:\")\n",
    "    for topping in toppings:\n",
    "        print(f\"-{topping}\")\n",
    "make_sandwich('mayo')\n",
    "make_sandwich('buns','lettuce')\n",
    "make_sandwich('extra cheese','beef','egg')"
   ]
  },
  {
   "cell_type": "code",
   "execution_count": 47,
   "id": "171119d7",
   "metadata": {},
   "outputs": [
    {
     "name": "stdout",
     "output_type": "stream",
     "text": [
      "{'location': 'Nanjing', 'university': 'NJU', 'age': 20, 'first_name': 'Ying', 'last_name': 'Liu'}\n"
     ]
    }
   ],
   "source": [
    "# 8-13 用户简介\n",
    "def build_profile(first,last,**user_info):\n",
    "    \"\"\"创建一个字典，里面包含我们知道的有关用户的一切。\"\"\"\n",
    "    user_info['first_name'] = first\n",
    "    user_info['last_name'] = last\n",
    "    return user_info\n",
    "user_profile = build_profile('Ying','Liu',location='Nanjing',university='NJU',age=20)\n",
    "print(user_profile)"
   ]
  },
  {
   "cell_type": "code",
   "execution_count": 52,
   "id": "9ff0d382",
   "metadata": {},
   "outputs": [
    {
     "name": "stdout",
     "output_type": "stream",
     "text": [
      "{'color': 'blue', 'tow_package': True, 'manufacture': 'subaru', 'model': 'outback'}\n"
     ]
    }
   ],
   "source": [
    "# 8-14 汽车\n",
    "def build_profile(manufacture,model,**car_info):\n",
    "    car_info['manufacture'] = manufacture\n",
    "    car_info['model'] = model\n",
    "    return car_info\n",
    "car_profile = build_profile('subaru','outback',color='blue',tow_package=True)\n",
    "print(car_profile)"
   ]
  },
  {
   "cell_type": "markdown",
   "id": "a64144dc",
   "metadata": {},
   "source": [
    "# 8.6 将函数存储在模块中"
   ]
  },
  {
   "cell_type": "markdown",
   "id": "e08cffcf",
   "metadata": {},
   "source": [
    "## 8.6.1 导入整个模块"
   ]
  },
  {
   "cell_type": "code",
   "execution_count": 61,
   "id": "84d16f69",
   "metadata": {
    "scrolled": true
   },
   "outputs": [
    {
     "name": "stdout",
     "output_type": "stream",
     "text": [
      "\n",
      "Making a 16-inch pizza with the following toppings: \n",
      "-pepperoni\n",
      "\n",
      "Making a 12-inch pizza with the following toppings: \n",
      "-mushrooms\n",
      "-green peppers\n",
      "-extra cheese\n"
     ]
    }
   ],
   "source": [
    "# 函数代码块需要转变成py格式的文件\n",
    "# 调用被导入模块的函数时，要指定被导入模块的名称和模块中的函数名，并用句点分隔\n",
    "# pizza模块当中虽然有多个函数，但是在调用函数时明确指定了是make_pizza这一函数因此不会报错\n",
    "import pizza\n",
    "pizza.make_pizza(16,'pepperoni')\n",
    "pizza.make_pizza(12,'mushrooms','green peppers','extra cheese')"
   ]
  },
  {
   "cell_type": "markdown",
   "id": "f0df4784",
   "metadata": {},
   "source": [
    "## 8.6.2 导入特定的函数"
   ]
  },
  {
   "cell_type": "code",
   "execution_count": 63,
   "id": "3a3d19cf",
   "metadata": {
    "scrolled": true
   },
   "outputs": [
    {
     "name": "stdout",
     "output_type": "stream",
     "text": [
      "\n",
      "Making a 16-inch pizza with the following toppings: \n",
      "-pepperoni\n",
      "\n",
      "Making a 12-inch pizza with the following toppings: \n",
      "-mushrooms\n",
      "-green peppers\n",
      "-extra cheese\n"
     ]
    }
   ],
   "source": [
    "from pizza import make_pizza\n",
    "\n",
    "# 调用时无需再使用模块名与句点\n",
    "make_pizza(16,'pepperoni')\n",
    "make_pizza(12,'mushrooms','green peppers','extra cheese')"
   ]
  },
  {
   "cell_type": "markdown",
   "id": "5dcba4e6",
   "metadata": {},
   "source": [
    "## 8.6.3 使用as给函数指定别名"
   ]
  },
  {
   "cell_type": "code",
   "execution_count": 64,
   "id": "fb454697",
   "metadata": {},
   "outputs": [
    {
     "name": "stdout",
     "output_type": "stream",
     "text": [
      "\n",
      "Making a 16-inch pizza with the following toppings: \n",
      "-pepperoni\n",
      "\n",
      "Making a 12-inch pizza with the following toppings: \n",
      "-mushrooms\n",
      "-green peppers\n",
      "-extra cheese\n"
     ]
    }
   ],
   "source": [
    "from pizza import make_pizza as mp\n",
    "\n",
    "mp(16,'pepperoni')\n",
    "mp(12,'mushrooms','green peppers','extra cheese')"
   ]
  },
  {
   "cell_type": "markdown",
   "id": "670a4140",
   "metadata": {},
   "source": [
    "## 8.6.4 使用as给模块指定别名"
   ]
  },
  {
   "cell_type": "code",
   "execution_count": 65,
   "id": "51b4ed08",
   "metadata": {},
   "outputs": [
    {
     "name": "stdout",
     "output_type": "stream",
     "text": [
      "\n",
      "Making a 16-inch pizza with the following toppings: \n",
      "-pepperoni\n",
      "\n",
      "Making a 12-inch pizza with the following toppings: \n",
      "-mushrooms\n",
      "-green peppers\n",
      "-extra cheese\n"
     ]
    }
   ],
   "source": [
    "import pizza as p\n",
    "p.make_pizza(16,'pepperoni')\n",
    "p.make_pizza(12,'mushrooms','green peppers','extra cheese')"
   ]
  },
  {
   "cell_type": "markdown",
   "id": "30281ee2",
   "metadata": {},
   "source": [
    "## 8.6.5 导入模块中的所有函数"
   ]
  },
  {
   "cell_type": "code",
   "execution_count": 66,
   "id": "246189c0",
   "metadata": {},
   "outputs": [
    {
     "name": "stdout",
     "output_type": "stream",
     "text": [
      "\n",
      "Making a 16-inch pizza with the following toppings: \n",
      "-pepperoni\n",
      "\n",
      "Making a 12-inch pizza with the following toppings: \n",
      "-mushrooms\n",
      "-green peppers\n",
      "-extra cheese\n"
     ]
    }
   ],
   "source": [
    "# 使用这种导入方法时要慎重考虑是否会出现模块中的函数名与项目中的名称相同的情况\n",
    "from pizza import *\n",
    "\n",
    "pizza.make_pizza(16,'pepperoni')\n",
    "pizza.make_pizza(12,'mushrooms','green peppers','extra cheese')"
   ]
  },
  {
   "cell_type": "markdown",
   "id": "d121f076",
   "metadata": {},
   "source": [
    "# 8.7 函数编写指南"
   ]
  },
  {
   "cell_type": "code",
   "execution_count": null,
   "id": "de8f53a1",
   "metadata": {},
   "outputs": [],
   "source": [
    "# 定义函数形参字符过多时\n",
    "def function_name(\n",
    "        parameter_0,parameter_1,parameter_2,\n",
    "        parameter_3,parameter_4,parameter_5,):\n",
    "    function body..."
   ]
  },
  {
   "cell_type": "markdown",
   "id": "855e1329",
   "metadata": {},
   "source": [
    "## 8.6&7 练习"
   ]
  },
  {
   "cell_type": "code",
   "execution_count": 71,
   "id": "724156d8",
   "metadata": {},
   "outputs": [
    {
     "name": "stdout",
     "output_type": "stream",
     "text": [
      "Printing model:dodecahedron\n",
      "Printing model:robot pendant\n",
      "Printing model:phone case\n",
      "\n",
      "The following models have been printed:\n",
      "dodecahedron\n",
      "robot pendant\n",
      "phone case\n",
      "['phone case', 'robot pendant', 'dodecahedron']\n"
     ]
    }
   ],
   "source": [
    "# 8-15 打印模型\n",
    "import printing_functions\n",
    "unprinted_designs = ['phone case','robot pendant','dodecahedron']\n",
    "completed_models = []\n",
    "printing_functions.print_models(unprinted_designs[:],completed_models)\n",
    "printing_functions.show_completed_models(completed_models)\n",
    "print(unprinted_designs)"
   ]
  },
  {
   "cell_type": "code",
   "execution_count": 75,
   "id": "0052ca02",
   "metadata": {},
   "outputs": [
    {
     "name": "stdout",
     "output_type": "stream",
     "text": [
      "{'location': 'Nanjing', 'university': 'NJU', 'age': 20, 'first_name': 'Ying', 'last_name': 'Liu'}\n",
      "{'location': 'Nanjing', 'university': 'NJU', 'age': 20, 'first_name': 'Ying', 'last_name': 'Liu'}\n",
      "{'location': 'Nanjing', 'university': 'NJU', 'age': 20, 'first_name': 'Ying', 'last_name': 'Liu'}\n",
      "{'location': 'Nanjing', 'university': 'NJU', 'age': 20, 'first_name': 'Ying', 'last_name': 'Liu'}\n",
      "{'location': 'Nanjing', 'university': 'NJU', 'age': 20, 'first_name': 'Ying', 'last_name': 'Liu'}\n"
     ]
    }
   ],
   "source": [
    "# 8-16 多种导入方式\n",
    "import profile_function\n",
    "user_profile = profile_function.build_profile('Ying','Liu',location='Nanjing',university='NJU',age=20)\n",
    "print(user_profile)\n",
    "\n",
    "from profile_function import build_profile\n",
    "user_profile = build_profile('Ying','Liu',location='Nanjing',university='NJU',age=20)\n",
    "print(user_profile)\n",
    "\n",
    "from profile_function import build_profile as bp\n",
    "user_profile = bp('Ying','Liu',location='Nanjing',university='NJU',age=20)\n",
    "print(user_profile)\n",
    "\n",
    "import profile_function as pf\n",
    "user_profile = pf.build_profile('Ying','Liu',location='Nanjing',university='NJU',age=20)\n",
    "print(user_profile)\n",
    "\n",
    "from profile_function import *\n",
    "user_profile = build_profile('Ying','Liu',location='Nanjing',university='NJU',age=20)\n",
    "print(user_profile)"
   ]
  },
  {
   "cell_type": "code",
   "execution_count": 92,
   "id": "aa4620da",
   "metadata": {},
   "outputs": [
    {
     "name": "stdout",
     "output_type": "stream",
     "text": [
      "{'location': 'Nanjing', 'university': 'NJU', 'age': 20, 'first_name': 'Ying', 'last_name': 'Liu'}\n"
     ]
    }
   ],
   "source": [
    "# 8-17 函数编写指南\n",
    "def build_profile(first,last,**user_info):\n",
    "    \"\"\"创建一个字典，里面包含我们知道的有关用户的一切。\"\"\"\n",
    "    user_info['first_name'] = first\n",
    "    user_info['last_name'] = last\n",
    "    return user_info\n",
    "user_profile = build_profile('Ying','Liu',\n",
    "                             location='Nanjing',\n",
    "                             university='NJU',age=20)\n",
    "print(user_profile)"
   ]
  },
  {
   "cell_type": "code",
   "execution_count": 91,
   "id": "a7291ef3",
   "metadata": {},
   "outputs": [
    {
     "name": "stdout",
     "output_type": "stream",
     "text": [
      "\n",
      "Making a sandwich with following toppings:\n",
      "-mayo\n",
      "\n",
      "Making a sandwich with following toppings:\n",
      "-buns\n",
      "-lettuce\n",
      "\n",
      "Making a sandwich with following toppings:\n",
      "-extra cheese\n",
      "-beef\n",
      "-egg\n"
     ]
    }
   ],
   "source": [
    "# 8-17 函数编写指南\n",
    "def make_sandwich(*toppings):\n",
    "    \"\"\"概述三明治的配料\"\"\"\n",
    "    print(f\"\\nMaking a sandwich with following toppings:\")\n",
    "    for topping in toppings:\n",
    "        print(f\"-{topping}\")\n",
    "make_sandwich('mayo')\n",
    "make_sandwich('buns','lettuce')\n",
    "make_sandwich('extra cheese','beef','egg')"
   ]
  },
  {
   "cell_type": "code",
   "execution_count": 90,
   "id": "c69c1e56",
   "metadata": {},
   "outputs": [
    {
     "name": "stdout",
     "output_type": "stream",
     "text": [
      "Hello World\n",
      "Good Morning\n",
      "Good Night\n",
      "['Hello World', 'Good Morning', 'Good Night']\n",
      "['Good Night', 'Good Morning', 'Hello World']\n"
     ]
    }
   ],
   "source": [
    "# 8-17 函数编写指南\n",
    "def show_message(show_messages):\n",
    "    \"\"\"打印列表中的简单消息\"\"\"\n",
    "    for message in show_messages:\n",
    "        print(message)\n",
    "        \n",
    "        \n",
    "def send_message(show_messages,send_messages):\n",
    "    \"\"\"将列表中的消息移动到新的列表当中\"\"\"\n",
    "    while show_messages:\n",
    "        need_send_message = show_messages.pop()\n",
    "        send_messages.append(need_send_message)\n",
    "        \n",
    "        \n",
    "show_messages = ['Hello World','Good Morning','Good Night']\n",
    "send_messages = []\n",
    "show_message(show_messages)\n",
    "send_message(show_messages[:],send_messages)\n",
    "print(show_messages)\n",
    "print(send_messages)"
   ]
  },
  {
   "cell_type": "code",
   "execution_count": null,
   "id": "c88d5862",
   "metadata": {},
   "outputs": [],
   "source": []
  }
 ],
 "metadata": {
  "kernelspec": {
   "display_name": "Python 3 (ipykernel)",
   "language": "python",
   "name": "python3"
  },
  "language_info": {
   "codemirror_mode": {
    "name": "ipython",
    "version": 3
   },
   "file_extension": ".py",
   "mimetype": "text/x-python",
   "name": "python",
   "nbconvert_exporter": "python",
   "pygments_lexer": "ipython3",
   "version": "3.9.13"
  }
 },
 "nbformat": 4,
 "nbformat_minor": 5
}
