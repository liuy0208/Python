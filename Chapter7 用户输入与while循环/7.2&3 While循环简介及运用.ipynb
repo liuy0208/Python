{
 "cells": [
  {
   "cell_type": "markdown",
   "id": "eba23435",
   "metadata": {},
   "source": [
    "# 7.2 While循环"
   ]
  },
  {
   "cell_type": "code",
   "execution_count": 7,
   "id": "6faf429e",
   "metadata": {},
   "outputs": [
    {
     "name": "stdout",
     "output_type": "stream",
     "text": [
      "1\n",
      "2\n",
      "3\n",
      "4\n",
      "5\n"
     ]
    }
   ],
   "source": [
    "# 使用while循环来数数\n",
    "number = 1\n",
    "while number <= 5:\n",
    "    print(number)\n",
    "    number = number + 1"
   ]
  },
  {
   "cell_type": "code",
   "execution_count": 8,
   "id": "b54c10a0",
   "metadata": {},
   "outputs": [
    {
     "name": "stdout",
     "output_type": "stream",
     "text": [
      "\n",
      "Tell me something,and I will repeat it back to you:\n",
      "Enter 'quit' to end the program.YEs\n",
      "YEs\n",
      "\n",
      "Tell me something,and I will repeat it back to you:\n",
      "Enter 'quit' to end the program.Good\n",
      "Good\n",
      "\n",
      "Tell me something,and I will repeat it back to you:\n",
      "Enter 'quit' to end the program.quit\n",
      "quit\n"
     ]
    }
   ],
   "source": [
    "# 让用户选择何时退出\n",
    "prompt = \"\\nTell me something,and I will repeat it back to you:\"\n",
    "prompt += \"\\nEnter 'quit' to end the program.\"\n",
    "message = \"\"\n",
    "while message != 'quit':\n",
    "    message = input(prompt)\n",
    "    print(message)"
   ]
  },
  {
   "cell_type": "code",
   "execution_count": 9,
   "id": "ae8d0055",
   "metadata": {},
   "outputs": [
    {
     "name": "stdout",
     "output_type": "stream",
     "text": [
      "\n",
      "Tell me something,and I will repeat it back to you:\n",
      "Enter 'quit' to end the program.Good\n",
      "Good\n",
      "\n",
      "Tell me something,and I will repeat it back to you:\n",
      "Enter 'quit' to end the program.Yeah\n",
      "Yeah\n",
      "\n",
      "Tell me something,and I will repeat it back to you:\n",
      "Enter 'quit' to end the program.quit\n"
     ]
    }
   ],
   "source": [
    "# 修复quit问题\n",
    "prompt = \"\\nTell me something,and I will repeat it back to you:\"\n",
    "prompt += \"\\nEnter 'quit' to end the program.\"\n",
    "message = \"\"\n",
    "while message != 'quit':\n",
    "    message = input(prompt)\n",
    "    if message != 'quit':\n",
    "        print(message)"
   ]
  },
  {
   "cell_type": "code",
   "execution_count": 10,
   "id": "3e9c8896",
   "metadata": {},
   "outputs": [
    {
     "name": "stdout",
     "output_type": "stream",
     "text": [
      "\n",
      "Tell me something,and I will repeat it back to you:\n",
      "Enter 'quit' to end the program.Hello\n",
      "Hello\n",
      "\n",
      "Tell me something,and I will repeat it back to you:\n",
      "Enter 'quit' to end the program.nice to meet you\n",
      "nice to meet you\n",
      "\n",
      "Tell me something,and I will repeat it back to you:\n",
      "Enter 'quit' to end the program.quit\n"
     ]
    }
   ],
   "source": [
    "# 使用标志\n",
    "prompt = \"\\nTell me something,and I will repeat it back to you:\"\n",
    "prompt += \"\\nEnter 'quit' to end the program.\"\n",
    "active = True\n",
    "while active:\n",
    "    message = input(prompt)\n",
    "    if message == 'quit':\n",
    "        active = False\n",
    "    else:\n",
    "        print(message)"
   ]
  },
  {
   "cell_type": "code",
   "execution_count": 12,
   "id": "b46c7efe",
   "metadata": {},
   "outputs": [
    {
     "name": "stdout",
     "output_type": "stream",
     "text": [
      "\n",
      "Please enter the name of a city you have visited.\n",
      "(Enter 'quit' when you are finished.)beijing\n",
      "I'd love to go to Beijing!\n",
      "\n",
      "Please enter the name of a city you have visited.\n",
      "(Enter 'quit' when you are finished.)london\n",
      "I'd love to go to London!\n",
      "\n",
      "Please enter the name of a city you have visited.\n",
      "(Enter 'quit' when you are finished.)quit\n"
     ]
    }
   ],
   "source": [
    "# 使用break退出循环\n",
    "prompt = \"\\nPlease enter the name of a city you have visited.\"\n",
    "prompt += \"\\n(Enter 'quit' when you are finished.)\"\n",
    "while True:\n",
    "    city = input(prompt)\n",
    "    if city == 'quit':\n",
    "        break\n",
    "    else:\n",
    "        print(f\"I'd love to go to {city.title()}!\")"
   ]
  },
  {
   "cell_type": "code",
   "execution_count": 2,
   "id": "45fe2b9d",
   "metadata": {},
   "outputs": [
    {
     "name": "stdout",
     "output_type": "stream",
     "text": [
      "1\n",
      "3\n",
      "5\n",
      "7\n",
      "9\n"
     ]
    }
   ],
   "source": [
    "# continue\n",
    "number = 0\n",
    "while number <10:\n",
    "    number += 1\n",
    "    if number % 2 == 0:\n",
    "        continue\n",
    "    print(number)"
   ]
  },
  {
   "cell_type": "code",
   "execution_count": 1,
   "id": "85765136",
   "metadata": {},
   "outputs": [
    {
     "name": "stdout",
     "output_type": "stream",
     "text": [
      "1\n",
      "3\n",
      "5\n",
      "7\n",
      "9\n"
     ]
    }
   ],
   "source": [
    "number = 1\n",
    "while number <= 10:\n",
    "    if number % 2 == 0:\n",
    "        number += 1\n",
    "    else:\n",
    "        print(number)\n",
    "        number += 1\n",
    "        continue"
   ]
  },
  {
   "cell_type": "code",
   "execution_count": null,
   "id": "a0a13705",
   "metadata": {},
   "outputs": [],
   "source": [
    "# 以下是个错误的代码，continue不会回到while代码的开头，而是返回if代码的开头，从而在if代码内部不断运行\n",
    "# 而else下面的条件始终没有新的待检查值生成，使得变量始终为初始值1\n",
    "number = 1\n",
    "while number <= 10:\n",
    "    if number % 2 == 0:\n",
    "        number += 1\n",
    "        continue\n",
    "    else:\n",
    "        print(number)"
   ]
  },
  {
   "cell_type": "code",
   "execution_count": 2,
   "id": "596bc4cd",
   "metadata": {},
   "outputs": [
    {
     "name": "stdout",
     "output_type": "stream",
     "text": [
      "1\n",
      "2\n",
      "3\n",
      "4\n",
      "5\n"
     ]
    }
   ],
   "source": [
    "# 避免无限循环\n",
    "x = 1\n",
    "while x <= 5:\n",
    "    print(x)\n",
    "    x += 1"
   ]
  },
  {
   "cell_type": "markdown",
   "id": "57cd1c34",
   "metadata": {},
   "source": [
    "### 7.2 练习"
   ]
  },
  {
   "cell_type": "code",
   "execution_count": 2,
   "id": "6e4bec13",
   "metadata": {},
   "outputs": [
    {
     "name": "stdout",
     "output_type": "stream",
     "text": [
      "\n",
      "Please tell us which topping do you want one by one:\n",
      "(Enter 'quit' when you finish.)apple\n",
      "We will add apple in your pizza!\n",
      "\n",
      "Please tell us which topping do you want one by one:\n",
      "(Enter 'quit' when you finish.)quit\n"
     ]
    }
   ],
   "source": [
    "# 7-4 比萨配料-条件测试结束循环\n",
    "prompt = \"\\nPlease tell us which topping do you want one by one:\"\n",
    "prompt += \"\\n(Enter 'quit' when you finish.)\"\n",
    "topping = ''\n",
    "while topping != 'quit':\n",
    "    topping = input(prompt)\n",
    "    if topping != 'quit':\n",
    "        print(f\"We will add {topping} in your pizza!\")"
   ]
  },
  {
   "cell_type": "code",
   "execution_count": 3,
   "id": "9a006a42",
   "metadata": {},
   "outputs": [
    {
     "name": "stdout",
     "output_type": "stream",
     "text": [
      "\n",
      "Please tell us which topping do you want one by one:\n",
      "(Enter 'quit' when you finish.)cheese\n",
      "We will add cheese in your pizza!\n",
      "\n",
      "Please tell us which topping do you want one by one:\n",
      "(Enter 'quit' when you finish.)quit\n"
     ]
    }
   ],
   "source": [
    "# 7-4 比萨配料-条件测试结束循环\n",
    "prompt = \"\\nPlease tell us which topping do you want one by one:\"\n",
    "prompt += \"\\n(Enter 'quit' when you finish.)\"\n",
    "active = True\n",
    "while active:\n",
    "    topping = input(prompt)\n",
    "    if topping == 'quit':\n",
    "        active = False\n",
    "    else:\n",
    "        print(f\"We will add {topping} in your pizza!\")"
   ]
  },
  {
   "cell_type": "code",
   "execution_count": 13,
   "id": "f8cf47f9",
   "metadata": {},
   "outputs": [
    {
     "name": "stdout",
     "output_type": "stream",
     "text": [
      "\n",
      "Please tell us which topping do you want one by one:\n",
      "(Enter 'quit' when you finish.)cheese\n",
      "We will add cheese in your pizza!\n",
      "\n",
      "Please tell us which topping do you want one by one:\n",
      "(Enter 'quit' when you finish.)apple\n",
      "We will add apple in your pizza!\n",
      "\n",
      "Please tell us which topping do you want one by one:\n",
      "(Enter 'quit' when you finish.)onion\n",
      "We will add onion in your pizza!\n",
      "\n",
      "Please tell us which topping do you want one by one:\n",
      "(Enter 'quit' when you finish.)quit\n"
     ]
    }
   ],
   "source": [
    "# 7-4 比萨配料-使用break语句退出循环\n",
    "prompt = \"\\nPlease tell us which topping do you want one by one:\"\n",
    "prompt += \"\\n(Enter 'quit' when you finish.)\"\n",
    "while True:\n",
    "    topping = input(prompt)\n",
    "    if topping == 'quit':\n",
    "        break\n",
    "    else:\n",
    "        print(f\"We will add {topping} in your pizza!\")"
   ]
  },
  {
   "cell_type": "code",
   "execution_count": 2,
   "id": "5e76d009",
   "metadata": {},
   "outputs": [
    {
     "name": "stdout",
     "output_type": "stream",
     "text": [
      "\n",
      "Please tell us your age:\n",
      "(Enter 'quit' when you finish.)23\n",
      "Your ticket costs $15.\n",
      "\n",
      "Please tell us your age:\n",
      "(Enter 'quit' when you finish.)1\n",
      "You are free.\n",
      "\n",
      "Please tell us your age:\n",
      "(Enter 'quit' when you finish.)5\n",
      "Your ticket costs $10.\n",
      "\n",
      "Please tell us your age:\n",
      "(Enter 'quit' when you finish.)quit\n"
     ]
    }
   ],
   "source": [
    "# 7-5 电影票-条件测试结束循环\n",
    "prompt = \"\\nPlease tell us your age:\"\n",
    "prompt += \"\\n(Enter 'quit' when you finish.)\"\n",
    "age = ''\n",
    "while age != 'quit':\n",
    "    age = input(prompt)\n",
    "    if age != 'quit':\n",
    "        age = int(age)\n",
    "        if 0 <= age < 3:\n",
    "            print(\"You are free.\")\n",
    "        elif 3 <= age <=12:\n",
    "            print(\"Your ticket costs $10.\")\n",
    "        elif age > 12:\n",
    "            print(\"Your ticket costs $15.\")"
   ]
  },
  {
   "cell_type": "code",
   "execution_count": 3,
   "id": "f6067c71",
   "metadata": {},
   "outputs": [
    {
     "name": "stdout",
     "output_type": "stream",
     "text": [
      "\n",
      "Please tell us your age:\n",
      "(Enter 'quit' when you finish.)2\n",
      "You are free.\n",
      "\n",
      "Please tell us your age:\n",
      "(Enter 'quit' when you finish.)6\n",
      "Your ticket costs $10.\n",
      "\n",
      "Please tell us your age:\n",
      "(Enter 'quit' when you finish.)19\n",
      "Your ticket costs $15.\n",
      "\n",
      "Please tell us your age:\n",
      "(Enter 'quit' when you finish.)quit\n"
     ]
    }
   ],
   "source": [
    "# 7-5 电影票-active结束循环\n",
    "prompt = \"\\nPlease tell us your age:\"\n",
    "prompt += \"\\n(Enter 'quit' when you finish.)\"\n",
    "active = True\n",
    "while active:\n",
    "    age = input(prompt)\n",
    "    if age == 'quit':\n",
    "        active = False\n",
    "    else:\n",
    "        age = int(age)\n",
    "        if age < 3:\n",
    "            print(\"You are free.\")\n",
    "        elif 3 <= age <=12:\n",
    "            print(\"Your ticket costs $10.\")\n",
    "        else:\n",
    "            print(\"Your ticket costs $15.\")"
   ]
  },
  {
   "cell_type": "code",
   "execution_count": 4,
   "id": "6cfe43cd",
   "metadata": {},
   "outputs": [
    {
     "name": "stdout",
     "output_type": "stream",
     "text": [
      "\n",
      "Please tell us your age:\n",
      "(Enter 'quit' when you finish.)12\n",
      "Your ticket costs $10.\n",
      "\n",
      "Please tell us your age:\n",
      "(Enter 'quit' when you finish.)16\n",
      "Your ticket costs $15.\n",
      "\n",
      "Please tell us your age:\n",
      "(Enter 'quit' when you finish.)2\n",
      "You are free.\n",
      "\n",
      "Please tell us your age:\n",
      "(Enter 'quit' when you finish.)quit\n"
     ]
    }
   ],
   "source": [
    "# 7-5 电影票-break语句结束循环\n",
    "prompt = \"\\nPlease tell us your age:\"\n",
    "prompt += \"\\n(Enter 'quit' when you finish.)\"\n",
    "while True:\n",
    "    age = input(prompt)\n",
    "    if age == 'quit':\n",
    "        break\n",
    "    else:\n",
    "        age = int(age)\n",
    "        if age < 3:\n",
    "            print(\"You are free.\")\n",
    "        elif 3 <= age <=12:\n",
    "            print(\"Your ticket costs $10.\")\n",
    "        else:\n",
    "            print(\"Your ticket costs $15.\")"
   ]
  },
  {
   "cell_type": "markdown",
   "id": "bd120307",
   "metadata": {},
   "source": [
    "## 7.3 用while循环处理列表和字典"
   ]
  },
  {
   "cell_type": "code",
   "execution_count": 9,
   "id": "ca3cab81",
   "metadata": {},
   "outputs": [
    {
     "name": "stdout",
     "output_type": "stream",
     "text": [
      "Verifying user:Candace\n",
      "Verifying user:Brian\n",
      "Verifying user:Alice\n",
      "\n",
      "The following users have been confirmed:\n",
      "Candace\n",
      "Brian\n",
      "Alice\n"
     ]
    }
   ],
   "source": [
    "# 在列表之间移动元素——自己编写代码时遇到的困难：用什么代码表示该用户被“验证”了？\n",
    "unconfirmed_users = ['alice','brian','candace']\n",
    "confirmed_users = []\n",
    "while unconfirmed_users:\n",
    "    current_user = unconfirmed_users.pop()\n",
    "    print(f\"Verifying user:{current_user.title()}\")\n",
    "    confirmed_users.append(current_user)\n",
    "print(\"\\nThe following users have been confirmed:\")\n",
    "for confirmed_user in confirmed_users:\n",
    "    print(confirmed_user.title())"
   ]
  },
  {
   "cell_type": "code",
   "execution_count": 10,
   "id": "ee92d306",
   "metadata": {},
   "outputs": [
    {
     "name": "stdout",
     "output_type": "stream",
     "text": [
      "['dog', 'cat', 'dog', 'goldfish', 'cat', 'rabbit', 'cat']\n",
      "['dog', 'dog', 'goldfish', 'rabbit']\n"
     ]
    }
   ],
   "source": [
    "# 删除特定值的所有列表元素\n",
    "pets = ['dog','cat','dog','goldfish','cat','rabbit','cat']\n",
    "print(pets)\n",
    "while 'cat' in pets:\n",
    "    pets.remove('cat')\n",
    "print(pets)"
   ]
  },
  {
   "cell_type": "code",
   "execution_count": 3,
   "id": "2075cc98",
   "metadata": {},
   "outputs": [
    {
     "name": "stdout",
     "output_type": "stream",
     "text": [
      "What is your name?Eric\n",
      "Which mountain would you like to climb someday?Denali\n",
      "Would you like to let another person respond?(yes/no)yes\n",
      "\n",
      "What is your name?Lynn\n",
      "Which mountain would you like to climb someday?Devil's Thumb\n",
      "Would you like to let another person respond?(yes/no)no\n",
      "\n",
      "{'Eric': 'Denali', 'Lynn': \"Devil's Thumb\"}\n",
      "---Poll Results---\n",
      "Eric would like to climb Denali.\n",
      "Lynn would like to climb Devil'S Thumb.\n"
     ]
    }
   ],
   "source": [
    "# 使用用户输入来填充字典\n",
    "poll_results = {}\n",
    "Q1 = \"What is your name?\"\n",
    "Q2 = \"Which mountain would you like to climb someday?\"\n",
    "Q3 = \"Would you like to let another person respond?(yes/no)\"\n",
    "while True:\n",
    "    A1 = input(Q1)\n",
    "    A2 = input(Q2)\n",
    "    A3 = input(Q3)\n",
    "    print()\n",
    "    poll_results[A1] = A2\n",
    "    if A3 == 'no':\n",
    "        break\n",
    "print(poll_results)\n",
    "print(\"---Poll Results---\")\n",
    "for key,value in poll_results.items():\n",
    "    print(f\"{key.title()} would like to climb {value.title()}.\")"
   ]
  },
  {
   "cell_type": "markdown",
   "id": "f71f600e",
   "metadata": {},
   "source": [
    "## 7.3 练习"
   ]
  },
  {
   "cell_type": "code",
   "execution_count": 10,
   "id": "c6f12259",
   "metadata": {},
   "outputs": [
    {
     "name": "stdout",
     "output_type": "stream",
     "text": [
      "I made your roast sandwich,\n",
      "I made your tuna sandwich,\n",
      "I made your egg  sandwich,\n",
      "I have made all your sandwiches:\n",
      "Roast sandwich\n",
      "Tuna sandwich\n",
      "Egg  sandwich\n"
     ]
    }
   ],
   "source": [
    "# 7-8 熟食店\n",
    "sandwich_orders = ['egg ','tuna','roast']\n",
    "finished_orders = []\n",
    "while sandwich_orders:\n",
    "    sandwich_popped = sandwich_orders.pop()\n",
    "    print(f\"I made your {sandwich_popped} sandwich,\")\n",
    "    finished_orders.append(sandwich_popped)\n",
    "print(\"I have made all your sandwiches:\")\n",
    "for sandwich in finished_orders:\n",
    "    print(f\"{sandwich.title()} sandwich\")"
   ]
  },
  {
   "cell_type": "code",
   "execution_count": 13,
   "id": "ac9f14ae",
   "metadata": {},
   "outputs": [
    {
     "name": "stdout",
     "output_type": "stream",
     "text": [
      "Pastrami sandwich has been sold out.\n",
      "['egg ', 'tuna', 'roast']\n"
     ]
    }
   ],
   "source": [
    "# 7-9 五香烟熏牛肉卖完了\n",
    "print('Pastrami sandwich has been sold out.')\n",
    "sandwich_orders = ['egg ','pastrami','tuna','pastrami','roast','pastrami']\n",
    "while 'pastrami' in sandwich_orders:\n",
    "    sandwich_orders.remove('pastrami')\n",
    "finished_orders = sandwich_orders\n",
    "print(finished_orders)"
   ]
  },
  {
   "cell_type": "code",
   "execution_count": null,
   "id": "715ae73d",
   "metadata": {},
   "outputs": [],
   "source": [
    "# 7-10 梦想的度假胜地\n",
    "poll_results = {}\n",
    "Q1 = \"What's your name?\"\n",
    "Q2 = \"If you could visit one place in the world,where would you go?\"\n",
    "Q3 = \"Share with us your reason for picking this place simply?\"\n",
    "Q4 = \"Would you like to let other people to participate in our polling?(yes/no)\"\n",
    "active = True\n",
    "while active:\n",
    "        A1 = input(Q1)\n",
    "        A2 = input(Q2)\n",
    "        A3 = input(Q3)\n",
    "        poll_result[A1] = f\"{[A2]} += {[A3]}\"\n",
    "        A4 = input(Q4)\n",
    "        if A4 == 'no':\n",
    "            active = False\n",
    "        print(f\"The place {A1.title()} want to go is {A2.title()},when it comes to reason,{A1.title()} said '{A3}'\")"
   ]
  }
 ],
 "metadata": {
  "kernelspec": {
   "display_name": "Python 3 (ipykernel)",
   "language": "python",
   "name": "python3"
  },
  "language_info": {
   "codemirror_mode": {
    "name": "ipython",
    "version": 3
   },
   "file_extension": ".py",
   "mimetype": "text/x-python",
   "name": "python",
   "nbconvert_exporter": "python",
   "pygments_lexer": "ipython3",
   "version": "3.9.13"
  }
 },
 "nbformat": 4,
 "nbformat_minor": 5
}
