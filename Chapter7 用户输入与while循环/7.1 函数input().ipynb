{
 "cells": [
  {
   "cell_type": "markdown",
   "id": "89d6c07f",
   "metadata": {},
   "source": [
    "# 7.1 函数input()"
   ]
  },
  {
   "cell_type": "code",
   "execution_count": 4,
   "id": "f33d3413",
   "metadata": {},
   "outputs": [
    {
     "name": "stdout",
     "output_type": "stream",
     "text": [
      "Tell me something,and I will repeat it back to you:Good Morining!\n",
      "Good Morining!\n"
     ]
    }
   ],
   "source": [
    "message = input(\"Tell me something,and I will repeat it back to you:\")\n",
    "print(message)"
   ]
  },
  {
   "cell_type": "code",
   "execution_count": 7,
   "id": "3d4f3f2e",
   "metadata": {},
   "outputs": [
    {
     "name": "stdout",
     "output_type": "stream",
     "text": [
      "Please enter your name:liu ying\n",
      "Hello,Liu Ying!\n"
     ]
    }
   ],
   "source": [
    "# 编写清晰的程序\n",
    "name = input(\"Please enter your name:\")\n",
    "print(f\"Hello,{name.title()}!\")"
   ]
  },
  {
   "cell_type": "code",
   "execution_count": 8,
   "id": "2a9e4e8c",
   "metadata": {},
   "outputs": [
    {
     "name": "stdout",
     "output_type": "stream",
     "text": [
      "If you tell us who you are,we can personalize the message you see.\n",
      "What is your first name?ying\n",
      "Hello,Ying!\n"
     ]
    }
   ],
   "source": [
    "# input()提示超过一行时，可以将提示赋给一个变量\n",
    "prompt = \"If you tell us who you are,we can personalize the message you see.\"\n",
    "name = input(f\"{prompt}\\nWhat is your first name?\")\n",
    "print(f\"Hello,{name.title()}!\")"
   ]
  },
  {
   "cell_type": "code",
   "execution_count": 10,
   "id": "c5f294e1",
   "metadata": {},
   "outputs": [
    {
     "name": "stdout",
     "output_type": "stream",
     "text": [
      "If you tell us who you are,we can personalize the message you see.\n",
      "What is your first name?\n",
      "If you tell us who you are,we can personalize the message you see.\n",
      "What is your first name?anna\n",
      "Hello,Anna!\n"
     ]
    }
   ],
   "source": [
    "# input()提示超过一行时，可以将提示赋给一个变量\n",
    "prompt = \"If you tell us who you are,we can personalize the message you see.\"\n",
    "prompt += \"\\nWhat is your first name?\"\n",
    "print(prompt)\n",
    "name = input(prompt)\n",
    "print(f\"Hello,{name.title()}!\")\n",
    "# +=为自赋值运算？？"
   ]
  },
  {
   "cell_type": "code",
   "execution_count": 13,
   "id": "33f647de",
   "metadata": {},
   "outputs": [
    {
     "name": "stdout",
     "output_type": "stream",
     "text": [
      "How old are you?10\n"
     ]
    },
    {
     "ename": "TypeError",
     "evalue": "'>=' not supported between instances of 'str' and 'int'",
     "output_type": "error",
     "traceback": [
      "\u001b[1;31m---------------------------------------------------------------------------\u001b[0m",
      "\u001b[1;31mTypeError\u001b[0m                                 Traceback (most recent call last)",
      "\u001b[1;32m~\\AppData\\Local\\Temp\\ipykernel_49252\\1772117751.py\u001b[0m in \u001b[0;36m<module>\u001b[1;34m\u001b[0m\n\u001b[0;32m      1\u001b[0m \u001b[1;31m# 用int()获取数值输入\u001b[0m\u001b[1;33m\u001b[0m\u001b[1;33m\u001b[0m\u001b[0m\n\u001b[0;32m      2\u001b[0m \u001b[0mage\u001b[0m \u001b[1;33m=\u001b[0m \u001b[0minput\u001b[0m\u001b[1;33m(\u001b[0m\u001b[1;34m\"How old are you?\"\u001b[0m\u001b[1;33m)\u001b[0m\u001b[1;33m\u001b[0m\u001b[1;33m\u001b[0m\u001b[0m\n\u001b[1;32m----> 3\u001b[1;33m \u001b[0mage\u001b[0m \u001b[1;33m>=\u001b[0m \u001b[1;36m18\u001b[0m\u001b[1;33m\u001b[0m\u001b[1;33m\u001b[0m\u001b[0m\n\u001b[0m",
      "\u001b[1;31mTypeError\u001b[0m: '>=' not supported between instances of 'str' and 'int'"
     ]
    }
   ],
   "source": [
    "# 用int()获取数值输入\n",
    "age = input(\"How old are you?\")\n",
    "age >= 18"
   ]
  },
  {
   "cell_type": "code",
   "execution_count": 16,
   "id": "e1f564c3",
   "metadata": {},
   "outputs": [
    {
     "name": "stdout",
     "output_type": "stream",
     "text": [
      "How old are you?20\n"
     ]
    },
    {
     "data": {
      "text/plain": [
       "True"
      ]
     },
     "execution_count": 16,
     "metadata": {},
     "output_type": "execute_result"
    }
   ],
   "source": [
    "# 用int()获取数值输入\n",
    "age = input(\"How old are you?\")\n",
    "int(age) >= 18"
   ]
  },
  {
   "cell_type": "code",
   "execution_count": 17,
   "id": "fcea83bc",
   "metadata": {},
   "outputs": [
    {
     "name": "stdout",
     "output_type": "stream",
     "text": [
      "How tall are you,in inches?40\n",
      "\n",
      "You will be able to ride when you're a little older.\n"
     ]
    }
   ],
   "source": [
    "# int()获取数值输入\n",
    "height = input(\"How tall are you,in inches?\")\n",
    "height = int(height)\n",
    "if height >= 48:\n",
    "    print(\"\\nYou're tall enough to ride!\")\n",
    "else:\n",
    "    print(\"\\nYou will be able to ride when you're a little older.\")"
   ]
  },
  {
   "cell_type": "code",
   "execution_count": 20,
   "id": "afb1a854",
   "metadata": {},
   "outputs": [
    {
     "name": "stdout",
     "output_type": "stream",
     "text": [
      "1\n",
      "0\n"
     ]
    }
   ],
   "source": [
    "# 求模运算符\n",
    "print(5 % 2)\n",
    "print(10 % 2)"
   ]
  },
  {
   "cell_type": "code",
   "execution_count": 22,
   "id": "a9f36153",
   "metadata": {},
   "outputs": [
    {
     "name": "stdout",
     "output_type": "stream",
     "text": [
      "Enter a number,and I'll tell you if it's even or odd:9\n",
      "The number 9 is odd.\n"
     ]
    }
   ],
   "source": [
    "# 判断奇偶\n",
    "prompt = \"Enter a number,and I'll tell you if it's even or odd:\"\n",
    "number = input(prompt)\n",
    "number = int(number)\n",
    "if number % 2 == 0:\n",
    "    print(f\"The number {number} is even.\")\n",
    "else:\n",
    "    print(f\"The number {number} is odd.\")"
   ]
  },
  {
   "cell_type": "markdown",
   "id": "e815adc5",
   "metadata": {},
   "source": [
    "## 7.1 练习"
   ]
  },
  {
   "cell_type": "code",
   "execution_count": 4,
   "id": "c796de2d",
   "metadata": {},
   "outputs": [
    {
     "name": "stdout",
     "output_type": "stream",
     "text": [
      "Please tell me what kind of car do you want to rent?subaru\n",
      "Let me see if I can find you a Subaru.\n"
     ]
    }
   ],
   "source": [
    "# 7-1 汽车租赁\n",
    "car = input(\"Please tell me what kind of car do you want to rent?\")\n",
    "print(f\"Let me see if I can find you a {car.title()}.\")"
   ]
  },
  {
   "cell_type": "code",
   "execution_count": 8,
   "id": "61ee1d82",
   "metadata": {},
   "outputs": [
    {
     "name": "stdout",
     "output_type": "stream",
     "text": [
      "请问有多少人用餐？8\n",
      "我们现在有合适的空桌。\n"
     ]
    }
   ],
   "source": [
    "# 7-2 餐馆订位\n",
    "number = input(\"请问有多少人用餐？\")\n",
    "if int(number) > 8:\n",
    "    print(\"非常抱歉，我们现在没有合适的空桌。\")\n",
    "else:\n",
    "    print(\"我们现在有合适的空桌。\")"
   ]
  },
  {
   "cell_type": "code",
   "execution_count": 14,
   "id": "bd4ad935",
   "metadata": {},
   "outputs": [
    {
     "name": "stdout",
     "output_type": "stream",
     "text": [
      "您可以任意输入一个整数，我们将告诉您它是否为10的整数倍。61\n",
      "您给出的这个数“61”不是10的整数倍。\n"
     ]
    }
   ],
   "source": [
    "# 7-3 10的整数倍\n",
    "number = input(\"您可以任意输入一个整数，我们将告诉您它是否为10的整数倍。\")\n",
    "if int(number) % 10 == 0:\n",
    "    print(f\"您给出的这个数“{number}”是10的整数倍。\")\n",
    "else:\n",
    "    print(f\"您给出的这个数“{number}”不是10的整数倍。\")"
   ]
  },
  {
   "cell_type": "code",
   "execution_count": null,
   "id": "998a059d",
   "metadata": {},
   "outputs": [],
   "source": []
  }
 ],
 "metadata": {
  "kernelspec": {
   "display_name": "Python 3 (ipykernel)",
   "language": "python",
   "name": "python3"
  },
  "language_info": {
   "codemirror_mode": {
    "name": "ipython",
    "version": 3
   },
   "file_extension": ".py",
   "mimetype": "text/x-python",
   "name": "python",
   "nbconvert_exporter": "python",
   "pygments_lexer": "ipython3",
   "version": "3.9.13"
  }
 },
 "nbformat": 4,
 "nbformat_minor": 5
}
