{
 "cells": [
  {
   "cell_type": "markdown",
   "id": "705ce00b",
   "metadata": {},
   "source": [
    "# 10.1 从文件中读取数据"
   ]
  },
  {
   "cell_type": "markdown",
   "id": "c50fbe78",
   "metadata": {},
   "source": [
    "## 10.1.1 读取整个文件"
   ]
  },
  {
   "cell_type": "code",
   "execution_count": 133,
   "id": "38e6becc",
   "metadata": {},
   "outputs": [
    {
     "name": "stdout",
     "output_type": "stream",
     "text": [
      "3.1415926535\n",
      "8979323846\n",
      "2643383279\n",
      "\n"
     ]
    }
   ],
   "source": [
    "with open('pi_digits.txt') as file_object:\n",
    "    contents = file_object.read()\n",
    "print(contents)\n",
    "# 多出来的空行是因为访问的txt文件最后有个空行"
   ]
  },
  {
   "cell_type": "code",
   "execution_count": 132,
   "id": "c074f984",
   "metadata": {},
   "outputs": [
    {
     "name": "stdout",
     "output_type": "stream",
     "text": [
      "3.1415926535\n",
      "8979323846\n",
      "2643383279\n"
     ]
    }
   ],
   "source": [
    "# 删除多余的空行\n",
    "with open('pi_digits.txt') as file_object:\n",
    "    contents = file_object.read()\n",
    "print(contents.rstrip())"
   ]
  },
  {
   "cell_type": "markdown",
   "id": "b50b7c59",
   "metadata": {},
   "source": [
    "## 10.1.2 文件路径"
   ]
  },
  {
   "cell_type": "code",
   "execution_count": 134,
   "id": "6ea069b2",
   "metadata": {},
   "outputs": [
    {
     "ename": "IndentationError",
     "evalue": "expected an indented block (1675191191.py, line 2)",
     "output_type": "error",
     "traceback": [
      "\u001b[1;36m  File \u001b[1;32m\"C:\\Users\\86153\\AppData\\Local\\Temp\\ipykernel_20924\\1675191191.py\"\u001b[1;36m, line \u001b[1;32m2\u001b[0m\n\u001b[1;33m    with open('text_files/filename.txt') as file_object:\u001b[0m\n\u001b[1;37m                                                        ^\u001b[0m\n\u001b[1;31mIndentationError\u001b[0m\u001b[1;31m:\u001b[0m expected an indented block\n"
     ]
    }
   ],
   "source": [
    "# 相对路径\n",
    "with open('text_files/filename.txt') as file_object:"
   ]
  },
  {
   "cell_type": "code",
   "execution_count": null,
   "id": "319e39bb",
   "metadata": {},
   "outputs": [],
   "source": [
    "# 绝对路径\n",
    "file_path = 'home/ehmatthes/other_files/text_files/filename.txt'\n",
    "with open(file_path) as file_object:"
   ]
  },
  {
   "cell_type": "markdown",
   "id": "65dd9bff",
   "metadata": {},
   "source": [
    "## 10.1.3 逐行读取"
   ]
  },
  {
   "cell_type": "code",
   "execution_count": 140,
   "id": "af6fdc75",
   "metadata": {},
   "outputs": [
    {
     "name": "stdout",
     "output_type": "stream",
     "text": [
      "3.1415926535\n",
      "\n",
      "8979323846\n",
      "\n",
      "2643383279\n",
      "\n"
     ]
    }
   ],
   "source": [
    "filename = 'pi_digits.txt'\n",
    "with open(filename) as file_object:\n",
    "    for line in file_object:\n",
    "        print(line)"
   ]
  },
  {
   "cell_type": "code",
   "execution_count": 142,
   "id": "ba769f1e",
   "metadata": {},
   "outputs": [
    {
     "name": "stdout",
     "output_type": "stream",
     "text": [
      "3.1415926535\n",
      "8979323846\n",
      "2643383279\n"
     ]
    }
   ],
   "source": [
    "# 添加了一个内部的循环来迭代每一行中的每一个字符\n",
    "filename = 'pi_digits.txt'\n",
    "with open(filename) as file_object:\n",
    "    for line in file_object:\n",
    "        for char in line:\n",
    "            # end='' 参数确保打印出来的字符不会自动换行，从而保持逐字打印的形式。\n",
    "            print(char, end='')"
   ]
  },
  {
   "cell_type": "code",
   "execution_count": 143,
   "id": "746b5416",
   "metadata": {},
   "outputs": [
    {
     "name": "stdout",
     "output_type": "stream",
     "text": [
      "3\n",
      ".\n",
      "1\n",
      "4\n",
      "1\n",
      "5\n",
      "9\n",
      "2\n",
      "6\n",
      "5\n",
      "3\n",
      "5\n",
      "\n",
      "\n",
      "8\n",
      "9\n",
      "7\n",
      "9\n",
      "3\n",
      "2\n",
      "3\n",
      "8\n",
      "4\n",
      "6\n",
      "\n",
      "\n",
      "2\n",
      "6\n",
      "4\n",
      "3\n",
      "3\n",
      "8\n",
      "3\n",
      "2\n",
      "7\n",
      "9\n",
      "\n",
      "\n"
     ]
    }
   ],
   "source": [
    "# 逐字读取--多重循环\n",
    "filename = 'pi_digits.txt'\n",
    "with open(filename) as file_object:\n",
    "    for line in file_object:\n",
    "        for char in line:\n",
    "            print(char)"
   ]
  },
  {
   "cell_type": "code",
   "execution_count": 144,
   "id": "4b89ebce",
   "metadata": {},
   "outputs": [
    {
     "name": "stdout",
     "output_type": "stream",
     "text": [
      "Two lines together:\n",
      "3.1415926535\n",
      "8979323846\n"
     ]
    }
   ],
   "source": [
    "# 读取前两行\n",
    "filename = 'pi_digits.txt'\n",
    "with open(filename) as file_object:\n",
    "    line_count = 0\n",
    "    two_lines = [] # 先分割成两行两行 \n",
    "    for line in file_object:\n",
    "        if line_count < 2:\n",
    "            two_lines.append(line.strip())  # 去除每行末尾的换行符并添加到列表中\n",
    "            line_count += 1\n",
    "        else:\n",
    "            # 在这里可以进行对两行内容的操作，比如打印或者其他处理\n",
    "            print(\"Two lines together:\")\n",
    "            print('\\n'.join(two_lines))  # 打印两行内容\n",
    "            # 处理完后，重置计数器和两行内容的列表\n",
    "            line_count = 0\n",
    "            two_lines = []\n"
   ]
  },
  {
   "cell_type": "code",
   "execution_count": 2,
   "id": "3f1f98cf",
   "metadata": {},
   "outputs": [
    {
     "name": "stdout",
     "output_type": "stream",
     "text": [
      "3.1415926535\n",
      "8979323846\n",
      "2643383279\n"
     ]
    }
   ],
   "source": [
    "filename = 'pi_digits.txt'\n",
    "with open(filename) as file_object:\n",
    "    for line in file_object:\n",
    "        print(line.rstrip())"
   ]
  },
  {
   "cell_type": "markdown",
   "id": "802b0ead",
   "metadata": {},
   "source": [
    "## 10.1.4 创建一个包含文件各行内容的列表"
   ]
  },
  {
   "cell_type": "code",
   "execution_count": 14,
   "id": "6511aa36",
   "metadata": {},
   "outputs": [
    {
     "name": "stdout",
     "output_type": "stream",
     "text": [
      "['3.1415926535', '8979323846', '2643383279']\n",
      "3.1415926535\n",
      "8979323846\n",
      "2643383279\n"
     ]
    }
   ],
   "source": [
    "filename = 'pi_digits.txt'\n",
    "numbers = []\n",
    "with open(filename) as file_object:\n",
    "    for line in file_object:\n",
    "        numbers.append(line.rstrip())\n",
    "    print(numbers)\n",
    "    for number in numbers:\n",
    "        print(number)"
   ]
  },
  {
   "cell_type": "code",
   "execution_count": 9,
   "id": "51005acb",
   "metadata": {},
   "outputs": [
    {
     "name": "stdout",
     "output_type": "stream",
     "text": [
      "3.1415926535\n",
      "8979323846\n",
      "2643383279\n"
     ]
    }
   ],
   "source": [
    "filename = 'pi_digits.txt'\n",
    "with open(filename) as file_object:\n",
    "    lines = file_object.readlines()\n",
    "for line in lines:\n",
    "    print(line.rstrip())"
   ]
  },
  {
   "cell_type": "markdown",
   "id": "5d237d49",
   "metadata": {},
   "source": [
    "## 10.1.5 使用文件的内容"
   ]
  },
  {
   "cell_type": "code",
   "execution_count": 17,
   "id": "88f6e187",
   "metadata": {},
   "outputs": [
    {
     "name": "stdout",
     "output_type": "stream",
     "text": [
      "3.141592653589793238462643383279\n",
      "32\n"
     ]
    }
   ],
   "source": [
    "filename = 'pi_digits.txt'\n",
    "with open(filename) as file_object:\n",
    "    lines = file_object.readlines()\n",
    "    pi_string = ''\n",
    "    for line in lines:\n",
    "        pi_string += line.rstrip()\n",
    "    print(pi_string)\n",
    "    print(len(pi_string))"
   ]
  },
  {
   "cell_type": "markdown",
   "id": "de22433d",
   "metadata": {},
   "source": [
    "## 10.1.6 包含一百万位的大文件"
   ]
  },
  {
   "cell_type": "code",
   "execution_count": 23,
   "id": "bd4ff326",
   "metadata": {},
   "outputs": [
    {
     "name": "stdout",
     "output_type": "stream",
     "text": [
      "3.14159265358979323846264338327950288419716939937510...\n",
      "1000002\n"
     ]
    }
   ],
   "source": [
    "filename = 'pi_million_digits.txt'\n",
    "with open(filename) as file_object:\n",
    "    lines = file_object.readlines()\n",
    "    pi_string = ''\n",
    "    for line in lines:\n",
    "        pi_string += line.strip()\n",
    "        # 如果没有strip()方法，空格也会被算作字符串\n",
    "print(f\"{pi_string[:52]}...\")\n",
    "print(len(pi_string))"
   ]
  },
  {
   "cell_type": "markdown",
   "id": "4d26272b",
   "metadata": {},
   "source": [
    "## 10.1.7 圆周率值中包含你的生日吗"
   ]
  },
  {
   "cell_type": "code",
   "execution_count": 28,
   "id": "1b76c0bb",
   "metadata": {},
   "outputs": [
    {
     "name": "stdout",
     "output_type": "stream",
     "text": [
      "Enter your birthday,in the form mmddyy:(Enter \"q\" to quit)020804\n",
      "Your birthday does not appear in the first million digits of pi.\n",
      "Enter your birthday,in the form mmddyy:(Enter \"q\" to quit)051104\n",
      "Your birthday does not appear in the first million digits of pi.\n",
      "Enter your birthday,in the form mmddyy:(Enter \"q\" to quit)041204\n",
      "Your birthday does not appear in the first million digits of pi.\n",
      "Enter your birthday,in the form mmddyy:(Enter \"q\" to quit)040504\n",
      "Your birthday does not appear in the first million digits of pi.\n",
      "Enter your birthday,in the form mmddyy:(Enter \"q\" to quit)20040208\n",
      "Your birthday does not appear in the first million digits of pi.\n",
      "Enter your birthday,in the form mmddyy:(Enter \"q\" to quit)0208\n",
      "Your birthday appears in the first million digits of pi!\n",
      "Enter your birthday,in the form mmddyy:(Enter \"q\" to quit)040208\n",
      "Your birthday does not appear in the first million digits of pi.\n",
      "Enter your birthday,in the form mmddyy:(Enter \"q\" to quit)q\n"
     ]
    }
   ],
   "source": [
    "filename = 'pi_million_digits.txt'\n",
    "with open(filename) as file_object:\n",
    "    lines = file_object.readlines()\n",
    "    pi_string = ''\n",
    "    for line in lines:\n",
    "        pi_string += line.strip()\n",
    "while True:\n",
    "    birthday = input('Enter your birthday,in the form mmddyy:(Enter \"q\" to quit)')\n",
    "    if birthday == 'q':\n",
    "        break\n",
    "    else:\n",
    "        if birthday in pi_string:\n",
    "            print(\"Your birthday appears in the first million digits of pi!\")\n",
    "        else:\n",
    "            print(\"Your birthday does not appear in the first million digits of pi.\")"
   ]
  },
  {
   "cell_type": "markdown",
   "id": "2b3bc28e",
   "metadata": {},
   "source": [
    "## 10.1 练习"
   ]
  },
  {
   "cell_type": "code",
   "execution_count": 99,
   "id": "8b1ac257",
   "metadata": {
    "scrolled": true
   },
   "outputs": [
    {
     "name": "stdout",
     "output_type": "stream",
     "text": [
      "In Python you can write codes according to your idea.\n",
      "In Python you can set up a block.\n",
      "In Python you can design a game by codes.\n",
      "In Python you can learn meaningful knowledge.\n",
      "In Python you can draw a heart.\n"
     ]
    }
   ],
   "source": [
    "# 10-1 Python学习笔记\n",
    "filename = 'learning_python.txt'\n",
    "with open(filename) as f:\n",
    "    print(f.read())"
   ]
  },
  {
   "cell_type": "code",
   "execution_count": 104,
   "id": "53ade288",
   "metadata": {},
   "outputs": [
    {
     "name": "stdout",
     "output_type": "stream",
     "text": [
      "In Python you can write codes according to your idea.In Python you can set up a block.In Python you can design a game by codes.In Python you can learn meaningful knowledge.In Python you can draw a heart.\n"
     ]
    }
   ],
   "source": [
    "# 10-1 Python学习笔记\n",
    "filename = 'learning_python.txt'\n",
    "with open(filename) as f:\n",
    "    obtains = ''\n",
    "    lines = f.readlines()\n",
    "    for line in lines:\n",
    "        obtains += line.strip()\n",
    "    print(obtains)"
   ]
  },
  {
   "cell_type": "code",
   "execution_count": 113,
   "id": "f0bba757",
   "metadata": {},
   "outputs": [
    {
     "name": "stdout",
     "output_type": "stream",
     "text": [
      "['In Python you can write codes according to your idea.', 'In Python you can set up a block.', 'In Python you can design a game by codes.', 'In Python you can learn meaningful knowledge.', 'In Python you can draw a heart.']\n",
      "\n",
      "In Python you can write codes according to your idea.\n",
      "In Python you can set up a block.\n",
      "In Python you can design a game by codes.\n",
      "In Python you can learn meaningful knowledge.\n",
      "In Python you can draw a heart.\n"
     ]
    }
   ],
   "source": [
    "# 10-1 Python学习笔记\n",
    "filename = 'learning_python.txt'\n",
    "obtains = []\n",
    "with open(filename) as f:\n",
    "    lines = f.readlines()\n",
    "    for line in lines:\n",
    "        obtains.append(line.strip())\n",
    "print(obtains)\n",
    "print()\n",
    "for obtain in obtains:\n",
    "    print(obtain)"
   ]
  },
  {
   "cell_type": "code",
   "execution_count": 118,
   "id": "3f240505",
   "metadata": {},
   "outputs": [
    {
     "name": "stdout",
     "output_type": "stream",
     "text": [
      "In Python you can write codes according to your idea.\n",
      "In Python you can set up a block.\n",
      "In Python you can design a game by codes.\n",
      "In Python you can learn meaningful knowledge.\n",
      "In Python you can draw a heart.\n"
     ]
    }
   ],
   "source": [
    "# 10-2 C语言学习笔记\n",
    "with open('learning_python.txt') as f:\n",
    "    obtains = f.read()\n",
    "    obtains.replace('Python','C')\n",
    "    print(obtains)\n",
    "# replace没有改变原来的值，所以打印obtains是原来的值python，下面的代码打印的是C"
   ]
  },
  {
   "cell_type": "code",
   "execution_count": 124,
   "id": "fdaefbcf",
   "metadata": {},
   "outputs": [
    {
     "name": "stdout",
     "output_type": "stream",
     "text": [
      "In C you can write codes according to your idea.\n",
      "\n",
      "In C you can set up a block.\n",
      "\n",
      "In C you can design a game by codes.\n",
      "\n",
      "In C you can learn meaningful knowledge.\n",
      "\n",
      "In C you can draw a heart.\n"
     ]
    }
   ],
   "source": [
    "# 10-2 C语言学习笔记\n",
    "with open('learning_python.txt') as f:\n",
    "    obtains = f.readlines()\n",
    "    for obtain in obtains:\n",
    "        print(obtain.replace('Python','C'))"
   ]
  },
  {
   "cell_type": "markdown",
   "id": "06ca5359",
   "metadata": {},
   "source": [
    "# 10.2 写入文件"
   ]
  },
  {
   "cell_type": "markdown",
   "id": "ac02912c",
   "metadata": {},
   "source": [
    "## 10.2.1 写入空文件"
   ]
  },
  {
   "cell_type": "code",
   "execution_count": 29,
   "id": "38af6525",
   "metadata": {},
   "outputs": [],
   "source": [
    "filename = 'programming.txt'\n",
    "with open(filename,'w') as file_object:\n",
    "    file_object.write(\"I love programming.\")"
   ]
  },
  {
   "cell_type": "markdown",
   "id": "39b0078e",
   "metadata": {},
   "source": [
    "## 10.2.2 写入多行"
   ]
  },
  {
   "cell_type": "code",
   "execution_count": 31,
   "id": "62f2c2d5",
   "metadata": {},
   "outputs": [],
   "source": [
    "filename = 'programming.txt'\n",
    "with open(filename,'w') as file_object:\n",
    "    file_object.write(\"I love programming.\\n\")\n",
    "    file_object.write(\"I love creating new games.\")"
   ]
  },
  {
   "cell_type": "markdown",
   "id": "4c6f3429",
   "metadata": {},
   "source": [
    "## 10.2.3 附加到文件"
   ]
  },
  {
   "cell_type": "code",
   "execution_count": 33,
   "id": "b839ff44",
   "metadata": {},
   "outputs": [],
   "source": [
    "filename = 'programming.txt'\n",
    "with open(filename,'a') as file_object:\n",
    "    file_object.write(\"I also love finding meaning in large datasets.\\n\")\n",
    "    file_object.write(\"I love creating apps that can run in a browser.\\n\")"
   ]
  },
  {
   "cell_type": "markdown",
   "id": "5c499bc0",
   "metadata": {},
   "source": [
    "## 10.2 练习"
   ]
  },
  {
   "cell_type": "code",
   "execution_count": 149,
   "id": "d195c641",
   "metadata": {},
   "outputs": [
    {
     "name": "stdout",
     "output_type": "stream",
     "text": [
      "Please enter your name:LY\n"
     ]
    }
   ],
   "source": [
    "# 10-3 访客\n",
    "filename = 'guest.txt'\n",
    "with open(filename,'w') as filename:\n",
    "    username = input(\"Please enter your name:\")\n",
    "    filename.write(username)"
   ]
  },
  {
   "cell_type": "code",
   "execution_count": 131,
   "id": "b5c49294",
   "metadata": {},
   "outputs": [
    {
     "name": "stdout",
     "output_type": "stream",
     "text": [
      "Please enter your name:lY\n"
     ]
    },
    {
     "ename": "AttributeError",
     "evalue": "'str' object has no attribute 'write'",
     "output_type": "error",
     "traceback": [
      "\u001b[1;31m---------------------------------------------------------------------------\u001b[0m",
      "\u001b[1;31mAttributeError\u001b[0m                            Traceback (most recent call last)",
      "\u001b[1;32m~\\AppData\\Local\\Temp\\ipykernel_20924\\355267435.py\u001b[0m in \u001b[0;36m<module>\u001b[1;34m\u001b[0m\n\u001b[0;32m      3\u001b[0m \u001b[1;32mwith\u001b[0m \u001b[0mopen\u001b[0m\u001b[1;33m(\u001b[0m\u001b[0mfilename\u001b[0m\u001b[1;33m,\u001b[0m\u001b[1;34m'w'\u001b[0m\u001b[1;33m)\u001b[0m\u001b[1;33m:\u001b[0m\u001b[1;33m\u001b[0m\u001b[1;33m\u001b[0m\u001b[0m\n\u001b[0;32m      4\u001b[0m     \u001b[0musername\u001b[0m \u001b[1;33m=\u001b[0m \u001b[0minput\u001b[0m\u001b[1;33m(\u001b[0m\u001b[1;34m\"Please enter your name:\"\u001b[0m\u001b[1;33m)\u001b[0m\u001b[1;33m\u001b[0m\u001b[1;33m\u001b[0m\u001b[0m\n\u001b[1;32m----> 5\u001b[1;33m     \u001b[0mfilename\u001b[0m\u001b[1;33m.\u001b[0m\u001b[0mwrite\u001b[0m\u001b[1;33m(\u001b[0m\u001b[1;34mf\"{username}\"\u001b[0m\u001b[1;33m)\u001b[0m\u001b[1;33m\u001b[0m\u001b[1;33m\u001b[0m\u001b[0m\n\u001b[0m",
      "\u001b[1;31mAttributeError\u001b[0m: 'str' object has no attribute 'write'"
     ]
    }
   ],
   "source": [
    "# 10-3 访客\n",
    "filename = 'guest.txt'\n",
    "with open(filename,'w'):\n",
    "    username = input(\"Please enter your name:\")\n",
    "    filename.write(username)\n",
    "# 报错原因：打开文件时要给文件命名，即加上as...否则将无法将文件作为一个对象进行后续的操作"
   ]
  },
  {
   "cell_type": "code",
   "execution_count": 154,
   "id": "597f542f",
   "metadata": {},
   "outputs": [
    {
     "name": "stdout",
     "output_type": "stream",
     "text": [
      "Please enter your name:(enter 'q' to end up.)LY\n",
      "Good morning,LY\n",
      "\n",
      "Please enter your name:(enter 'q' to end up.)WBW\n",
      "Good morning,WBW\n",
      "\n",
      "Please enter your name:(enter 'q' to end up.)q\n"
     ]
    }
   ],
   "source": [
    "# 10-4 访客名单\n",
    "filename = 'guest_book.txt'\n",
    "with open(filename,'w') as f:\n",
    "    while True:\n",
    "        prompt = \"Please enter your name:(enter 'q' to end up.)\"\n",
    "        username = input(prompt)\n",
    "        if username == 'q':\n",
    "            break\n",
    "        else:\n",
    "            greeting = f\"Good morning,{username}\\n\"\n",
    "            print(greeting)\n",
    "            f.write(greeting)"
   ]
  },
  {
   "cell_type": "code",
   "execution_count": 159,
   "id": "78b0f66f",
   "metadata": {},
   "outputs": [
    {
     "name": "stdout",
     "output_type": "stream",
     "text": [
      "Please tell me the reason you love python:(enter 'q' to end up.)Because it is useful.\n",
      "Please tell me the reason you love python:(enter 'q' to end up.)Because it is meaningful!\n",
      "Please tell me the reason you love python:(enter 'q' to end up.)q\n"
     ]
    }
   ],
   "source": [
    "# 10-5 调查\n",
    "filename = 'reasons.txt'\n",
    "with open(filename,'w') as f:\n",
    "    while True:\n",
    "        prompt = \"Please tell me the reason you love python:(enter 'q' to end up.)\"\n",
    "        reason = input(prompt)\n",
    "        if reason == 'q':\n",
    "            break\n",
    "        else:\n",
    "            f.write(f\"{reason}\\n\")"
   ]
  },
  {
   "cell_type": "markdown",
   "id": "87c8a74d",
   "metadata": {},
   "source": [
    "# 10.3 异常"
   ]
  },
  {
   "cell_type": "markdown",
   "id": "34541125",
   "metadata": {},
   "source": [
    "## 10.3.1 处理ZeroDivisionError异常"
   ]
  },
  {
   "cell_type": "code",
   "execution_count": 34,
   "id": "ee4306ed",
   "metadata": {},
   "outputs": [
    {
     "ename": "ZeroDivisionError",
     "evalue": "division by zero",
     "output_type": "error",
     "traceback": [
      "\u001b[1;31m---------------------------------------------------------------------------\u001b[0m",
      "\u001b[1;31mZeroDivisionError\u001b[0m                         Traceback (most recent call last)",
      "\u001b[1;32m~\\AppData\\Local\\Temp\\ipykernel_20924\\1152173066.py\u001b[0m in \u001b[0;36m<module>\u001b[1;34m\u001b[0m\n\u001b[1;32m----> 1\u001b[1;33m \u001b[0mprint\u001b[0m\u001b[1;33m(\u001b[0m\u001b[1;36m5\u001b[0m\u001b[1;33m/\u001b[0m\u001b[1;36m0\u001b[0m\u001b[1;33m)\u001b[0m\u001b[1;33m\u001b[0m\u001b[1;33m\u001b[0m\u001b[0m\n\u001b[0m",
      "\u001b[1;31mZeroDivisionError\u001b[0m: division by zero"
     ]
    }
   ],
   "source": [
    "print(5/0)"
   ]
  },
  {
   "cell_type": "markdown",
   "id": "db6fb2e2",
   "metadata": {},
   "source": [
    "## 10.3.2 使用try-except代码块"
   ]
  },
  {
   "cell_type": "code",
   "execution_count": 37,
   "id": "1b442253",
   "metadata": {},
   "outputs": [
    {
     "name": "stdout",
     "output_type": "stream",
     "text": [
      "You can't divide by zero!\n"
     ]
    }
   ],
   "source": [
    "try:\n",
    "    print(5/0)\n",
    "except ZeroDivisionError:\n",
    "    print(\"You can't divide by zero!\")"
   ]
  },
  {
   "cell_type": "code",
   "execution_count": 38,
   "id": "e605606e",
   "metadata": {},
   "outputs": [
    {
     "name": "stdout",
     "output_type": "stream",
     "text": [
      "2.5\n"
     ]
    }
   ],
   "source": [
    "try:\n",
    "    print(5/2)\n",
    "except ZeroDivisionError:\n",
    "    print(\"You can't divide by zero!\")"
   ]
  },
  {
   "cell_type": "markdown",
   "id": "29575990",
   "metadata": {},
   "source": [
    "## 10.3.3 使用异常避免崩溃"
   ]
  },
  {
   "cell_type": "code",
   "execution_count": 40,
   "id": "1b668995",
   "metadata": {},
   "outputs": [
    {
     "name": "stdout",
     "output_type": "stream",
     "text": [
      "Give me two numbers, and I'll divide them.\n",
      "Enter 'q' to quit.\n",
      "\n",
      "First number: 6\n",
      "Second number: 0\n",
      "You can't divide by 0!\n",
      "\n",
      "First number: 6\n",
      "Second number: 9\n",
      "0.6666666666666666\n",
      "\n",
      "First number: q\n"
     ]
    }
   ],
   "source": [
    "print(\"Give me two numbers, and I'll divide them.\")\n",
    "print(\"Enter 'q' to quit.\")\n",
    "\n",
    "while True:\n",
    "    first_number = input(\"\\nFirst number: \")\n",
    "    if first_number == 'q':\n",
    "        break\n",
    "    second_number = input(\"Second number: \")\n",
    "    try:\n",
    "        answer = int(first_number) / int(second_number)\n",
    "    except ZeroDivisionError:\n",
    "        print(\"You can't divide by 0!\")\n",
    "    else:\n",
    "        print(answer)"
   ]
  },
  {
   "cell_type": "markdown",
   "id": "f2b19647",
   "metadata": {},
   "source": [
    "## 10.3.4 else代码块"
   ]
  },
  {
   "cell_type": "code",
   "execution_count": 41,
   "id": "c7e8af4b",
   "metadata": {},
   "outputs": [
    {
     "name": "stdout",
     "output_type": "stream",
     "text": [
      "Give me two numbers, and I'll divide them.\n",
      "Enter 'q' to quit.\n",
      "\n",
      "First number: q\n"
     ]
    }
   ],
   "source": [
    "print(\"Give me two numbers, and I'll divide them.\")\n",
    "print(\"Enter 'q' to quit.\")\n",
    "\n",
    "while True:\n",
    "    first_number = input(\"\\nFirst number: \")\n",
    "    if first_number == 'q':\n",
    "        break\n",
    "    second_number = input(\"Second number: \")\n",
    "    try:\n",
    "        answer = int(first_number) / int(second_number)\n",
    "    except ZeroDivisionError:\n",
    "        print(\"You can't divide by 0!\")\n",
    "    else:\n",
    "        print(answer)"
   ]
  },
  {
   "cell_type": "markdown",
   "id": "f168b6a6",
   "metadata": {},
   "source": [
    "## 10.3.5 处理FileNotFoundError异常"
   ]
  },
  {
   "cell_type": "code",
   "execution_count": 42,
   "id": "98593abd",
   "metadata": {},
   "outputs": [
    {
     "ename": "FileNotFoundError",
     "evalue": "[Errno 2] No such file or directory: 'alice.txt'",
     "output_type": "error",
     "traceback": [
      "\u001b[1;31m---------------------------------------------------------------------------\u001b[0m",
      "\u001b[1;31mFileNotFoundError\u001b[0m                         Traceback (most recent call last)",
      "\u001b[1;32m~\\AppData\\Local\\Temp\\ipykernel_20924\\2128954584.py\u001b[0m in \u001b[0;36m<module>\u001b[1;34m\u001b[0m\n\u001b[0;32m      1\u001b[0m \u001b[0mfilename\u001b[0m \u001b[1;33m=\u001b[0m \u001b[1;34m'alice.txt'\u001b[0m\u001b[1;33m\u001b[0m\u001b[1;33m\u001b[0m\u001b[0m\n\u001b[1;32m----> 2\u001b[1;33m \u001b[1;32mwith\u001b[0m \u001b[0mopen\u001b[0m\u001b[1;33m(\u001b[0m\u001b[0mfilename\u001b[0m\u001b[1;33m,\u001b[0m\u001b[0mencoding\u001b[0m\u001b[1;33m=\u001b[0m\u001b[1;34m'utf-8'\u001b[0m\u001b[1;33m)\u001b[0m \u001b[1;32mas\u001b[0m \u001b[0mf\u001b[0m\u001b[1;33m:\u001b[0m\u001b[1;33m\u001b[0m\u001b[1;33m\u001b[0m\u001b[0m\n\u001b[0m\u001b[0;32m      3\u001b[0m     \u001b[0mcontents\u001b[0m \u001b[1;33m=\u001b[0m \u001b[0mf\u001b[0m\u001b[1;33m.\u001b[0m\u001b[0mread\u001b[0m\u001b[1;33m(\u001b[0m\u001b[1;33m)\u001b[0m\u001b[1;33m\u001b[0m\u001b[1;33m\u001b[0m\u001b[0m\n",
      "\u001b[1;31mFileNotFoundError\u001b[0m: [Errno 2] No such file or directory: 'alice.txt'"
     ]
    }
   ],
   "source": [
    "filename = 'alice.txt'\n",
    "with open(filename,encoding='utf-8') as f:\n",
    "# 给参数encoding指定值（在系统的默认编码与要读取文件使用的编码不一致时必须这样做）\n",
    "    contents = f.read()"
   ]
  },
  {
   "cell_type": "code",
   "execution_count": 44,
   "id": "9daa3f11",
   "metadata": {},
   "outputs": [
    {
     "name": "stdout",
     "output_type": "stream",
     "text": [
      "Sorry,the file alice.txt does not exist.\n"
     ]
    }
   ],
   "source": [
    "filename = 'alice.txt'\n",
    "try:\n",
    "    with open(filename,encoding='utf-8') as f:\n",
    "        contents = f.read()\n",
    "except FileNotFoundError:\n",
    "    print(f'Sorry,the file {filename} does not exist.')"
   ]
  },
  {
   "cell_type": "markdown",
   "id": "527b4c62",
   "metadata": {},
   "source": [
    "## 10.3.6 分析文本"
   ]
  },
  {
   "cell_type": "code",
   "execution_count": 45,
   "id": "3d206380",
   "metadata": {},
   "outputs": [
    {
     "data": {
      "text/plain": [
       "['Alice', 'in', 'Wonderland']"
      ]
     },
     "execution_count": 45,
     "metadata": {},
     "output_type": "execute_result"
    }
   ],
   "source": [
    "title = 'Alice in Wonderland'\n",
    "title.split()"
   ]
  },
  {
   "cell_type": "code",
   "execution_count": 48,
   "id": "dfeace73",
   "metadata": {},
   "outputs": [
    {
     "name": "stdout",
     "output_type": "stream",
     "text": [
      "The file alice.txt has about 29461 words.\n"
     ]
    }
   ],
   "source": [
    "filename = 'alice.txt'\n",
    "\n",
    "try:\n",
    "    with open(filename) as f_obj:\n",
    "        contents = f_obj.read()\n",
    "except FileNotFoundError as e:\n",
    "    msg = \"Sorry, the file \" + filename + \" does not exist.\"\n",
    "    print(msg)\n",
    "else:\n",
    "    # Count the approximate number of words in the file.\n",
    "    words = contents.split()\n",
    "    num_words = len(words)\n",
    "    print(\"The file \" + filename + \" has about \" + str(num_words) + \" words.\")\n",
    "    # 字符串之间用+相连时，各部分都需要是字符串格式，因此num_words要从int格式转变为str格式"
   ]
  },
  {
   "cell_type": "code",
   "execution_count": 57,
   "id": "5f008700",
   "metadata": {},
   "outputs": [
    {
     "name": "stdout",
     "output_type": "stream",
     "text": [
      "The file alice.txt has about 29461 words.\n"
     ]
    }
   ],
   "source": [
    "filename = 'alice.txt'\n",
    "try:\n",
    "    with open(filename) as f_obj:\n",
    "        contents = f_obj.read()\n",
    "except FileNotFoundError:\n",
    "    msg_0 = \"Sorry,the file \" + filename +\"does not exist.\"\n",
    "    print(msg_0)\n",
    "else:\n",
    "    words = contents.split()\n",
    "    num_words = len(words)\n",
    "    msg_1 = \"The file \" + filename + \" has about \" + str(num_words) + \" words.\"\n",
    "    # has about 后面与words前面可以分别加个空格\n",
    "    print(msg_1)"
   ]
  },
  {
   "cell_type": "markdown",
   "id": "6efc1fe7",
   "metadata": {},
   "source": [
    "## 10.3.7 使用多个文件"
   ]
  },
  {
   "cell_type": "code",
   "execution_count": 58,
   "id": "4aa132b5",
   "metadata": {},
   "outputs": [
    {
     "name": "stdout",
     "output_type": "stream",
     "text": [
      "The file alice.txt has about 29461 words.\n"
     ]
    }
   ],
   "source": [
    "def count_words(filename):\n",
    "    \"\"\"计算一个文件大致包含多少个单词。\"\"\"\n",
    "    try:\n",
    "        with open(filename) as f_obj:\n",
    "            contents = f_obj.read()\n",
    "    except FileNotFoundError:\n",
    "        msg_0 = \"Sorry,the file \" + filename +\"does not exist.\"\n",
    "        print(msg_0)\n",
    "    else:\n",
    "        words = contents.split()\n",
    "        num_words = len(words)\n",
    "        msg_1 = \"The file \" + filename + \" has about \" + str(num_words) + \" words.\"\n",
    "        print(msg_1)\n",
    "\n",
    "filename = 'alice.txt'\n",
    "count_words(filename)"
   ]
  },
  {
   "cell_type": "code",
   "execution_count": 60,
   "id": "3b80202f",
   "metadata": {},
   "outputs": [
    {
     "name": "stdout",
     "output_type": "stream",
     "text": [
      "The file alice.txt has about 29461 words.\n",
      "Sorry,the file siddhartha.txt does not exist.\n",
      "The file moby_dict.txt has about 215136 words.\n",
      "The file little_women.txt has about 189079 words.\n"
     ]
    }
   ],
   "source": [
    "def count_words(filename):\n",
    "    \"\"\"计算一个文件大致包含多少个单词。\"\"\"\n",
    "    try:\n",
    "        with open(filename) as f_obj:\n",
    "            contents = f_obj.read()\n",
    "    except FileNotFoundError:\n",
    "        msg_0 = \"Sorry,the file \" + filename +\" does not exist.\"\n",
    "        print(msg_0)\n",
    "    else:\n",
    "        words = contents.split()\n",
    "        num_words = len(words)\n",
    "        msg_1 = \"The file \" + filename + \" has about \" + str(num_words) + \" words.\"\n",
    "        print(msg_1)\n",
    "\n",
    "filenames = ['alice.txt','siddhartha.txt','moby_dict.txt','little_women.txt']\n",
    "for filename in filenames:\n",
    "    count_words(filename)"
   ]
  },
  {
   "cell_type": "markdown",
   "id": "0b7635dc",
   "metadata": {},
   "source": [
    "## 10.3.8 静默失败"
   ]
  },
  {
   "cell_type": "code",
   "execution_count": 61,
   "id": "0bd70ecd",
   "metadata": {},
   "outputs": [
    {
     "name": "stdout",
     "output_type": "stream",
     "text": [
      "The file alice.txt has about 29461 words.\n",
      "The file moby_dict.txt has about 215136 words.\n",
      "The file little_women.txt has about 189079 words.\n"
     ]
    }
   ],
   "source": [
    "def count_words(filename):\n",
    "    \"\"\"计算一个文件大致包含多少个单词。\"\"\"\n",
    "    try:\n",
    "        with open(filename) as f_obj:\n",
    "            contents = f_obj.read()\n",
    "    except FileNotFoundError:\n",
    "        pass\n",
    "    else:\n",
    "        words = contents.split()\n",
    "        num_words = len(words)\n",
    "        msg_1 = \"The file \" + filename + \" has about \" + str(num_words) + \" words.\"\n",
    "        print(msg_1)\n",
    "\n",
    "filenames = ['alice.txt','siddhartha.txt','moby_dict.txt','little_women.txt']\n",
    "for filename in filenames:\n",
    "    count_words(filename)"
   ]
  },
  {
   "cell_type": "code",
   "execution_count": 68,
   "id": "50fa58c4",
   "metadata": {},
   "outputs": [
    {
     "name": "stdout",
     "output_type": "stream",
     "text": [
      "The file alice.txt has about 29461 words.\n",
      "The file moby_dict.txt has about 215136 words.\n",
      "The file little_women.txt has about 189079 words.\n"
     ]
    }
   ],
   "source": [
    "def count_words(filename):\n",
    "    \"\"\"计算一个文件大致包含多少个单词。\"\"\"\n",
    "    try:\n",
    "        with open(filename) as f_obj:\n",
    "            contents = f_obj.read()\n",
    "    except FileNotFoundError:\n",
    "        filename_missing = 'missing_files.txt'\n",
    "        # 注意如果直接赋值给filename会与下面的filename相同导致异常\n",
    "        with open(filename_missing,'w') as f_obj_missing:\n",
    "            f_obj_missing.write(filename)\n",
    "    else:\n",
    "        words = contents.split()\n",
    "        num_words = len(words)\n",
    "        msg_1 = \"The file \" + filename + \" has about \" + str(num_words) + \" words.\"\n",
    "        print(msg_1)\n",
    "\n",
    "filenames = ['alice.txt','siddhartha.txt','moby_dict.txt','little_women.txt']\n",
    "for filename in filenames:\n",
    "    count_words(filename)"
   ]
  },
  {
   "cell_type": "markdown",
   "id": "4f279911",
   "metadata": {},
   "source": [
    "## 10.3 练习"
   ]
  },
  {
   "cell_type": "code",
   "execution_count": 171,
   "id": "e0fcc9d9",
   "metadata": {},
   "outputs": [
    {
     "name": "stdout",
     "output_type": "stream",
     "text": [
      "Stimulate the process of addition:\n",
      "(You can enter 'q' to quit)\n",
      "Please enter the first number:e\n",
      "Please enter a right number.\n",
      "Please enter the first number:5\n",
      "Please enter the second number:6\n",
      "The addition of the two numbers you given is 11.0.\n",
      "Please enter the first number:q\n"
     ]
    }
   ],
   "source": [
    "# 10-6 加法运算\n",
    "print(\"Stimulate the process of addition:\")\n",
    "print(\"(You can enter 'q' to quit)\")\n",
    "while True:\n",
    "    first_number = input(\"Please enter the first number:\")\n",
    "    if first_number == 'q':\n",
    "        break\n",
    "    try:\n",
    "        first_number = float(first_number)\n",
    "    except ValueError:\n",
    "        print(\"Please enter a right number.\")\n",
    "    else:\n",
    "        # 将第二个数的输入放在确保第一个数字无误之后\n",
    "        second_number = input(\"Please enter the second number:\")\n",
    "        if second_number == 'q':\n",
    "            break\n",
    "        try:\n",
    "            second_number = float(second_number)\n",
    "        except ValueError:\n",
    "            print(\"Please enter a right number.\")\n",
    "        else:\n",
    "            addition = first_number + second_number\n",
    "            print(f\"The addition of the two numbers you given is {addition}.\")"
   ]
  },
  {
   "cell_type": "code",
   "execution_count": null,
   "id": "c1770776",
   "metadata": {},
   "outputs": [],
   "source": [
    "# 10-7 加法计算器\n",
    "print(\"Stimulate the process of addition:\")\n",
    "print(\"(You can enter 'q' to quit)\")\n",
    "while True:\n",
    "    first_number = input(\"Please enter the first number:\")\n",
    "    if first_number == 'q':\n",
    "        break\n",
    "    try:\n",
    "        first_number = float(first_number)\n",
    "    except ValueError:\n",
    "        print(\"Please enter a right number.\")\n",
    "    else:\n",
    "        # 将第二个数的输入放在确保第一个数字无误之后\n",
    "        second_number = input(\"Please enter the second number:\")\n",
    "        if second_number == 'q':\n",
    "            break\n",
    "        try:\n",
    "            second_number = float(second_number)\n",
    "        except ValueError:\n",
    "            print(\"Please enter a right number.\")\n",
    "        else:\n",
    "            addition = first_number + second_number\n",
    "            print(f\"The addition of the two numbers you given is {addition}.\")"
   ]
  },
  {
   "cell_type": "code",
   "execution_count": 183,
   "id": "7f96ea25",
   "metadata": {},
   "outputs": [
    {
     "name": "stdout",
     "output_type": "stream",
     "text": [
      "Bella\n",
      "Max\n",
      "Daisy\n",
      "Charlie\n",
      "Lucy\n",
      "Rocky\n",
      "Luna\n",
      "Milo\n"
     ]
    }
   ],
   "source": [
    "# 10-8 猫和狗\n",
    "def pets_name(filename):\n",
    "    \"\"\"获取宠物的名字。\"\"\"\n",
    "    try:\n",
    "        with open(filename) as f:\n",
    "            names = f.read()\n",
    "            print(names)\n",
    "    except FileNotFoundError:\n",
    "        print(f'The file \"{filename}\" can not be found.')\n",
    "filenames = ['cats.txt','dogs.txt']\n",
    "for filename in filenames:\n",
    "    pets_name(filename)"
   ]
  },
  {
   "cell_type": "code",
   "execution_count": 184,
   "id": "6350b218",
   "metadata": {},
   "outputs": [
    {
     "name": "stdout",
     "output_type": "stream",
     "text": [
      "Bella\n",
      "Max\n",
      "Daisy\n",
      "Charlie\n",
      "Lucy\n",
      "Rocky\n",
      "Luna\n",
      "Milo\n"
     ]
    }
   ],
   "source": [
    "# 10-9 静默的猫和狗\n",
    "def pets_name(filename):\n",
    "    \"\"\"获取宠物的名字。\"\"\"\n",
    "    try:\n",
    "        with open(filename) as f:\n",
    "            names = f.read()\n",
    "            print(names)\n",
    "    except FileNotFoundError:\n",
    "        pass\n",
    "filenames = ['cats.txt','dogs.txt','birds.txt']\n",
    "for filename in filenames:\n",
    "    pets_name(filename)"
   ]
  },
  {
   "cell_type": "code",
   "execution_count": 186,
   "id": "6992f4f6",
   "metadata": {},
   "outputs": [
    {
     "name": "stdout",
     "output_type": "stream",
     "text": [
      "7\n"
     ]
    }
   ],
   "source": [
    "# 10-10 常见的单词\n",
    "filename = 'alice.txt'\n",
    "with open(filename) as f:\n",
    "    contents = f.read()\n",
    "    contents = contents.lower()\n",
    "    if 'girl' in contents:\n",
    "        frequency = contents.count('girl')\n",
    "        print(frequency)\n",
    "    else:\n",
    "        print(\"The 'girl' is not exist.\")"
   ]
  },
  {
   "cell_type": "markdown",
   "id": "63591fd3",
   "metadata": {},
   "source": [
    "# 10.4 存储数据"
   ]
  },
  {
   "cell_type": "markdown",
   "id": "296cc5e9",
   "metadata": {},
   "source": [
    "## 10.4.1 使用json.dump()和json.load()"
   ]
  },
  {
   "cell_type": "code",
   "execution_count": 71,
   "id": "f4b65921",
   "metadata": {},
   "outputs": [],
   "source": [
    "import json\n",
    "number = [2,3,5,7,11,13]\n",
    "filename = 'numbers.json'\n",
    "with open(filename,'w') as f:\n",
    "    json.dump(number,f)"
   ]
  },
  {
   "cell_type": "code",
   "execution_count": 72,
   "id": "e62ddbd5",
   "metadata": {},
   "outputs": [
    {
     "name": "stdout",
     "output_type": "stream",
     "text": [
      "[2, 3, 5, 7, 11, 13]\n"
     ]
    }
   ],
   "source": [
    "import json\n",
    "filename = 'numbers.json'\n",
    "with open(filename) as f:\n",
    "    numbers = json.load(f)\n",
    "print(numbers)"
   ]
  },
  {
   "cell_type": "markdown",
   "id": "4c6a7b4b",
   "metadata": {},
   "source": [
    "## 10.4.2 保存和读取用户生成的数据"
   ]
  },
  {
   "cell_type": "code",
   "execution_count": 74,
   "id": "42e68e28",
   "metadata": {},
   "outputs": [
    {
     "name": "stdout",
     "output_type": "stream",
     "text": [
      "Please enter your name:Liu Ying\n",
      "We'll remember you when you come back,Liu Ying!\n"
     ]
    }
   ],
   "source": [
    "import json\n",
    "username = input(\"Please enter your name:\")\n",
    "filename = \"username.json\"\n",
    "with open(filename,'w') as f:\n",
    "    json.dump(username,f)\n",
    "    print(f\"We'll remember you when you come back,{username}!\")"
   ]
  },
  {
   "cell_type": "code",
   "execution_count": 75,
   "id": "22666c32",
   "metadata": {
    "scrolled": true
   },
   "outputs": [
    {
     "name": "stdout",
     "output_type": "stream",
     "text": [
      "Welcome back,Liu Ying!\n"
     ]
    }
   ],
   "source": [
    "import json\n",
    "filename = 'username.json'\n",
    "with open(filename) as f:\n",
    "    username = json.load(f)\n",
    "    print(f\"Welcome back,{username}!\")"
   ]
  },
  {
   "cell_type": "code",
   "execution_count": 77,
   "id": "0eb11145",
   "metadata": {},
   "outputs": [
    {
     "name": "stdout",
     "output_type": "stream",
     "text": [
      "Welcome back,Liu Ying!\n"
     ]
    }
   ],
   "source": [
    "import json\n",
    "# 如果以前存储了用户名，就加载它\n",
    "# 否则，提示用户输入用户名并存储它\n",
    "filename = 'username.json'\n",
    "try:\n",
    "    with open(filename) as f:\n",
    "        username = json.load(f)\n",
    "        print(f\"Welcome back,{username}!\")\n",
    "except FileNotFoundError:\n",
    "    username = input(\"Please enter your name:\")\n",
    "    filename = \"username.json\"\n",
    "    with open(filename,'w') as f:\n",
    "        json.dump(username,f)\n",
    "        print(f\"We'll remember you when you come back,{username}!\")"
   ]
  },
  {
   "cell_type": "markdown",
   "id": "3fc80837",
   "metadata": {},
   "source": [
    "## 10.4.3 重构"
   ]
  },
  {
   "cell_type": "code",
   "execution_count": 80,
   "id": "ecb62a6e",
   "metadata": {},
   "outputs": [
    {
     "name": "stdout",
     "output_type": "stream",
     "text": [
      "Welcome back,Liu Ying!\n"
     ]
    }
   ],
   "source": [
    "import json\n",
    "def greet_user():\n",
    "    \"\"\"问候用户，并指出其名字。\"\"\"\n",
    "    filename = 'username.json'\n",
    "    try:\n",
    "        with open(filename) as f:\n",
    "            username = json.load(f)\n",
    "            print(f\"Welcome back,{username}!\")\n",
    "    except FileNotFoundError:\n",
    "        username = input(\"Please enter your name:\")\n",
    "        filename = \"username.json\"\n",
    "        with open(filename,'w') as f:\n",
    "            json.dump(username,f)\n",
    "            print(f\"We'll remember you when you come back,{username}!\")\n",
    "\n",
    "greet_user()"
   ]
  },
  {
   "cell_type": "code",
   "execution_count": 84,
   "id": "aa3ee5c2",
   "metadata": {},
   "outputs": [
    {
     "name": "stdout",
     "output_type": "stream",
     "text": [
      "Welcome back,Liu Ying!\n"
     ]
    },
    {
     "data": {
      "text/plain": [
       "'Liu Ying'"
      ]
     },
     "execution_count": 84,
     "metadata": {},
     "output_type": "execute_result"
    }
   ],
   "source": [
    "import json\n",
    "def get_stored_username():\n",
    "    \"\"\"如果存储了用户名，就获取它。\"\"\"\n",
    "    filename = 'username.json'\n",
    "    try:\n",
    "        with open(filename) as f:\n",
    "                username = json.load(f)\n",
    "    except FileNotFoundError:\n",
    "        return None\n",
    "    else:\n",
    "        return username\n",
    "    \n",
    "def greet_user():\n",
    "    \"\"\"问候用户，并指出其名字。\"\"\"\n",
    "    username = get_stored_username()\n",
    "    if username:\n",
    "        print(f\"Welcome back,{username}!\")\n",
    "    else:\n",
    "        username = input(\"Please enter your name:\")\n",
    "        filename = \"username.json\"\n",
    "        with open(filename,'w') as f:\n",
    "            json.dump(username,f)\n",
    "            print(f\"We'll remember you when you come back,{username}!\")\n",
    "greet_user()\n",
    "get_stored_username()"
   ]
  },
  {
   "cell_type": "code",
   "execution_count": 88,
   "id": "364b30d6",
   "metadata": {},
   "outputs": [
    {
     "name": "stdout",
     "output_type": "stream",
     "text": [
      "Please enter your name:WangBoWen\n",
      "We'll remember you when you come back,WangBoWen!\n"
     ]
    }
   ],
   "source": [
    "import json\n",
    "\n",
    "def get_stored_username():\n",
    "    \"\"\"如果存储了用户名，就获取它。\"\"\"\n",
    "    filename = 'username.json'\n",
    "    try:\n",
    "        with open(filename) as f:\n",
    "                username = json.load(f)\n",
    "    except FileNotFoundError:\n",
    "        return None\n",
    "    else:\n",
    "        return username\n",
    "\n",
    "def get_new_username():\n",
    "    \"\"\"提示用户输入用户名。\"\"\"\n",
    "    username = input(\"Please enter your name:\")\n",
    "    filename = \"username.json\"\n",
    "    with open(filename,'w') as f:\n",
    "        json.dump(username,f)\n",
    "    return username\n",
    "\n",
    "\n",
    "def greet_user():\n",
    "    \"\"\"问候用户，并指出其名字。\"\"\"\n",
    "    username = get_stored_username()\n",
    "    if username:\n",
    "        print(f\"Welcome back,{username}!\")\n",
    "    else:\n",
    "        username = input(\"Please enter your name:\")\n",
    "        filename = \"username.json\"\n",
    "        with open(filename,'w') as f:\n",
    "            json.dump(username,f)\n",
    "            print(f\"We'll remember you when you come back,{username}!\")\n",
    "\n",
    "greet_user()"
   ]
  },
  {
   "cell_type": "markdown",
   "id": "a0bcba61",
   "metadata": {},
   "source": [
    "## 10.4 练习"
   ]
  },
  {
   "cell_type": "code",
   "execution_count": 190,
   "id": "acb6f48c",
   "metadata": {},
   "outputs": [
    {
     "name": "stdout",
     "output_type": "stream",
     "text": [
      "Please enter your favorite number!10\n",
      "I know your favorite number!It's 10.\n"
     ]
    }
   ],
   "source": [
    "# 10-11 喜欢的数\n",
    "import json\n",
    "\n",
    "favorite_number = input(\"Please enter your favorite number!\")\n",
    "filename = 'favorite_number.json'\n",
    "with open(filename,'w') as f:\n",
    "    json.dump(favorite_number,f)\n",
    "    \n",
    "with open(filename) as f:\n",
    "    favorite_number = json.load(f)\n",
    "    print(f\"I know your favorite number!It's {favorite_number}.\")"
   ]
  },
  {
   "cell_type": "code",
   "execution_count": 196,
   "id": "88188f42",
   "metadata": {},
   "outputs": [
    {
     "name": "stdout",
     "output_type": "stream",
     "text": [
      "Please enter your favorite number!11\n",
      "I'll remember your favorite number is 11!\n"
     ]
    }
   ],
   "source": [
    "# 10-12 记住喜欢的数\n",
    "import json\n",
    "filename = 'user_favorite_number.json'\n",
    "try:\n",
    "    with open(filename) as f:\n",
    "        number = json.load(f)\n",
    "        print(f\"Your favorite number is {number}!\")\n",
    "except FileNotFoundError:\n",
    "    with open(filename,'w') as f:\n",
    "        number = input(\"Please enter your favorite number!\")\n",
    "        json.dump(number,f)\n",
    "        print(f\"I'll remember your favorite number is {number}!\")\n"
   ]
  },
  {
   "cell_type": "code",
   "execution_count": 197,
   "id": "6b3b1b27",
   "metadata": {},
   "outputs": [
    {
     "name": "stdout",
     "output_type": "stream",
     "text": [
      "Your favorite number is 11!\n"
     ]
    }
   ],
   "source": [
    "# 10-12 记住喜欢的数\n",
    "import json\n",
    "filename = 'user_favorite_number.json'\n",
    "try:\n",
    "    with open(filename) as f:\n",
    "        number = json.load(f)\n",
    "        print(f\"Your favorite number is {number}!\")\n",
    "except FileNotFoundError:\n",
    "    with open(filename,'w') as f:\n",
    "        number = input(\"Please enter your favorite number!\")\n",
    "        json.dump(number,f)\n",
    "        print(f\"I'll remember your favorite number is {number}!\")"
   ]
  },
  {
   "cell_type": "code",
   "execution_count": 200,
   "id": "719b4043",
   "metadata": {},
   "outputs": [
    {
     "name": "stdout",
     "output_type": "stream",
     "text": [
      "Your name is Liuying,yes or no?no\n",
      "Please enter your name:Liuying\n",
      "I will remember your name,Liuying!\n"
     ]
    }
   ],
   "source": [
    "# 10-13 验证用户\n",
    "import json\n",
    "\n",
    "def get_stored_username():\n",
    "    \"\"\"如果存储了用户名，就获取它。\"\"\"\n",
    "    filename = 'username.json'\n",
    "    try:\n",
    "        with open(filename) as f:\n",
    "                username = json.load(f)\n",
    "    except FileNotFoundError:\n",
    "        return None\n",
    "    else:\n",
    "        return username\n",
    "\n",
    "def get_new_username():\n",
    "    \"\"\"提示用户输入用户名。\"\"\"\n",
    "    username = input(\"Please enter your name:\")\n",
    "    filename = \"username.json\"\n",
    "    with open(filename,'w') as f:\n",
    "        json.dump(username,f)\n",
    "    return username\n",
    "\n",
    "\n",
    "def greet_user():\n",
    "    \"\"\"先验证用户，若为上次用户则欢迎，否则输入新的用户名。\"\"\"\n",
    "    username = get_stored_username()\n",
    "    if username:\n",
    "        prompt = f'Your name is {username},yes or no?'\n",
    "        vertification = input(prompt)\n",
    "        if vertification == 'yes':\n",
    "            print(f\"Welcome back,{username}!\")\n",
    "        else:\n",
    "            get_new_username()\n",
    "            print(f\"I will remember your name,{username}!\")\n",
    "    else:\n",
    "        get_new_username()   \n",
    "        print(f\"I will remember your name,{username}!\")\n",
    "greet_user()"
   ]
  },
  {
   "cell_type": "code",
   "execution_count": null,
   "id": "cb5d801a",
   "metadata": {},
   "outputs": [],
   "source": []
  }
 ],
 "metadata": {
  "kernelspec": {
   "display_name": "Python 3 (ipykernel)",
   "language": "python",
   "name": "python3"
  },
  "language_info": {
   "codemirror_mode": {
    "name": "ipython",
    "version": 3
   },
   "file_extension": ".py",
   "mimetype": "text/x-python",
   "name": "python",
   "nbconvert_exporter": "python",
   "pygments_lexer": "ipython3",
   "version": "3.9.13"
  }
 },
 "nbformat": 4,
 "nbformat_minor": 5
}
