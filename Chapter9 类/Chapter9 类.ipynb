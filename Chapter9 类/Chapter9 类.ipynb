{
 "cells": [
  {
   "cell_type": "markdown",
   "id": "9667c2ac",
   "metadata": {},
   "source": [
    "# 9.1 创建和使用类"
   ]
  },
  {
   "cell_type": "markdown",
   "id": "23f7318f",
   "metadata": {},
   "source": [
    "## 9.1.1 创建Dog类"
   ]
  },
  {
   "cell_type": "code",
   "execution_count": 2,
   "id": "f13ead28",
   "metadata": {},
   "outputs": [],
   "source": [
    "# 注意！init方法左右两边各两个下划线\n",
    "class Dog:\n",
    "    \"\"\"一次模拟小狗的简单尝试。\"\"\"\n",
    "    def __init__(self,name,age):\n",
    "        \"\"\"初始化属性name和age。\"\"\"\n",
    "        self.name = name\n",
    "        self.age = age\n",
    "        \n",
    "    def sit(self):\n",
    "        \"\"\"模拟小狗收到命令时蹲下。\"\"\"\n",
    "        print(f\"{self.name} is now sitting.\")\n",
    "        \n",
    "    def roll_over(self):\n",
    "        \"\"\"模拟小狗收到命令时打滚。\"\"\"\n",
    "        print(f\"{self.name} rolled over!\")"
   ]
  },
  {
   "cell_type": "markdown",
   "id": "9e37c726",
   "metadata": {},
   "source": [
    "## 9.1.2 根据类创建实例"
   ]
  },
  {
   "cell_type": "code",
   "execution_count": 11,
   "id": "9accc1ad",
   "metadata": {},
   "outputs": [
    {
     "name": "stdout",
     "output_type": "stream",
     "text": [
      "My dog's name is Willie.\n",
      "My dog is 6 years old.\n"
     ]
    }
   ],
   "source": [
    "# 创建实例并访问属性\n",
    "class Dog:\n",
    "    \"\"\"一次模拟小狗的简单尝试。\"\"\"\n",
    "    \n",
    "    def __init__(self,name,age):\n",
    "        \"\"\"初始化属性name和age。\"\"\"\n",
    "        self.name = name\n",
    "        self.age = age\n",
    "       \n",
    "    \n",
    "    def sit(self):\n",
    "        \"\"\"模拟小狗收到命令时蹲下。\"\"\"\n",
    "        print(f\"{self.name} is now sitting.\")\n",
    "    \n",
    "    \n",
    "    def roll_over(self):\n",
    "        \"\"\"模拟小狗收到命令时打滚。\"\"\"\n",
    "        print(f\"{self.name} rolled over!\")\n",
    "# 创建实例——形参self有了具体的属性\n",
    "my_dog = Dog('Willie',6)\n",
    "print(f\"My dog's name is {my_dog.name}.\")\n",
    "print(f\"My dog is {my_dog.age} years old.\")"
   ]
  },
  {
   "cell_type": "code",
   "execution_count": 12,
   "id": "3ec51eb5",
   "metadata": {},
   "outputs": [
    {
     "name": "stdout",
     "output_type": "stream",
     "text": [
      "Willie is now sitting.\n",
      "Willie rolled over!\n"
     ]
    }
   ],
   "source": [
    "# 创建实例并调用方法\n",
    "class Dog:\n",
    "    \"\"\"一次模拟小狗的简单尝试。\"\"\"\n",
    "    \n",
    "    def __init__(self,name,age):\n",
    "        \"\"\"初始化属性name和age。\"\"\"\n",
    "        self.name = name\n",
    "        self.age = age\n",
    "       \n",
    "    \n",
    "    def sit(self):\n",
    "        \"\"\"模拟小狗收到命令时蹲下。\"\"\"\n",
    "        print(f\"{self.name} is now sitting.\")\n",
    "    \n",
    "    \n",
    "    def roll_over(self):\n",
    "        \"\"\"模拟小狗收到命令时打滚。\"\"\"\n",
    "        print(f\"{self.name} rolled over!\")\n",
    "my_dog = Dog('Willie',6)\n",
    "my_dog.sit()\n",
    "my_dog.roll_over()"
   ]
  },
  {
   "cell_type": "code",
   "execution_count": 14,
   "id": "d762e744",
   "metadata": {},
   "outputs": [
    {
     "name": "stdout",
     "output_type": "stream",
     "text": [
      "My dog's name is Willie.\n",
      "My dog is 6 years old.\n",
      "Willie is now sitting.\n",
      "Your dog's name is Lucy.\n",
      "Your dog is 3 years old.\n",
      "Lucy is now sitting.\n"
     ]
    }
   ],
   "source": [
    "# 创建多个实例\n",
    "class Dog:\n",
    "    \"\"\"一次模拟小狗的简单尝试。\"\"\"\n",
    "    \n",
    "    def __init__(self,name,age):\n",
    "        \"\"\"初始化属性name和age。\"\"\"\n",
    "        self.name = name\n",
    "        self.age = age\n",
    "       \n",
    "    \n",
    "    def sit(self):\n",
    "        \"\"\"模拟小狗收到命令时蹲下。\"\"\"\n",
    "        print(f\"{self.name} is now sitting.\")\n",
    "    \n",
    "    \n",
    "    def roll_over(self):\n",
    "        \"\"\"模拟小狗收到命令时打滚。\"\"\"\n",
    "        print(f\"{self.name} rolled over!\")\n",
    "        \n",
    "        \n",
    "my_dog = Dog(\"Willie\",6)\n",
    "print(f\"My dog's name is {my_dog.name}.\")\n",
    "print(f\"My dog is {my_dog.age} years old.\")\n",
    "my_dog.sit()\n",
    "\n",
    "your_dog = Dog(\"Lucy\",3)\n",
    "print(f\"Your dog's name is {your_dog.name}.\")\n",
    "print(f\"Your dog is {your_dog.age} years old.\")\n",
    "your_dog.sit()"
   ]
  },
  {
   "cell_type": "markdown",
   "id": "43bb4e55",
   "metadata": {},
   "source": [
    "## 9.1 练习"
   ]
  },
  {
   "cell_type": "code",
   "execution_count": 16,
   "id": "97b332b0",
   "metadata": {},
   "outputs": [
    {
     "name": "stdout",
     "output_type": "stream",
     "text": [
      "This restaurant'name is DA PAI DANG\n",
      "This restaurant's cuisine-type is Chinese\n",
      "Da Pai Dang is opening now.\n"
     ]
    }
   ],
   "source": [
    "# 9-1 餐馆\n",
    "class Restaurant:\n",
    "    \"\"\"一次模拟餐馆的简单测试。\"\"\"\n",
    "    def __init__(self,restaurant_name,cuisine_type):\n",
    "        \"\"\"初始化属性restaurant_name和cuisine_type。\"\"\"\n",
    "        self.name = restaurant_name\n",
    "        self.type = cuisine_type\n",
    "    \n",
    "    \n",
    "    def describe_restaurant(self):\n",
    "        \"\"\"描述餐馆名称与菜肴类型\"\"\"\n",
    "        print(f\"This restaurant'name is {self.name}\")\n",
    "        print(f\"This restaurant's cuisine-type is {self.type}\")\n",
    "    \n",
    "    \n",
    "    def open_restaurant(self):\n",
    "        \"\"\"指出餐馆正在营业\"\"\"\n",
    "        print(f\"{self.name.title()} is opening now.\")\n",
    "\n",
    "the_restaurant = Restaurant('DA PAI DANG','Chinese')\n",
    "the_restaurant.describe_restaurant()\n",
    "the_restaurant.open_restaurant()"
   ]
  },
  {
   "cell_type": "code",
   "execution_count": 18,
   "id": "99835d89",
   "metadata": {},
   "outputs": [
    {
     "name": "stdout",
     "output_type": "stream",
     "text": [
      "This restaurant'name is 南京大牌档\n",
      "This restaurant's cuisine-type is 中式\n",
      "This restaurant'name is 麦当劳\n",
      "This restaurant's cuisine-type is 西式\n",
      "This restaurant'name is 泰玺妃\n",
      "This restaurant's cuisine-type is 泰式\n"
     ]
    }
   ],
   "source": [
    "# 9-2 三家餐馆\n",
    "class Restaurant:\n",
    "    \"\"\"一次模拟餐馆的简单测试。\"\"\"\n",
    "    def __init__(self,restaurant_name,cuisine_type):\n",
    "        \"\"\"初始化属性restaurant_name和cuisine_type。\"\"\"\n",
    "        self.name = restaurant_name\n",
    "        self.type = cuisine_type\n",
    "    \n",
    "    \n",
    "    def describe_restaurant(self):\n",
    "        \"\"\"描述餐馆名称与菜肴类型\"\"\"\n",
    "        print(f\"This restaurant'name is {self.name}\")\n",
    "        print(f\"This restaurant's cuisine-type is {self.type}\")\n",
    "    \n",
    "    \n",
    "    def open_restaurant(self):\n",
    "        \"\"\"指出餐馆正在营业\"\"\"\n",
    "        print(f\"{self.name.title()} is opening now.\")\n",
    "\n",
    "a_restaurant = Restaurant(\"南京大牌档\",\"中式\")\n",
    "b_restaurant = Restaurant(\"麦当劳\",\"西式\")\n",
    "c_restaurant = Restaurant(\"泰玺妃\",\"泰式\")\n",
    "restaurants = [a_restaurant,b_restaurant,c_restaurant]\n",
    "for restaurant in restaurants:\n",
    "    restaurant.describe_restaurant()"
   ]
  },
  {
   "cell_type": "code",
   "execution_count": 23,
   "id": "5def4e1f",
   "metadata": {},
   "outputs": [
    {
     "name": "stdout",
     "output_type": "stream",
     "text": [
      "User's information is following:\n",
      "first name: Ying\n",
      "last name:Liu\n",
      "age:20\n",
      "location:Nanjing\n",
      "Nice to meet you,Ying Liu!\n",
      "\n",
      "User's information is following:\n",
      "first name: Bowen\n",
      "last name:Wang\n",
      "age:20\n",
      "location:Xi'an\n",
      "Nice to meet you,Bowen Wang!\n"
     ]
    }
   ],
   "source": [
    "# 9-3 用户\n",
    "class User:\n",
    "    \"\"\"一次模拟收集用户信息与发出问候的测试。\"\"\"\n",
    "    def __init__(self,first_name,last_name,age,location):\n",
    "        self.first_name = first_name\n",
    "        self.last_name = last_name\n",
    "        self.age = age\n",
    "        self.location = location\n",
    "        \n",
    "    def describe_user(self):\n",
    "        print(\"User's information is following:\")\n",
    "        print(f\"first name: {self.first_name}\")\n",
    "        print(f\"last name:{self.last_name}\")\n",
    "        print(f\"age:{self.age}\")\n",
    "        print(f\"location:{self.location}\")\n",
    "        \n",
    "    def greet_user(self):\n",
    "        user_name = f\"{self.first_name.title()} {self.last_name.title()}\"\n",
    "        print(f\"Nice to meet you,{user_name.title()}!\")\n",
    "\n",
    "        \n",
    "user_a = User('Ying','Liu',20,'Nanjing')\n",
    "user_a.describe_user()\n",
    "user_a.greet_user()\n",
    "print()\n",
    "user_b = User('Bowen','Wang',20,\"Xi'an\")\n",
    "user_b.describe_user()\n",
    "user_b.greet_user()"
   ]
  },
  {
   "cell_type": "markdown",
   "id": "87e0bd62",
   "metadata": {},
   "source": [
    "# 9.2 使用类和实例"
   ]
  },
  {
   "cell_type": "markdown",
   "id": "e8cbd2be",
   "metadata": {},
   "source": [
    "## 9.2.1 Car类"
   ]
  },
  {
   "cell_type": "code",
   "execution_count": 24,
   "id": "a89ad133",
   "metadata": {},
   "outputs": [
    {
     "name": "stdout",
     "output_type": "stream",
     "text": [
      "2019 Audi A4\n"
     ]
    }
   ],
   "source": [
    "class Car:\n",
    "    \"\"\"一次模拟汽车的简单尝试。\"\"\"\n",
    "    def __init__(self,make,model,year):\n",
    "        \"\"\"初始化描述汽车的属性。\"\"\"\n",
    "        self.make = make\n",
    "        self.model = model\n",
    "        self.year = year\n",
    "        \n",
    "        \n",
    "    def get_descriptive_name(self):\n",
    "        \"\"\"返回整洁的描述性信息。\"\"\"\n",
    "        long_name = f\"{self.year} {self.make} {self.model}\"\n",
    "        return long_name.title()\n",
    "    \n",
    "    \n",
    "my_new_car = Car('audi','a4',2019)\n",
    "print(my_new_car.get_descriptive_name())"
   ]
  },
  {
   "cell_type": "markdown",
   "id": "9f7fd2e3",
   "metadata": {},
   "source": [
    "## 9.2.2 给属性指定默认值"
   ]
  },
  {
   "cell_type": "code",
   "execution_count": 27,
   "id": "bc4ceaae",
   "metadata": {},
   "outputs": [
    {
     "name": "stdout",
     "output_type": "stream",
     "text": [
      "2019 Audi A4\n",
      "This car has 0 miles on it.\n"
     ]
    }
   ],
   "source": [
    "class Car:\n",
    "    \"\"\"一次模拟汽车的简单尝试。\"\"\"\n",
    "    def __init__(self,make,model,year):\n",
    "        \"\"\"初始化描述汽车的属性。\"\"\"\n",
    "        self.make = make\n",
    "        self.model = model\n",
    "        self.year = year\n",
    "        self.odometer_reading = 0\n",
    "        \n",
    "        \n",
    "    def get_descriptive_name(self):\n",
    "        \"\"\"返回整洁的描述性信息。\"\"\"\n",
    "        long_name = f\"{self.year} {self.make} {self.model}\"\n",
    "        return long_name.title()\n",
    "    \n",
    "    \n",
    "    def read_odometer(self):\n",
    "        \"\"\"打印一条指出汽车里程的信息。\"\"\"\n",
    "        print(f\"This car has {self.odometer_reading} miles on it.\")\n",
    "        \n",
    "my_new_car = Car('audi','a4',2019)\n",
    "print(my_new_car.get_descriptive_name())   \n",
    "my_new_car.read_odometer()"
   ]
  },
  {
   "cell_type": "markdown",
   "id": "ac232993",
   "metadata": {},
   "source": [
    "## 9.2.3 修改属性的值"
   ]
  },
  {
   "cell_type": "code",
   "execution_count": 28,
   "id": "b8e88dc6",
   "metadata": {},
   "outputs": [
    {
     "name": "stdout",
     "output_type": "stream",
     "text": [
      "2019 Audi A4\n",
      "This car has 23 miles on it.\n"
     ]
    }
   ],
   "source": [
    "# 直接修改属性的值\n",
    "class Car:\n",
    "    \"\"\"一次模拟汽车的简单尝试。\"\"\"\n",
    "    def __init__(self,make,model,year):\n",
    "        \"\"\"初始化描述汽车的属性。\"\"\"\n",
    "        self.make = make\n",
    "        self.model = model\n",
    "        self.year = year\n",
    "        self.odometer_reading = 0\n",
    "        \n",
    "        \n",
    "    def get_descriptive_name(self):\n",
    "        \"\"\"返回整洁的描述性信息。\"\"\"\n",
    "        long_name = f\"{self.year} {self.make} {self.model}\"\n",
    "        return long_name.title()\n",
    "    \n",
    "    \n",
    "    def read_odometer(self):\n",
    "        \"\"\"打印一条指出汽车里程的信息。\"\"\"\n",
    "        print(f\"This car has {self.odometer_reading} miles on it.\")\n",
    "        \n",
    "my_new_car = Car('audi','a4',2019)\n",
    "print(my_new_car.get_descriptive_name())   \n",
    "my_new_car.odometer_reading = 23\n",
    "my_new_car.read_odometer()"
   ]
  },
  {
   "cell_type": "code",
   "execution_count": 30,
   "id": "108cf671",
   "metadata": {},
   "outputs": [
    {
     "name": "stdout",
     "output_type": "stream",
     "text": [
      "2019 Audi A4\n",
      "This car has 23 miles on it.\n"
     ]
    }
   ],
   "source": [
    "# 通过方法修改属性的值\n",
    "class Car:\n",
    "    \"\"\"一次模拟汽车的简单尝试。\"\"\"\n",
    "    def __init__(self,make,model,year):\n",
    "        \"\"\"初始化描述汽车的属性。\"\"\"\n",
    "        self.make = make\n",
    "        self.model = model\n",
    "        self.year = year\n",
    "        self.odometer_reading = 0\n",
    "        \n",
    "        \n",
    "    def get_descriptive_name(self):\n",
    "        \"\"\"返回整洁的描述性信息。\"\"\"\n",
    "        long_name = f\"{self.year} {self.make} {self.model}\"\n",
    "        return long_name.title()\n",
    "    \n",
    "    \n",
    "    def read_odometer(self):\n",
    "        \"\"\"打印一条指出汽车里程的信息。\"\"\"\n",
    "        print(f\"This car has {self.odometer_reading} miles on it.\")\n",
    "        \n",
    "        \n",
    "    def update_odometer(self,mileage):\n",
    "        \"\"\"将里程表读数设置为指定的值。\"\"\"\n",
    "        self.odometer_reading = mileage\n",
    "        \n",
    "my_new_car = Car('audi','a4',2019)\n",
    "print(my_new_car.get_descriptive_name())  \n",
    "\n",
    "my_new_car.update_odometer(23)\n",
    "my_new_car.read_odometer()"
   ]
  },
  {
   "cell_type": "code",
   "execution_count": 32,
   "id": "0bf74c67",
   "metadata": {},
   "outputs": [
    {
     "name": "stdout",
     "output_type": "stream",
     "text": [
      "2019 Audi A4\n",
      "This car has 23 miles on it.\n",
      "You can't roll back an odometer!\n",
      "This car has 23 miles on it.\n"
     ]
    }
   ],
   "source": [
    "# 在修改里程读数表时添加一些逻辑\n",
    "class Car:\n",
    "    \"\"\"一次模拟汽车的简单尝试。\"\"\"\n",
    "    def __init__(self,make,model,year):\n",
    "        \"\"\"初始化描述汽车的属性。\"\"\"\n",
    "        self.make = make\n",
    "        self.model = model\n",
    "        self.year = year\n",
    "        self.odometer_reading = 0\n",
    "        \n",
    "        \n",
    "    def get_descriptive_name(self):\n",
    "        \"\"\"返回整洁的描述性信息。\"\"\"\n",
    "        long_name = f\"{self.year} {self.make} {self.model}\"\n",
    "        return long_name.title()\n",
    "    \n",
    "    \n",
    "    def read_odometer(self):\n",
    "        \"\"\"打印一条指出汽车里程的信息。\"\"\"\n",
    "        print(f\"This car has {self.odometer_reading} miles on it.\")\n",
    "        \n",
    "        \n",
    "    def update_odometer(self,mileage):\n",
    "        \"\"\"\n",
    "        将里程表读数设置为指定的值。\n",
    "        禁止将里程表读数往回调。\n",
    "        \"\"\"\n",
    "        if mileage >= self.odometer_reading:\n",
    "            self.odometer_reading = mileage\n",
    "        else:\n",
    "            print(\"You can't roll back an odometer!\")\n",
    "        \n",
    "my_new_car = Car('audi','a4',2019)\n",
    "print(my_new_car.get_descriptive_name())  \n",
    "\n",
    "my_new_car.update_odometer(23)\n",
    "my_new_car.read_odometer()\n",
    "\n",
    "my_new_car.update_odometer(15)\n",
    "my_new_car.read_odometer()"
   ]
  },
  {
   "cell_type": "code",
   "execution_count": 35,
   "id": "311bf688",
   "metadata": {},
   "outputs": [
    {
     "name": "stdout",
     "output_type": "stream",
     "text": [
      "2015 Subaru Outback\n",
      "This car has 23500 miles on it.\n",
      "This car has 23600 miles on it.\n"
     ]
    }
   ],
   "source": [
    "# 通过方法对属性的值进行递增\n",
    "class Car:\n",
    "    \"\"\"一次模拟汽车的简单尝试。\"\"\"\n",
    "    def __init__(self,make,model,year):\n",
    "        \"\"\"初始化描述汽车的属性。\"\"\"\n",
    "        self.make = make\n",
    "        self.model = model\n",
    "        self.year = year\n",
    "        self.odometer_reading = 0\n",
    "        \n",
    "        \n",
    "    def get_descriptive_name(self):\n",
    "        \"\"\"返回整洁的描述性信息。\"\"\"\n",
    "        long_name = f\"{self.year} {self.make} {self.model}\"\n",
    "        return long_name.title()\n",
    "    \n",
    "    \n",
    "    def read_odometer(self):\n",
    "        \"\"\"打印一条指出汽车里程的信息。\"\"\"\n",
    "        print(f\"This car has {self.odometer_reading} miles on it.\")\n",
    "        \n",
    "        \n",
    "    def update_odometer(self,mileage):\n",
    "        \"\"\"\n",
    "        将里程表读数设置为指定的值。\n",
    "        禁止将里程表读数往回调。\n",
    "        \"\"\"\n",
    "        if mileage >= self.odometer_reading:\n",
    "            self.odometer_reading = mileage\n",
    "        else:\n",
    "            print(\"You can't roll back an odometer!\")\n",
    "            \n",
    "            \n",
    "    def increment_odometer(self,miles):\n",
    "        \"\"\"将里程表读数增加指定的量。\"\"\"\n",
    "        self.odometer_reading += miles\n",
    "        \n",
    "my_used_car = Car('subaru','outback',2015)\n",
    "print(my_used_car.get_descriptive_name())\n",
    "\n",
    "my_used_car.update_odometer(23_500)\n",
    "my_used_car.read_odometer()\n",
    "\n",
    "my_used_car.increment_odometer(100)\n",
    "my_used_car.read_odometer()"
   ]
  },
  {
   "cell_type": "markdown",
   "id": "3b1a9f69",
   "metadata": {},
   "source": [
    "## 9.2 练习"
   ]
  },
  {
   "cell_type": "code",
   "execution_count": 105,
   "id": "0edb0bff",
   "metadata": {},
   "outputs": [
    {
     "name": "stdout",
     "output_type": "stream",
     "text": [
      "There is no people have dined in Da Pai Dang restaurant.\n",
      "There are 1000000 people have dined in Da Pai Dang restaurant.\n",
      "There are 1000 people have dined in Da Pai Dang restaurant.\n",
      "I think the restsurant can serve 1000 people today.\n"
     ]
    }
   ],
   "source": [
    "# 9-4 就餐人数\n",
    "class Restaurant:\n",
    "    \"\"\"一次模拟餐馆的简单测试。\"\"\"\n",
    "    def __init__(self,restaurant_name,cuisine_type):\n",
    "        \"\"\"初始化属性restaurant_name和cuisine_type。\"\"\"\n",
    "        self.name = restaurant_name\n",
    "        self.type = cuisine_type\n",
    "        self.number_served = 0\n",
    "    \n",
    "    \n",
    "    def describe_restaurant(self):\n",
    "        \"\"\"描述餐馆名称与菜肴类型\"\"\"\n",
    "        print(f\"This restaurant'name is {self.name}\")\n",
    "        print(f\"This restaurant's cuisine-type is {self.type}\")\n",
    "    \n",
    "    \n",
    "    def open_restaurant(self):\n",
    "        \"\"\"指出餐馆正在营业\"\"\"\n",
    "        print(f\"{self.name.title()} is opening now.\")\n",
    "        \n",
    "        \n",
    "    def describe_number_served(self):\n",
    "        \"\"\"打印一条消息指出就餐人数。\"\"\"\n",
    "        if self.number_served == 0:\n",
    "            print(f\"There is no people have dined in {self.name} restaurant.\")\n",
    "        else:\n",
    "            print(f\"There are {self.number_served} people have dined in {self.name} restaurant.\")\n",
    "            \n",
    "    \n",
    "    def set_number_served(self,number):\n",
    "        \"\"\"设置就餐人数\"\"\"\n",
    "        if number >= self.number_served:\n",
    "            self.number_served = number\n",
    "        else:\n",
    "            print(\"The number is fault.\")\n",
    "            \n",
    "            \n",
    "    def increment_number_served(self,increment_number):\n",
    "        \"\"\"让就餐人数递增\"\"\"\n",
    "        self.number_served += increment_number\n",
    "        return self.number_served  # 要注意放回这个值，不然后面无法返回该值\n",
    "        \n",
    "a_restaurant = Restaurant('Da Pai Dang','Chinese')\n",
    "a_restaurant.describe_number_served()\n",
    "# 修改默认值(句点法访问并重新赋值)\n",
    "a_restaurant = Restaurant('Da Pai Dang','Chinese')\n",
    "a_restaurant.number_served = 1_000_000\n",
    "a_restaurant.describe_number_served()\n",
    "\n",
    "# 调用新设置的就餐人数方法\n",
    "a_restaurant = Restaurant('Da Pai Dang','Chinese')\n",
    "a_restaurant.set_number_served(1_000)\n",
    "a_restaurant.describe_number_served()\n",
    "\n",
    "# 调用就餐人数递增的方法\n",
    "a_restaurant = Restaurant('Da Pai Dang','Chinese')\n",
    "number_may = a_restaurant.increment_number_served(1_000)\n",
    "print(f\"I think the restsurant can serve {number_may} people today.\")"
   ]
  },
  {
   "cell_type": "code",
   "execution_count": 109,
   "id": "9614983b",
   "metadata": {},
   "outputs": [
    {
     "name": "stdout",
     "output_type": "stream",
     "text": [
      "4\n",
      "0\n"
     ]
    }
   ],
   "source": [
    "# 9-5 尝试登录次数\n",
    "class User:\n",
    "    \"\"\"一次模拟收集用户信息与发出问候的测试。\"\"\"\n",
    "    def __init__(self,first_name,last_name,age,location):\n",
    "        \"\"\"初始化属性。\"\"\"\n",
    "        self.first_name = first_name\n",
    "        self.last_name = last_name\n",
    "        self.age = age\n",
    "        self.location = location\n",
    "        self.login_attempts = 0\n",
    "        \n",
    "    def describe_user(self):\n",
    "        \"\"\"描述用户的属性。\"\"\"\n",
    "        print(\"User's information is following:\")\n",
    "        print(f\"first name: {self.first_name}\")\n",
    "        print(f\"last name:{self.last_name}\")\n",
    "        print(f\"age:{self.age}\")\n",
    "        print(f\"location:{self.location}\")\n",
    "        \n",
    "    def greet_user(self):\n",
    "        \"\"\"向用户发送个性化消息。\"\"\"\n",
    "        user_name = f\"{self.first_name.title()} {self.last_name.title()}\"\n",
    "        print(f\"Nice to meet you,{user_name.title()}!\")\n",
    "        \n",
    "        \n",
    "    def increment_login_attempts(self):\n",
    "        \"\"\"尝试登录次数递增。\"\"\"\n",
    "        self.login_attempts += 1\n",
    "        return self.login_attempts\n",
    "    \n",
    "    \n",
    "    def reset_login_attempts(self):\n",
    "        \"\"\"重置尝试登录次数。\"\"\"\n",
    "        self.login_attempts = 0\n",
    "        return self.login_attempts\n",
    "    \n",
    "    \n",
    "user_a = User('Ying','Liu',20,'Nanjing')\n",
    "# 多次调用\n",
    "user_a.increment_login_attempts()\n",
    "user_a.increment_login_attempts()\n",
    "user_a.increment_login_attempts()\n",
    "print(user_a.increment_login_attempts()) # 放在print里面的调用也算一次\n",
    "# 重置\n",
    "print(user_a.reset_login_attempts())"
   ]
  },
  {
   "cell_type": "markdown",
   "id": "88864646",
   "metadata": {},
   "source": [
    "# 9.3 继承"
   ]
  },
  {
   "cell_type": "markdown",
   "id": "34cdf780",
   "metadata": {},
   "source": [
    "## 9.3.1 子类的方法__init__()"
   ]
  },
  {
   "cell_type": "code",
   "execution_count": 37,
   "id": "c05af870",
   "metadata": {},
   "outputs": [
    {
     "name": "stdout",
     "output_type": "stream",
     "text": [
      "2019 Tesla Model S\n"
     ]
    }
   ],
   "source": [
    "class Car:\n",
    "    \"\"\"一次模拟汽车的简单尝试。\"\"\"\n",
    "    def __init__(self,make,model,year):\n",
    "        \"\"\"初始化描述汽车的属性。\"\"\"\n",
    "        self.make = make\n",
    "        self.model = model\n",
    "        self.year = year\n",
    "        self.odometer_reading = 0\n",
    "        \n",
    "        \n",
    "    def get_descriptive_name(self):\n",
    "        \"\"\"返回整洁的描述性信息。\"\"\"\n",
    "        long_name = f\"{self.year} {self.make} {self.model}\"\n",
    "        return long_name.title()\n",
    "    \n",
    "    \n",
    "    def read_odometer(self):\n",
    "        \"\"\"打印一条指出汽车里程的信息。\"\"\"\n",
    "        print(f\"This car has {self.odometer_reading} miles on it.\")\n",
    "        \n",
    "        \n",
    "    def update_odometer(self,mileage):\n",
    "        \"\"\"\n",
    "        将里程表读数设置为指定的值。\n",
    "        禁止将里程表读数往回调。\n",
    "        \"\"\"\n",
    "        if mileage >= self.odometer_reading:\n",
    "            self.odometer_reading = mileage\n",
    "        else:\n",
    "            print(\"You can't roll back an odometer!\")\n",
    "            \n",
    "            \n",
    "    def increment_odometer(self,miles):\n",
    "        \"\"\"将里程表读数增加指定的量。\"\"\"\n",
    "        self.odometer_reading += miles\n",
    "        \n",
    "        \n",
    "class ElectricCar(Car):\n",
    "    \"\"\"电动汽车的独特之处。\"\"\"\n",
    "    def __init__(self,make,model,year):\n",
    "        \"\"\"初始化父类的属性。\"\"\"\n",
    "        super().__init__(make,model,year)\n",
    "        \n",
    "\n",
    "my_tesla = ElectricCar('tesla','model s',2019)\n",
    "print(my_tesla.get_descriptive_name())"
   ]
  },
  {
   "cell_type": "code",
   "execution_count": 43,
   "id": "e770d0d8",
   "metadata": {},
   "outputs": [
    {
     "name": "stdout",
     "output_type": "stream",
     "text": [
      "2019 Tesla Model S\n",
      "This car has a 75-kWh battery.\n"
     ]
    }
   ],
   "source": [
    "class Car:\n",
    "    \"\"\"一次模拟汽车的简单尝试。\"\"\"\n",
    "    def __init__(self,make,model,year):\n",
    "        \"\"\"初始化描述汽车的属性。\"\"\"\n",
    "        self.make = make\n",
    "        self.model = model\n",
    "        self.year = year\n",
    "        self.odometer_reading = 0\n",
    "        \n",
    "        \n",
    "    def get_descriptive_name(self):\n",
    "        \"\"\"返回整洁的描述性信息。\"\"\"\n",
    "        long_name = f\"{self.year} {self.make} {self.model}\"\n",
    "        return long_name.title()\n",
    "    \n",
    "    \n",
    "    def read_odometer(self):\n",
    "        \"\"\"打印一条指出汽车里程的信息。\"\"\"\n",
    "        print(f\"This car has {self.odometer_reading} miles on it.\")\n",
    "        \n",
    "        \n",
    "    def update_odometer(self,mileage):\n",
    "        \"\"\"\n",
    "        将里程表读数设置为指定的值。\n",
    "        禁止将里程表读数往回调。\n",
    "        \"\"\"\n",
    "        if mileage >= self.odometer_reading:\n",
    "            self.odometer_reading = mileage\n",
    "        else:\n",
    "            print(\"You can't roll back an odometer!\")\n",
    "            \n",
    "            \n",
    "    def increment_odometer(self,miles):\n",
    "        \"\"\"将里程表读数增加指定的量。\"\"\"\n",
    "        self.odometer_reading += miles\n",
    "        \n",
    "        \n",
    "class ElectricCar(Car):\n",
    "    \"\"\"电动汽车的独特之处。\"\"\"\n",
    "    def __init__(self,make,model,year):\n",
    "        \"\"\"\n",
    "        初始化父类的属性。\n",
    "        再初始化电动汽车特有的属性。\n",
    "        \"\"\"\n",
    "        super().__init__(make,model,year) # 这里不需要self\n",
    "        self.battery_size = 75 # 设置初始值，battery_size为后缀，并非参数，因此无需为其设置占位符\n",
    "            \n",
    "        \n",
    "    def descriptive_battery(self):\n",
    "        \"\"\"打印一条描述电瓶容量的消息。\"\"\"\n",
    "        print(f\"This car has a {self.battery_size}-kWh battery.\")\n",
    "        \n",
    "        \n",
    "my_tesla = ElectricCar('tesla','model s',2019)\n",
    "print(my_tesla.get_descriptive_name())\n",
    "my_tesla.descriptive_battery()"
   ]
  },
  {
   "cell_type": "markdown",
   "id": "35536536",
   "metadata": {},
   "source": [
    "## 9.3.3 重写父类的方法"
   ]
  },
  {
   "cell_type": "code",
   "execution_count": 82,
   "id": "0dd93063",
   "metadata": {},
   "outputs": [
    {
     "name": "stdout",
     "output_type": "stream",
     "text": [
      "2019 Tesla Model S\n",
      "This car doesn't need a gas tank!\n"
     ]
    }
   ],
   "source": [
    "class Car:\n",
    "    \"\"\"一次模拟汽车的简单尝试。\"\"\"\n",
    "    def __init__(self,make,model,year):\n",
    "        \"\"\"初始化描述汽车的属性。\"\"\"\n",
    "        self.make = make\n",
    "        self.model = model\n",
    "        self.year = year\n",
    "        self.odometer_reading = 0\n",
    "        self.gas_tank = 0\n",
    "        \n",
    "        \n",
    "    def get_descriptive_name(self):\n",
    "        \"\"\"返回整洁的描述性信息。\"\"\"\n",
    "        long_name = f\"{self.year} {self.make} {self.model}\"\n",
    "        return long_name.title()\n",
    "    \n",
    "    \n",
    "    def read_odometer(self):\n",
    "        \"\"\"打印一条指出汽车里程的信息。\"\"\"\n",
    "        print(f\"This car has {self.odometer_reading} miles on it.\")\n",
    "        \n",
    "        \n",
    "    def update_odometer(self,mileage):\n",
    "        \"\"\"\n",
    "        将里程表读数设置为指定的值。\n",
    "        禁止将里程表读数往回调。\n",
    "        \"\"\"\n",
    "        if mileage >= self.odometer_reading:\n",
    "            self.odometer_reading = mileage\n",
    "        else:\n",
    "            print(\"You can't roll back an odometer!\")\n",
    "            \n",
    "            \n",
    "    def increment_odometer(self,miles):\n",
    "        \"\"\"将里程表读数增加指定的量。\"\"\"\n",
    "        self.odometer_reading += miles\n",
    "        \n",
    "        \n",
    "    def fill_gas_tank(self):\n",
    "        \"\"\"打印一条指出油表的信息。\"\"\"\n",
    "        print(f\"The car has a gas tank.\") \n",
    "        \n",
    "        # 易错点：之前我在init方法中定义的是self.fil_gas_tank，运行时总是报错：'int' object is not callable\n",
    "        # 后来发现是定义的函数名fill_gas_tank与self的后缀名相同导致识别矛盾\n",
    "        \n",
    "        \n",
    "class ElectricCar(Car):\n",
    "    \"\"\"电动汽车的独特之处。\"\"\"\n",
    "    def __init__(self,make,model,year):\n",
    "        \"\"\"\n",
    "        初始化父类的属性。\n",
    "        再初始化电动汽车特有的属性。\n",
    "        \"\"\"\n",
    "        super().__init__(make,model,year) # 这里不需要self\n",
    "        self.battery_size = 75 # 设置初始值，battery_size为后缀，并非参数，因此无需为其设置占位符\n",
    "            \n",
    "        \n",
    "    def descriptive_battery(self):\n",
    "        \"\"\"打印一条描述电瓶容量的消息。\"\"\"\n",
    "        print(f\"This car has a {self.battery_size}-kWh battery.\")\n",
    "        \n",
    "    \n",
    "    def fill_gas_tank(self):\n",
    "        \"\"\"电动汽车没有油箱。\"\"\"\n",
    "        print(f\"This car doesn't need a gas tank!\") \n",
    "        \n",
    "        \n",
    "my_tesla = ElectricCar('tesla','model s',2019)\n",
    "print(my_tesla.get_descriptive_name())\n",
    "my_tesla.fill_gas_tank()"
   ]
  },
  {
   "cell_type": "code",
   "execution_count": 84,
   "id": "4e0a4f22",
   "metadata": {
    "scrolled": false
   },
   "outputs": [
    {
     "name": "stdout",
     "output_type": "stream",
     "text": [
      "2019 Tesla Model S\n",
      "2019 Tesla Model S:75\n"
     ]
    }
   ],
   "source": [
    "class Car:\n",
    "    \"\"\"一次模拟汽车的简单尝试。\"\"\"\n",
    "    def __init__(self,make,model,year):\n",
    "        \"\"\"初始化描述汽车的属性。\"\"\"\n",
    "        self.make = make\n",
    "        self.model = model\n",
    "        self.year = year\n",
    "        self.odometer_reading = 0\n",
    "        \n",
    "        \n",
    "    def get_descriptive_name(self):\n",
    "        \"\"\"返回整洁的描述性信息。\"\"\"\n",
    "        long_name = f\"{self.year} {self.make} {self.model}\"\n",
    "        return long_name.title()\n",
    "    \n",
    "    \n",
    "    def read_odometer(self):\n",
    "        \"\"\"打印一条指出汽车里程的信息。\"\"\"\n",
    "        print(f\"This car has {self.odometer_reading} miles on it.\")\n",
    "        \n",
    "        \n",
    "    def update_odometer(self,mileage):\n",
    "        \"\"\"\n",
    "        将里程表读数设置为指定的值。\n",
    "        禁止将里程表读数往回调。\n",
    "        \"\"\"\n",
    "        if mileage >= self.odometer_reading:\n",
    "            self.odometer_reading = mileage\n",
    "        else:\n",
    "            print(\"You can't roll back an odometer!\")\n",
    "            \n",
    "            \n",
    "    def increment_odometer(self,miles):\n",
    "        \"\"\"将里程表读数增加指定的量。\"\"\"\n",
    "        self.odometer_reading += miles\n",
    "        \n",
    "        \n",
    "class ElectricCar(Car):\n",
    "    \"\"\"电动汽车的独特之处。\"\"\"\n",
    "    def __init__(self,make,model,year):\n",
    "        \"\"\"\n",
    "        初始化父类的属性。\n",
    "        再初始化电动汽车特有的属性。\n",
    "        \"\"\"\n",
    "        super().__init__(make,model,year) # 这里不需要self\n",
    "        self.battery_size = 75 # 设置初始值，battery_size为后缀，并非参数，因此无需为其设置占位符\n",
    "            \n",
    "        \n",
    "    def descriptive_battery(self):\n",
    "        \"\"\"打印一条描述电瓶容量的消息。\"\"\"\n",
    "        \n",
    "        return f\"{super().get_descriptive_name()}:{self.battery_size}\" # 可以用句点法来调用父级的方法内容\n",
    "\n",
    "my_tesla = ElectricCar('tesla','model s',2019)\n",
    "print(my_tesla.get_descriptive_name())\n",
    "my_tesla.descriptive_battery()\n",
    "print(my_tesla.descriptive_battery())"
   ]
  },
  {
   "cell_type": "markdown",
   "id": "a4de2413",
   "metadata": {},
   "source": [
    "## 9.3.4 将实例用作属性"
   ]
  },
  {
   "cell_type": "code",
   "execution_count": 90,
   "id": "dd97cce5",
   "metadata": {
    "scrolled": false
   },
   "outputs": [
    {
     "name": "stdout",
     "output_type": "stream",
     "text": [
      "2019 Tesla Model S\n",
      "This car has a 75-kWh battery.\n",
      "This car can go about 260 miles on a full charge.\n"
     ]
    }
   ],
   "source": [
    "class Car:\n",
    "    \"\"\"一次模拟汽车的简单尝试。\"\"\"\n",
    "    def __init__(self,make,model,year):\n",
    "        \"\"\"初始化描述汽车的属性。\"\"\"\n",
    "        self.make = make\n",
    "        self.model = model\n",
    "        self.year = year\n",
    "        self.odometer_reading = 0\n",
    "\n",
    "        \n",
    "    def get_descriptive_name(self):\n",
    "        \"\"\"返回整洁的描述性信息。\"\"\"\n",
    "        long_name = f\"{self.year} {self.make} {self.model}\"\n",
    "        return long_name.title()\n",
    "    \n",
    "    \n",
    "    def read_odometer(self):\n",
    "        \"\"\"打印一条指出汽车里程的信息。\"\"\"\n",
    "        print(f\"This car has {self.odometer_reading} miles on it.\")\n",
    "        \n",
    "        \n",
    "    def update_odometer(self,mileage):\n",
    "        \"\"\"\n",
    "        将里程表读数设置为指定的值。\n",
    "        禁止将里程表读数往回调。\n",
    "        \"\"\"\n",
    "        if mileage >= self.odometer_reading:\n",
    "            self.odometer_reading = mileage\n",
    "        else:\n",
    "            print(\"You can't roll back an odometer!\")\n",
    "            \n",
    "            \n",
    "    def increment_odometer(self,miles):\n",
    "        \"\"\"将里程表读数增加指定的量。\"\"\"\n",
    "        self.odometer_reading += miles\n",
    "        \n",
    "        \n",
    "    def fill_gas_tank(self):\n",
    "        \"\"\"打印一条指出油表的信息。\"\"\"\n",
    "        print(f\"The car has a gas tank.\") \n",
    "        \n",
    "        # 易错点：之前我在init方法中定义的是self.fil_gas_tank，运行时总是报错：'int' object is not callable\n",
    "        # 后来发现是定义的函数名fill_gas_tank与self的后缀名相同导致识别矛盾\n",
    "            \n",
    "        \n",
    "    def descriptive_battery(self):\n",
    "        \"\"\"打印一条描述电瓶容量的消息。\"\"\"\n",
    "        print(f\"This car has a {self.battery_size}-kWh battery.\")\n",
    "        \n",
    "    \n",
    "    class Battery:\n",
    "        \"\"\"一次模拟电动汽车电瓶的简单尝试。\"\"\"\n",
    "        def __init__(self,battery_size=75):\n",
    "            \"\"\"初始化电瓶的属性。\"\"\"\n",
    "            self.battery_size = battery_size\n",
    "            \n",
    "            \n",
    "        def describe_battery(self):\n",
    "            \"\"\"打印一条描述电瓶容量的消息。\"\"\"\n",
    "            print(f\"This car has a {self.battery_size}-kWh battery.\")\n",
    "            \n",
    "            \n",
    "        def get_range(self):\n",
    "            \"\"\"打印一条消息，指出电瓶的续航里程。\"\"\"\n",
    "            if self.battery_size == 75:\n",
    "                range = 260\n",
    "            elif self.battery_size == 100:\n",
    "                range = 315\n",
    "            print(f\"This car can go about {range} miles on a full charge.\")\n",
    "            \n",
    "class ElectricCar(Car):\n",
    "    \"\"\"电动汽车的独特之处。\"\"\"\n",
    "    def __init__(self,make,model,year):\n",
    "        \"\"\"\n",
    "        初始化父类的属性。\n",
    "        再初始化电动汽车特有的属性。\n",
    "        \"\"\"\n",
    "        super().__init__(make,model,year) \n",
    "        self.battery = Car.Battery() # 直接用Battery（）会报错，用句点法让上一层及（父级）介入\n",
    "        \n",
    "my_tesla = ElectricCar('tesla','model s',2019)\n",
    "print(my_tesla.get_descriptive_name())\n",
    "my_tesla.battery.describe_battery()\n",
    "my_tesla.battery.get_range()\n",
    "\n",
    "# 如何修改默认的电池容量呢？？"
   ]
  },
  {
   "cell_type": "markdown",
   "id": "0b74a565",
   "metadata": {},
   "source": [
    "## 9.3 练习"
   ]
  },
  {
   "cell_type": "code",
   "execution_count": 131,
   "id": "f70bec8f",
   "metadata": {
    "scrolled": true
   },
   "outputs": [
    {
     "name": "stdout",
     "output_type": "stream",
     "text": [
      "['strawberry', 'pineapple', 'sea_salt']\n",
      "We provide following flavors:\n",
      "strawberry\n",
      "pineapple\n",
      "sea_salt\n"
     ]
    }
   ],
   "source": [
    "# 9-6 冰激凌小店\n",
    "class Restaurant:\n",
    "    \"\"\"一次模拟餐馆的简单测试。\"\"\"\n",
    "    def __init__(self,restaurant_name,cuisine_type):\n",
    "        \"\"\"初始化属性restaurant_name和cuisine_type。\"\"\"\n",
    "        self.name = restaurant_name\n",
    "        self.type = cuisine_type\n",
    "    \n",
    "    \n",
    "    def describe_restaurant(self):\n",
    "        \"\"\"描述餐馆名称与菜肴类型\"\"\"\n",
    "        print(f\"This restaurant'name is {self.name}\")\n",
    "        print(f\"This restaurant's cuisine-type is {self.type}\")\n",
    "    \n",
    "    \n",
    "    def open_restaurant(self):\n",
    "        \"\"\"指出餐馆正在营业\"\"\"\n",
    "        print(f\"{self.name.title()} is opening now.\")\n",
    "        \n",
    "\n",
    "class IceCreamStand(Restaurant):\n",
    "    \"\"\"模拟冰激凌小店。\"\"\"\n",
    "    def __innit__(self,restaurant_name,cuisine_type):\n",
    "        \"\"\"\n",
    "        初始化父类的属性。\n",
    "        再初始化冰激凌小店的属性。\n",
    "        \"\"\"\n",
    "        super().__init__(restaurant_name,cuisine_type)\n",
    "        self.flavors = []\n",
    "        \n",
    "    \n",
    "    def save_icecream_flavors(self,*flavors):\n",
    "        \"\"\"存储冰激凌的口味。\"\"\"\n",
    "        self.flavors = [*flavors]\n",
    "        print(self.flavors)\n",
    "        \n",
    "        \n",
    "    def describe_icecream_flavors(self):\n",
    "        \"\"\"显示冰激凌的口味。\"\"\"\n",
    "        print(\"We provide following flavors:\")\n",
    "        for flavor in self.flavors:\n",
    "            print(flavor)\n",
    "        \n",
    "        \n",
    "rainbow_icecream_stand = IceCreamStand('RainBow','dessert')\n",
    "rainbow_icecream_stand.save_icecream_flavors('strawberry','pineapple','sea_salt')\n",
    "rainbow_icecream_stand.describe_icecream_flavors()"
   ]
  },
  {
   "cell_type": "code",
   "execution_count": 133,
   "id": "241319ca",
   "metadata": {},
   "outputs": [
    {
     "name": "stdout",
     "output_type": "stream",
     "text": [
      "Admin Bowen Wang has following privileges:\n",
      "can add post\n",
      "can delete post\n",
      "can ban user\n"
     ]
    }
   ],
   "source": [
    "# 9-7 管理员\n",
    "class User:\n",
    "    \"\"\"一次模拟收集用户信息与发出问候的测试。\"\"\"\n",
    "    def __init__(self,first_name,last_name,age,location):\n",
    "        self.first_name = first_name\n",
    "        self.last_name = last_name\n",
    "        self.age = age\n",
    "        self.location = location\n",
    "        \n",
    "        \n",
    "    def describe_user(self):\n",
    "        \"\"\"描述用户基本信息。\"\"\"\n",
    "        print(\"User's information is following:\")\n",
    "        print(f\"first name: {self.first_name}\")\n",
    "        print(f\"last name:{self.last_name}\")\n",
    "        print(f\"age:{self.age}\")\n",
    "        print(f\"location:{self.location}\")\n",
    "        \n",
    "        \n",
    "    def greet_user(self):\n",
    "        \"\"\"向用户发送一条个性的问候。\"\"\"\n",
    "        user_name = f\"{self.first_name.title()} {self.last_name.title()}\"\n",
    "        print(f\"Nice to meet you,{user_name.title()}!\")\n",
    "        \n",
    "\n",
    "class Admin(User):\n",
    "    \"\"\"一次模拟管理员的简单尝试。\"\"\"\n",
    "    def __init__(self,first_name,last_name,age,location):\n",
    "        \"\"\"\n",
    "        初始化父类的属性。\n",
    "        并初始化管理员的属性。\n",
    "        \"\"\"\n",
    "        super().__init__(first_name,last_name,age,location)\n",
    "        # （super()__init__()不能少——这才叫初始化属性，否则在调用子类方法如果涉及到这些参数，将会显示找不到属性）\n",
    "        self.privileges = ['can add post','can delete post','can ban user']\n",
    "        \n",
    "    def show_privileges(self):\n",
    "        \"\"\"显示管理员的权限\"\"\"\n",
    "        print(f\"Admin {self.first_name.title()} {self.last_name.title()} has following privileges:\")\n",
    "        for privilege in self.privileges:\n",
    "            print(privilege)\n",
    "            \n",
    "            \n",
    "\n",
    "a_admin = Admin('Bowen','Wang',20,\"Xi'an\")\n",
    "a_admin.show_privileges()"
   ]
  },
  {
   "cell_type": "code",
   "execution_count": 17,
   "id": "359fb3e9",
   "metadata": {},
   "outputs": [
    {
     "name": "stdout",
     "output_type": "stream",
     "text": [
      "Admin has following privileges:\n",
      "can add post\n",
      "can delete post\n",
      "can ban user\n"
     ]
    }
   ],
   "source": [
    "# 9-8 权限\n",
    "class User:\n",
    "    \"\"\"一次模拟收集用户信息与发出问候的测试。\"\"\"\n",
    "    def __init__(self,first_name,last_name,age,location):\n",
    "        self.first_name = first_name\n",
    "        self.last_name = last_name\n",
    "        self.age = age\n",
    "        self.location = location\n",
    "        \n",
    "        \n",
    "    def describe_user(self):\n",
    "        \"\"\"描述用户基本信息。\"\"\"\n",
    "        print(\"User's information is following:\")\n",
    "        print(f\"first name: {self.first_name}\")\n",
    "        print(f\"last name:{self.last_name}\")\n",
    "        print(f\"age:{self.age}\")\n",
    "        print(f\"location:{self.location}\")\n",
    "        \n",
    "        \n",
    "    def greet_user(self):\n",
    "        \"\"\"向用户发送一条个性的问候。\"\"\"\n",
    "        user_name = f\"{self.first_name.title()} {self.last_name.title()}\"\n",
    "        print(f\"Nice to meet you,{user_name.title()}!\")\n",
    "        \n",
    "\n",
    "class Privileges:\n",
    "    \"\"\"模拟管理员权限的简单测试。\"\"\"\n",
    "    def __init__(self):\n",
    "        \"\"\"初始化属性\"\"\"\n",
    "        self.privileges = ['can add post','can delete post','can ban user']\n",
    "\n",
    "\n",
    "    def show_privileges(self):\n",
    "        \"\"\"显示管理员的权限\"\"\"\n",
    "        print(f\"Admin has following privileges:\")\n",
    "        for privilege in self.privileges:\n",
    "            print(privilege)\n",
    "\n",
    "        \n",
    "class Admin(User):\n",
    "    \"\"\"一次模拟管理员的简单尝试。\"\"\"\n",
    "    def __init__(self,first_name,last_name,age,location):\n",
    "        \"\"\"\n",
    "        初始化父类的属性。\n",
    "        并初始化管理员特有的属性。\n",
    "        \"\"\"\n",
    "        super().__init__(first_name,last_name,age,location)\n",
    "        # （super()__init__()不能少——这才叫初始化属性，否则在调用子类方法如果涉及到这些参数，将会显示找不到属性）\n",
    "        self.privileges_admin = Privileges() # 将Privileges（）实例用作admin的属性\n",
    "        \n",
    "        \n",
    "a_admin = Admin('Bowen','Wang',20,\"Xi'an\")\n",
    "a_admin.privileges_admin.show_privileges()"
   ]
  },
  {
   "cell_type": "code",
   "execution_count": 153,
   "id": "64bb8950",
   "metadata": {},
   "outputs": [
    {
     "name": "stdout",
     "output_type": "stream",
     "text": [
      "This car can go about 260 miles on a full charge.\n",
      "This car can go about 315 miles on a full charge.\n"
     ]
    }
   ],
   "source": [
    "# 9-9 电瓶升级\n",
    "class Car:\n",
    "    \"\"\"一次模拟汽车的简单尝试。\"\"\"\n",
    "    def __init__(self,make,model,year):\n",
    "        \"\"\"初始化描述汽车的属性。\"\"\"\n",
    "        self.make = make\n",
    "        self.model = model\n",
    "        self.year = year\n",
    "        self.odometer_reading = 0\n",
    "\n",
    "        \n",
    "    def get_descriptive_name(self):\n",
    "        \"\"\"返回整洁的描述性信息。\"\"\"\n",
    "        long_name = f\"{self.year} {self.make} {self.model}\"\n",
    "        return long_name.title()\n",
    "    \n",
    "    \n",
    "    def read_odometer(self):\n",
    "        \"\"\"打印一条指出汽车里程的信息。\"\"\"\n",
    "        print(f\"This car has {self.odometer_reading} miles on it.\")\n",
    "        \n",
    "        \n",
    "    def update_odometer(self,mileage):\n",
    "        \"\"\"\n",
    "        将里程表读数设置为指定的值。\n",
    "        禁止将里程表读数往回调。\n",
    "        \"\"\"\n",
    "        if mileage >= self.odometer_reading:\n",
    "            self.odometer_reading = mileage\n",
    "        else:\n",
    "            print(\"You can't roll back an odometer!\")\n",
    "            \n",
    "            \n",
    "    def increment_odometer(self,miles):\n",
    "        \"\"\"将里程表读数增加指定的量。\"\"\"\n",
    "        self.odometer_reading += miles\n",
    "        \n",
    "        \n",
    "    def fill_gas_tank(self):\n",
    "        \"\"\"打印一条指出油表的信息。\"\"\"\n",
    "        print(f\"The car has a gas tank.\") \n",
    "        \n",
    "        # 易错点：之前我在init方法中定义的是self.fil_gas_tank，运行时总是报错：'int' object is not callable\n",
    "        # 后来发现是定义的函数名fill_gas_tank与self的后缀名相同导致识别矛盾\n",
    "            \n",
    "        \n",
    "    def descriptive_battery(self):\n",
    "        \"\"\"打印一条描述电瓶容量的消息。\"\"\"\n",
    "        print(f\"This car has a {self.battery_size}-kWh battery.\")\n",
    "        \n",
    "    \n",
    "    class Battery:\n",
    "        \"\"\"一次模拟电动汽车电瓶的简单尝试。\"\"\"\n",
    "        def __init__(self,battery_size=75):\n",
    "            \"\"\"初始化电瓶的属性。\"\"\"\n",
    "            self.battery_size = battery_size\n",
    "            \n",
    "            \n",
    "        def describe_battery(self):\n",
    "            \"\"\"打印一条描述电瓶容量的消息。\"\"\"\n",
    "            print(f\"This car has a {self.battery_size}-kWh battery.\")\n",
    "            \n",
    "            \n",
    "        def get_range(self):\n",
    "            \"\"\"打印一条消息，指出电瓶的续航里程。\"\"\"\n",
    "            if self.battery_size == 75:\n",
    "                range = 260\n",
    "            elif self.battery_size == 100:\n",
    "                range = 315\n",
    "            print(f\"This car can go about {range} miles on a full charge.\")\n",
    "            \n",
    "            \n",
    "        def update_battery(self):\n",
    "            \"\"\"检查电瓶容量。\"\"\"\n",
    "            if self.battery_size != 100:\n",
    "                self.battery_size = 100\n",
    "            \n",
    "class ElectricCar(Car):\n",
    "    \"\"\"电动汽车的独特之处。\"\"\"\n",
    "    def __init__(self,make,model,year):\n",
    "        \"\"\"\n",
    "        初始化父类的属性。\n",
    "        再初始化电动汽车特有的属性。\n",
    "        \"\"\"\n",
    "        super().__init__(make,model,year) \n",
    "        self.battery = Car.Battery() # 直接用Battery（）会报错，用句点法让上一层及（父级）介入\n",
    "        \n",
    "        \n",
    "my_car = ElectricCar('tesla','model s',2019)\n",
    "my_car.battery.get_range()\n",
    "my_car.battery.update_battery()\n",
    "my_car.battery.get_range()"
   ]
  },
  {
   "cell_type": "markdown",
   "id": "f0cea9c8",
   "metadata": {},
   "source": [
    "# 9.4 导入类"
   ]
  },
  {
   "cell_type": "markdown",
   "id": "c6521d36",
   "metadata": {},
   "source": [
    "## 9.4.1 导入单个类"
   ]
  },
  {
   "cell_type": "code",
   "execution_count": 11,
   "id": "d6fa556d",
   "metadata": {},
   "outputs": [
    {
     "name": "stdout",
     "output_type": "stream",
     "text": [
      "2019 Audi A4\n",
      "This car has 23 miles on it.\n"
     ]
    }
   ],
   "source": [
    "from car_1 import Car\n",
    "\n",
    "my_new_car = Car('audi','a4',2019)\n",
    "print(my_new_car.get_descriptive_name())\n",
    "\n",
    "my_new_car.odometer_reading = 23\n",
    "my_new_car.read_odometer()"
   ]
  },
  {
   "cell_type": "markdown",
   "id": "ddee3399",
   "metadata": {},
   "source": [
    "## 9.4.2 在一个模块中存储多个类"
   ]
  },
  {
   "cell_type": "code",
   "execution_count": 1,
   "id": "9a91be23",
   "metadata": {
    "scrolled": false
   },
   "outputs": [
    {
     "name": "stdout",
     "output_type": "stream",
     "text": [
      "2019 Tesla Model S\n",
      "This car has a 75-kWh battery.\n",
      "This car can go about 260 miles on a full charge.\n"
     ]
    }
   ],
   "source": [
    "from car_2 import ElectricCar\n",
    "my_tesla = ElectricCar('tesla','model s',2019)\n",
    "\n",
    "print(my_tesla.get_descriptive_name())\n",
    "my_tesla.battery.describe_battery()\n",
    "my_tesla.battery.get_range()"
   ]
  },
  {
   "cell_type": "markdown",
   "id": "eb9d2fdc",
   "metadata": {},
   "source": [
    "## 9.4.3 从一个模块中导入多个类"
   ]
  },
  {
   "cell_type": "code",
   "execution_count": 5,
   "id": "59831fea",
   "metadata": {},
   "outputs": [
    {
     "name": "stdout",
     "output_type": "stream",
     "text": [
      "2019 Volkswagen Beetle\n",
      "2019 Tesla Model S\n"
     ]
    }
   ],
   "source": [
    "from car_2 import Car,ElectricCar\n",
    "my_beetle = Car('volkswagen','beetle',2019)\n",
    "print(my_beetle.get_descriptive_name())\n",
    "\n",
    "my_tesla = ElectricCar('tesla','model s',2019)\n",
    "print(my_tesla.get_descriptive_name())"
   ]
  },
  {
   "cell_type": "markdown",
   "id": "82986881",
   "metadata": {},
   "source": [
    "## 9.4.4 导入整个模块"
   ]
  },
  {
   "cell_type": "code",
   "execution_count": 6,
   "id": "d635b6b4",
   "metadata": {},
   "outputs": [
    {
     "name": "stdout",
     "output_type": "stream",
     "text": [
      "2019 Volkswagen Beetle\n",
      "2019 Tesla Model S\n"
     ]
    }
   ],
   "source": [
    "import car_2\n",
    "my_beetle = car_2.Car('volkswagen','beetle',2019)\n",
    "print(my_beetle.get_descriptive_name())\n",
    "\n",
    "my_tesla = car_2.ElectricCar('tesla','model s',2019)\n",
    "print(my_tesla.get_descriptive_name())"
   ]
  },
  {
   "cell_type": "markdown",
   "id": "35bf5d15",
   "metadata": {},
   "source": [
    "## 9.4.5 导入模块中的所有类"
   ]
  },
  {
   "cell_type": "code",
   "execution_count": null,
   "id": "5d91a711",
   "metadata": {},
   "outputs": [],
   "source": [
    "#form module_name import*"
   ]
  },
  {
   "cell_type": "markdown",
   "id": "f7141827",
   "metadata": {},
   "source": [
    "## 9.4.6 在一个模块中导入另一个模块"
   ]
  },
  {
   "cell_type": "code",
   "execution_count": 20,
   "id": "ef74be89",
   "metadata": {},
   "outputs": [
    {
     "name": "stdout",
     "output_type": "stream",
     "text": [
      "2019 Volkswagen Beetle\n",
      "2019 Tesla Model S\n"
     ]
    }
   ],
   "source": [
    "from electric_car import ElectricCar\n",
    "\n",
    "my_beetle = ElectricCar('volkswagen','beetle',2019)\n",
    "print(my_beetle.get_descriptive_name())\n",
    "\n",
    "my_tesla = ElectricCar('tesla','model s',2019)\n",
    "print(my_tesla.get_descriptive_name())"
   ]
  },
  {
   "cell_type": "markdown",
   "id": "965c15d3",
   "metadata": {},
   "source": [
    "## 9.4.7 使用别名"
   ]
  },
  {
   "cell_type": "code",
   "execution_count": 9,
   "id": "16fe1032",
   "metadata": {},
   "outputs": [
    {
     "name": "stdout",
     "output_type": "stream",
     "text": [
      "2019 Tesla Model S\n"
     ]
    }
   ],
   "source": [
    "from electric_car import ElectricCar as EC\n",
    "my_tesla = EC('tesla','model s',2019)\n",
    "print(my_tesla.get_descriptive_name())"
   ]
  },
  {
   "cell_type": "markdown",
   "id": "548d2df2",
   "metadata": {},
   "source": [
    "## 9.4 练习"
   ]
  },
  {
   "cell_type": "code",
   "execution_count": 11,
   "id": "90bd16ba",
   "metadata": {},
   "outputs": [
    {
     "name": "stdout",
     "output_type": "stream",
     "text": [
      "Rainbow is opening now.\n"
     ]
    }
   ],
   "source": [
    "# 9-10 导入Restaurant类\n",
    "from restaurant import Restaurant\n",
    "my_restaurant = Restaurant('Rainbow','dessert')\n",
    "my_restaurant.open_restaurant()"
   ]
  },
  {
   "cell_type": "code",
   "execution_count": 18,
   "id": "fb15a67b",
   "metadata": {
    "scrolled": true
   },
   "outputs": [
    {
     "name": "stdout",
     "output_type": "stream",
     "text": [
      "Admin Bowen Wang has following privileges:\n",
      "can add post\n",
      "can delete post\n",
      "can ban user\n"
     ]
    }
   ],
   "source": [
    "# 9-10 导入Admin类\n",
    "from the_admin import Admin\n",
    "a_admin = Admin('Bowen','Wang',20,\"Xi'an\")\n",
    "a_admin.show_privileges()"
   ]
  },
  {
   "cell_type": "code",
   "execution_count": 21,
   "id": "fadf839d",
   "metadata": {},
   "outputs": [
    {
     "name": "stdout",
     "output_type": "stream",
     "text": [
      "Admin has following privileges:\n",
      "can add post\n",
      "can delete post\n",
      "can ban user\n"
     ]
    }
   ],
   "source": [
    "# 9-11 多个模块\n",
    "import the_admin_privileges_admin  \n",
    "a_admin = the_admin_privileges_admin.Admin('Bowen','Wang',20,\"Xi'an\")\n",
    "a_admin.privileges_admin.show_privileges()"
   ]
  },
  {
   "cell_type": "markdown",
   "id": "8b33c036",
   "metadata": {},
   "source": [
    "# 9.5 Python标准库"
   ]
  },
  {
   "cell_type": "code",
   "execution_count": 22,
   "id": "14700395",
   "metadata": {},
   "outputs": [
    {
     "data": {
      "text/plain": [
       "8"
      ]
     },
     "execution_count": 22,
     "metadata": {},
     "output_type": "execute_result"
    }
   ],
   "source": [
    "from random import randint\n",
    "randint(1,10)"
   ]
  },
  {
   "cell_type": "code",
   "execution_count": 23,
   "id": "508057d7",
   "metadata": {},
   "outputs": [
    {
     "data": {
      "text/plain": [
       "'martina'"
      ]
     },
     "execution_count": 23,
     "metadata": {},
     "output_type": "execute_result"
    }
   ],
   "source": [
    "from random import choice\n",
    "players = ['charles','martina','michael','florence','eli']\n",
    "first_up = choice(players)\n",
    "first_up"
   ]
  },
  {
   "cell_type": "markdown",
   "id": "72048d37",
   "metadata": {},
   "source": [
    "## 9.5 练习"
   ]
  },
  {
   "cell_type": "code",
   "execution_count": 31,
   "id": "0a55edbb",
   "metadata": {},
   "outputs": [
    {
     "name": "stdout",
     "output_type": "stream",
     "text": [
      "I have a die with 6 sides.\n",
      "The die is 2.\n",
      "The die is 2.\n",
      "The die is 5.\n",
      "The die is 6.\n",
      "The die is 4.\n",
      "The die is 4.\n",
      "The die is 1.\n",
      "The die is 1.\n",
      "The die is 5.\n",
      "The die is 6.\n",
      "\n",
      "I have a die with 10 sides.\n",
      "The die is 2.\n",
      "The die is 9.\n",
      "The die is 9.\n",
      "The die is 1.\n",
      "The die is 7.\n",
      "The die is 3.\n",
      "The die is 1.\n",
      "The die is 4.\n",
      "The die is 5.\n",
      "The die is 7.\n",
      "\n",
      "I have a die with 20 sides.\n",
      "The die is 16.\n",
      "The die is 2.\n",
      "The die is 11.\n",
      "The die is 9.\n",
      "The die is 11.\n",
      "The die is 15.\n",
      "The die is 18.\n",
      "The die is 3.\n",
      "The die is 14.\n",
      "The die is 10.\n"
     ]
    }
   ],
   "source": [
    "# 9-13 骰子\n",
    "from random import randint\n",
    "\n",
    "class Die:\n",
    "    \"\"\"一次创建骰子并抛掷的简单尝试。\"\"\"\n",
    "    def __init__(self,sides=6):\n",
    "        \"\"\"初始化骰子的属性sides。\"\"\"\n",
    "        self.sides = sides\n",
    "        print(f\"I have a die with {self.sides} sides.\")\n",
    "        \n",
    "    def roll_die(self):\n",
    "        \"\"\"随机生成骰子抛掷的点数。\"\"\"\n",
    "        self.points = randint(1,self.sides)\n",
    "        print(f\"The die is {self.points}.\")\n",
    "        \n",
    "my_die_a = Die()\n",
    "n = 0\n",
    "while n < 10:\n",
    "    my_die_a.roll_die()\n",
    "    n += 1\n",
    "print()\n",
    "my_die_b = Die(10)\n",
    "n = 0\n",
    "while n < 10:\n",
    "    my_die_b.roll_die()\n",
    "    n += 1\n",
    "print()    \n",
    "my_die_c = Die(20)\n",
    "n = 0\n",
    "while n < 10:\n",
    "    my_die_c.roll_die()\n",
    "    n += 1"
   ]
  },
  {
   "cell_type": "code",
   "execution_count": 38,
   "id": "75cbb8d7",
   "metadata": {},
   "outputs": [
    {
     "name": "stdout",
     "output_type": "stream",
     "text": [
      "12 g 36 77\n"
     ]
    }
   ],
   "source": [
    "# 9-14 彩票\n",
    "from random import choice\n",
    "random_list = [77,'i',84,36,'a',39,'g',74,'c',23,34,'u',12,21,56,]\n",
    "lucky_combination = f\"{choice(random_list)} {choice(random_list)} {choice(random_list)} {choice(random_list)}\"\n",
    "print(lucky_combination)"
   ]
  },
  {
   "cell_type": "code",
   "execution_count": 43,
   "id": "2bd79027",
   "metadata": {},
   "outputs": [
    {
     "name": "stdout",
     "output_type": "stream",
     "text": [
      "12 i 84 74\n",
      "It has taken 152527 cycles to hit the jackpot.\n"
     ]
    }
   ],
   "source": [
    "# 9-15 彩票分析\n",
    "from random import choice\n",
    "random_list = [77,'i',84,36,'a',39,'g',74,'c',23,34,'u',12,21,56,]\n",
    "lucky_combination = f\"{choice(random_list)} {choice(random_list)} {choice(random_list)} {choice(random_list)}\"\n",
    "print(lucky_combination)\n",
    "\n",
    "my_ticket = f\"{choice(random_list)} {choice(random_list)} {choice(random_list)} {choice(random_list)}\"\n",
    "n=1\n",
    "while my_ticket != lucky_combination:\n",
    "    my_ticket = f\"{choice(random_list)} {choice(random_list)} {choice(random_list)} {choice(random_list)}\"\n",
    "    n += 1\n",
    "if n != 1:\n",
    "    print(f\"It has taken {n} cycles to hit the jackpot.\")\n",
    "else:\n",
    "    print(f\"It has taken {n} cycle to hit the jackpot.\")"
   ]
  },
  {
   "cell_type": "code",
   "execution_count": null,
   "id": "1e25666a",
   "metadata": {},
   "outputs": [],
   "source": []
  }
 ],
 "metadata": {
  "kernelspec": {
   "display_name": "Python 3 (ipykernel)",
   "language": "python",
   "name": "python3"
  },
  "language_info": {
   "codemirror_mode": {
    "name": "ipython",
    "version": 3
   },
   "file_extension": ".py",
   "mimetype": "text/x-python",
   "name": "python",
   "nbconvert_exporter": "python",
   "pygments_lexer": "ipython3",
   "version": "3.9.13"
  }
 },
 "nbformat": 4,
 "nbformat_minor": 5
}
