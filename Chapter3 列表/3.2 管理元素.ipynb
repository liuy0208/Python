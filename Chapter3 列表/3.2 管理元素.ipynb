{
 "cells": [
  {
   "cell_type": "code",
   "execution_count": 3,
   "id": "39a06f5b",
   "metadata": {},
   "outputs": [
    {
     "name": "stdout",
     "output_type": "stream",
     "text": [
      "['honda', 'yamaha', 'suzuki']\n",
      "['ducati', 'yamaha', 'suzuki']\n"
     ]
    }
   ],
   "source": [
    "# 刘颖 3.10 12:22 \n",
    "# 修改元素\n",
    "motorcycles = ['honda','yamaha','suzuki']\n",
    "print(motorcycles)\n",
    "\n",
    "motorcycles[0] = 'ducati'\n",
    "print(motorcycles)"
   ]
  },
  {
   "cell_type": "code",
   "execution_count": 6,
   "id": "080ae8de",
   "metadata": {},
   "outputs": [
    {
     "name": "stdout",
     "output_type": "stream",
     "text": [
      "['honda', 'yamaha', 'suzuki', 'ducati']\n"
     ]
    }
   ],
   "source": [
    "# 增加元素\n",
    "motorcycles = ['honda','yamaha','suzuki']\n",
    "motorcycles.append('ducati')\n",
    "print(motorcycles)"
   ]
  },
  {
   "cell_type": "code",
   "execution_count": 10,
   "id": "d2be2dac",
   "metadata": {},
   "outputs": [
    {
     "name": "stdout",
     "output_type": "stream",
     "text": [
      "['honda']\n",
      "['honda', 'suzuki']\n"
     ]
    }
   ],
   "source": [
    "# append（）方法增加元素\n",
    "motorcycles = []\n",
    "motorcycles.append('honda')\n",
    "print(motorcycles)\n",
    "motorcycles.append('suzuki')\n",
    "print(motorcycles)"
   ]
  },
  {
   "cell_type": "code",
   "execution_count": 92,
   "id": "11f07170",
   "metadata": {},
   "outputs": [
    {
     "name": "stdout",
     "output_type": "stream",
     "text": [
      "['honda', 'ducati', 'yamaha', 'suzuki']\n"
     ]
    }
   ],
   "source": [
    "# insert（）方法插入元素 \n",
    "motorcycles = ['honda','yamaha','suzuki']\n",
    "motorcycles.insert(1,'ducati')\n",
    "print(motorcycles)"
   ]
  },
  {
   "cell_type": "code",
   "execution_count": 96,
   "id": "7c2cf280",
   "metadata": {},
   "outputs": [
    {
     "name": "stdout",
     "output_type": "stream",
     "text": [
      "['honda', 'yamaha', 'suzuki', 'ducati']\n"
     ]
    }
   ],
   "source": [
    "motorcycles = ['honda','yamaha','suzuki']\n",
    "motorcycles.insert(5,'ducati')\n",
    "print(motorcycles)"
   ]
  },
  {
   "cell_type": "code",
   "execution_count": 28,
   "id": "37689886",
   "metadata": {},
   "outputs": [
    {
     "name": "stdout",
     "output_type": "stream",
     "text": [
      "['yamaha', 'suzuki']\n"
     ]
    }
   ],
   "source": [
    "# del语句删除元素\n",
    "motorcycles = ['honda','yamaha','suzuki']\n",
    "del motorcycles[0]\n",
    "print(motorcycles)"
   ]
  },
  {
   "cell_type": "code",
   "execution_count": 34,
   "id": "0134df3f",
   "metadata": {},
   "outputs": [
    {
     "name": "stdout",
     "output_type": "stream",
     "text": [
      "['honda', 'yamaha']\n"
     ]
    }
   ],
   "source": [
    "# pop（）方法删除元素\n",
    "motorcycles = ['honda','yamaha','suzuki']\n",
    "motorcycles.pop()\n",
    "print(motorcycles)"
   ]
  },
  {
   "cell_type": "code",
   "execution_count": 37,
   "id": "94c86944",
   "metadata": {},
   "outputs": [
    {
     "name": "stdout",
     "output_type": "stream",
     "text": [
      "['honda', 'yamaha', 'suzuki']\n",
      "['honda', 'yamaha']\n",
      "suzuki\n"
     ]
    }
   ],
   "source": [
    "# 方法pop（） 弹出列表中的某个值\n",
    "motorcycles = ['honda','yamaha','suzuki']\n",
    "print(motorcycles)\n",
    "popped_motorcycle = motorcycles.pop()\n",
    "# 将第0个给popped_motorcycle,取出不放回（相当于remove）\n",
    "print(motorcycles)\n",
    "print(popped_motorcycle)"
   ]
  },
  {
   "cell_type": "code",
   "execution_count": 39,
   "id": "b582859d",
   "metadata": {},
   "outputs": [
    {
     "name": "stdout",
     "output_type": "stream",
     "text": [
      "The last motorcycle I owned was a Suzuki.\n",
      "The first motorcycle I owned was a Honda.\n"
     ]
    }
   ],
   "source": [
    "# 方法pop（）\n",
    "motorcycles = ['honda','yamaha','suzuki']\n",
    "last_owned = motorcycles.pop()\n",
    "print(f\"The last motorcycle I owned was a {last_owned.title()}.\")\n",
    "print(f\"The first motorcycle I owned was a {motorcycles[0].title()}.\")\n",
    "# 上面的print将值弹出列表了，而下面的print并没有改变列表当中的元素，只是调用（取出后要放回）"
   ]
  },
  {
   "cell_type": "code",
   "execution_count": 43,
   "id": "6e344496",
   "metadata": {},
   "outputs": [
    {
     "name": "stdout",
     "output_type": "stream",
     "text": [
      "None\n"
     ]
    }
   ],
   "source": [
    "# 方法remove（）\n",
    "motorcycles = ['honda','yamaha','suzuki']\n",
    "print(motorcycles.remove('honda'))\n",
    "# 疑问：什么时候打印内容里可以直接使用方法？什么时候不可以，比如现在这个情况就不能直接在print的圆括号里使用方法\n",
    "#而是需要先使用方法再打印"
   ]
  },
  {
   "cell_type": "code",
   "execution_count": 99,
   "id": "d2e84d36",
   "metadata": {},
   "outputs": [
    {
     "name": "stdout",
     "output_type": "stream",
     "text": [
      "['yamaha', 'suzuki']\n"
     ]
    }
   ],
   "source": [
    "# 方法remove（）\n",
    "motorcycles = ['honda','yamaha','suzuki']\n",
    "motorcycles.remove('honda')\n",
    "print(motorcycles)"
   ]
  },
  {
   "cell_type": "code",
   "execution_count": 100,
   "id": "b8e9ce63",
   "metadata": {},
   "outputs": [
    {
     "name": "stdout",
     "output_type": "stream",
     "text": [
      "['honda', 'yamaha', 'suzuki']\n",
      "['yamaha', 'suzuki']\n",
      "\n",
      "A Honda is too expensive for me\n"
     ]
    }
   ],
   "source": [
    "# 方法remove（），继续使用删除元素\n",
    "motorcycles = ['honda','yamaha','suzuki']\n",
    "print(motorcycles)\n",
    "too_expensive = 'honda'\n",
    "motorcycles.remove(too_expensive)\n",
    "print(motorcycles)\n",
    "print(f\"\\nA {too_expensive.title()} is too expensive for me\")"
   ]
  },
  {
   "cell_type": "code",
   "execution_count": 103,
   "id": "9fe84b1f",
   "metadata": {},
   "outputs": [
    {
     "data": {
      "text/plain": [
       "'grann'"
      ]
     },
     "execution_count": 103,
     "metadata": {},
     "output_type": "execute_result"
    }
   ],
   "source": [
    "# 方法replace（）\n",
    "name = 'green'\n",
    "name.replace('ee','an')"
   ]
  },
  {
   "cell_type": "code",
   "execution_count": 52,
   "id": "a999b59e",
   "metadata": {},
   "outputs": [
    {
     "name": "stdout",
     "output_type": "stream",
     "text": [
      "Dear Wbw, I sincerely invite you to have a dinner with me.\n",
      "Dear Zsp, I sincerely invite you to have a dinner with me.\n",
      "Dear Hzp, I sincerely invite you to have a dinner with me.\n",
      "Dear Sy, I sincerely invite you to have a dinner with me.\n"
     ]
    }
   ],
   "source": [
    "# 3-4 Guest list\n",
    "guest_list = ['wbw','zsp','hzp','sy']\n",
    "print(f\"Dear {guest_list[0].title()}, I sincerely invite you to have a dinner with me.\")\n",
    "print(f\"Dear {guest_list[1].title()}, I sincerely invite you to have a dinner with me.\")\n",
    "print(f\"Dear {guest_list[2].title()}, I sincerely invite you to have a dinner with me.\")\n",
    "print(f\"Dear {guest_list[3].title()}, I sincerely invite you to have a dinner with me.\")"
   ]
  },
  {
   "cell_type": "code",
   "execution_count": 60,
   "id": "126659c1",
   "metadata": {},
   "outputs": [
    {
     "name": "stdout",
     "output_type": "stream",
     "text": [
      "Dear Wbw, I sincerely invite you to have a dinner with me.\n",
      "Dear Zsp, I sincerely invite you to have a dinner with me.\n",
      "Dear Hzp, I sincerely invite you to have a dinner with me.\n",
      "Dear Sy, I sincerely invite you to have a dinner with me.\n",
      "\n",
      "Among these four guests, Sy can't come.\n",
      "['wbw', 'zsp', 'hzp', 'ljy']\n",
      "Dear Wbw, I sincerely invite you to have a dinner with me.\n",
      "Dear Zsp, I sincerely invite you to have a dinner with me.\n",
      "Dear Hzp, I sincerely invite you to have a dinner with me.\n",
      "Dear Ljy, I sincerely invite you to have a dinner with me.\n"
     ]
    }
   ],
   "source": [
    "# 3-5 Modify guest list\n",
    "guest_list = ['wbw','zsp','hzp','sy']\n",
    "print(f\"Dear {guest_list[0].title()}, I sincerely invite you to have a dinner with me.\")\n",
    "print(f\"Dear {guest_list[1].title()}, I sincerely invite you to have a dinner with me.\")\n",
    "print(f\"Dear {guest_list[2].title()}, I sincerely invite you to have a dinner with me.\")\n",
    "print(f\"Dear {guest_list[3].title()}, I sincerely invite you to have a dinner with me.\")\n",
    "print(f\"\\nAmong these four guests, {guest_list[-1].title()} can't come.\")\n",
    "del guest_list[-1]\n",
    "guest_list.append('ljy')\n",
    "print(guest_list)\n",
    "print(f\"Dear {guest_list[0].title()}, I sincerely invite you to have a dinner with me.\")\n",
    "print(f\"Dear {guest_list[1].title()}, I sincerely invite you to have a dinner with me.\")\n",
    "print(f\"Dear {guest_list[2].title()}, I sincerely invite you to have a dinner with me.\")\n",
    "print(f\"Dear {guest_list[3].title()}, I sincerely invite you to have a dinner with me.\")"
   ]
  },
  {
   "cell_type": "code",
   "execution_count": 68,
   "id": "7f585e5a",
   "metadata": {},
   "outputs": [
    {
     "name": "stdout",
     "output_type": "stream",
     "text": [
      "Dear Wbw, I sincerely invite you to have a dinner with me.\n",
      "Dear Zsp, I sincerely invite you to have a dinner with me.\n",
      "Dear Hzp, I sincerely invite you to have a dinner with me.\n",
      "Dear Sy, I sincerely invite you to have a dinner with me.\n",
      "\n",
      "Among these four guests, Sy can't come.\n",
      "\n",
      "['wbw', 'zsp', 'hzp', 'ljy']\n",
      "Dear Wbw, I sincerely invite you to have a dinner with me.\n",
      "Dear Zsp, I sincerely invite you to have a dinner with me.\n",
      "Dear Hzp, I sincerely invite you to have a dinner with me.\n",
      "Dear Ljy, I sincerely invite you to have a dinner with me.\n",
      "\n",
      "I've found a bigger dining table, so I will invite more guests to dine together!\n",
      "\n",
      "['anna', 'wbw', 'zsp', 'candy', 'hzp', 'ljy', 'lucky']\n",
      "\n",
      "Dear Anna, I sincerely invite you to have a dinner with me.\n",
      "Dear Wbw, I sincerely invite you to have a dinner with me.\n",
      "Dear Zsp, I sincerely invite you to have a dinner with me.\n",
      "Dear Candy, I sincerely invite you to have a dinner with me.\n",
      "Dear Hzp, I sincerely invite you to have a dinner with me.\n",
      "Dear Ljy, I sincerely invite you to have a dinner with me.\n",
      "Dear Lucky, I sincerely invite you to have a dinner with me.\n"
     ]
    }
   ],
   "source": [
    "# 3-6 add guest\n",
    "guest_list = ['wbw','zsp','hzp','sy']\n",
    "print(f\"Dear {guest_list[0].title()}, I sincerely invite you to have a dinner with me.\")\n",
    "print(f\"Dear {guest_list[1].title()}, I sincerely invite you to have a dinner with me.\")\n",
    "print(f\"Dear {guest_list[2].title()}, I sincerely invite you to have a dinner with me.\")\n",
    "print(f\"Dear {guest_list[3].title()}, I sincerely invite you to have a dinner with me.\")\n",
    "print(f\"\\nAmong these four guests, {guest_list[-1].title()} can't come.\")\n",
    "del guest_list[-1]\n",
    "guest_list.append('ljy')\n",
    "print(f\"\\n{guest_list}\")\n",
    "print(f\"Dear {guest_list[0].title()}, I sincerely invite you to have a dinner with me.\")\n",
    "print(f\"Dear {guest_list[1].title()}, I sincerely invite you to have a dinner with me.\")\n",
    "print(f\"Dear {guest_list[2].title()}, I sincerely invite you to have a dinner with me.\")\n",
    "print(f\"Dear {guest_list[3].title()}, I sincerely invite you to have a dinner with me.\")\n",
    "print(\"\\nI've found a bigger dining table, so I will invite more guests to dine together!\")\n",
    "guest_list.insert(0,'anna')\n",
    "guest_list.insert(3,'candy')\n",
    "guest_list.append('lucky')\n",
    "print(f\"\\n{guest_list}\")\n",
    "print(f\"\\nDear {guest_list[0].title()}, I sincerely invite you to have a dinner with me.\")\n",
    "print(f\"Dear {guest_list[1].title()}, I sincerely invite you to have a dinner with me.\")\n",
    "print(f\"Dear {guest_list[2].title()}, I sincerely invite you to have a dinner with me.\")\n",
    "print(f\"Dear {guest_list[3].title()}, I sincerely invite you to have a dinner with me.\")\n",
    "print(f\"Dear {guest_list[4].title()}, I sincerely invite you to have a dinner with me.\")\n",
    "print(f\"Dear {guest_list[5].title()}, I sincerely invite you to have a dinner with me.\")\n",
    "print(f\"Dear {guest_list[6].title()}, I sincerely invite you to have a dinner with me.\")"
   ]
  },
  {
   "cell_type": "code",
   "execution_count": 87,
   "id": "94bee1b2",
   "metadata": {},
   "outputs": [
    {
     "name": "stdout",
     "output_type": "stream",
     "text": [
      "Dear Wbw, I sincerely invite you to have a dinner with me.\n",
      "Dear Zsp, I sincerely invite you to have a dinner with me.\n",
      "Dear Hzp, I sincerely invite you to have a dinner with me.\n",
      "Dear Sy, I sincerely invite you to have a dinner with me.\n",
      "\n",
      "Among these four guests, Sy can't come.\n",
      "\n",
      "['wbw', 'zsp', 'hzp', 'ljy']\n",
      "Dear Wbw, I sincerely invite you to have a dinner with me.\n",
      "Dear Zsp, I sincerely invite you to have a dinner with me.\n",
      "Dear Hzp, I sincerely invite you to have a dinner with me.\n",
      "Dear Ljy, I sincerely invite you to have a dinner with me.\n",
      "\n",
      "I've found a bigger dining table, so I will invite more guests to dine together!\n",
      "\n",
      "['anna', 'wbw', 'zsp', 'candy', 'hzp', 'ljy', 'lucky']\n",
      "\n",
      "Dear Anna, I sincerely invite you to have a dinner with me.\n",
      "Dear Wbw, I sincerely invite you to have a dinner with me.\n",
      "Dear Zsp, I sincerely invite you to have a dinner with me.\n",
      "Dear Candy, I sincerely invite you to have a dinner with me.\n",
      "Dear Hzp, I sincerely invite you to have a dinner with me.\n",
      "Dear Ljy, I sincerely invite you to have a dinner with me.\n",
      "Dear Lucky, I sincerely invite you to have a dinner with me.\n",
      "\n",
      "Sorry my dear friends, I can only invite two guests to dine with me \n",
      "because the bigger dining table brought recently can't be delivered in time.\n",
      "\n",
      "Dear Anna,I'm sorry I can't dine with you this time, see you next time~\n",
      "Dear Lucky,I'm sorry I can't dine with you this time, see you next time~\n",
      "Dear Ljy,I'm sorry I can't dine with you this time, see you next time~\n",
      "Dear Hzp,I'm sorry I can't dine with you this time, see you next time~\n",
      "Dear Candy,I'm sorry I can't dine with you this time, see you next time~\n",
      "\n",
      "['wbw', 'zsp']\n",
      "\n",
      "Dear Wbw,I will still have dinner with you this time!\n",
      "Dear Zsp,I will still have dinner with you this time!\n",
      "\n",
      "[]\n"
     ]
    }
   ],
   "source": [
    "# 3-7 cut down the guest list\n",
    "guest_list = ['wbw','zsp','hzp','sy']\n",
    "print(f\"Dear {guest_list[0].title()}, I sincerely invite you to have a dinner with me.\")\n",
    "print(f\"Dear {guest_list[1].title()}, I sincerely invite you to have a dinner with me.\")\n",
    "print(f\"Dear {guest_list[2].title()}, I sincerely invite you to have a dinner with me.\")\n",
    "print(f\"Dear {guest_list[3].title()}, I sincerely invite you to have a dinner with me.\")\n",
    "print(f\"\\nAmong these four guests, {guest_list[-1].title()} can't come.\")\n",
    "del guest_list[-1]\n",
    "guest_list.append('ljy')\n",
    "print(f\"\\n{guest_list}\")\n",
    "print(f\"Dear {guest_list[0].title()}, I sincerely invite you to have a dinner with me.\")\n",
    "print(f\"Dear {guest_list[1].title()}, I sincerely invite you to have a dinner with me.\")\n",
    "print(f\"Dear {guest_list[2].title()}, I sincerely invite you to have a dinner with me.\")\n",
    "print(f\"Dear {guest_list[3].title()}, I sincerely invite you to have a dinner with me.\")\n",
    "print(\"\\nI've found a bigger dining table, so I will invite more guests to dine together!\")\n",
    "guest_list.insert(0,'anna')\n",
    "guest_list.insert(3,'candy')\n",
    "guest_list.append('lucky')\n",
    "print(f\"\\n{guest_list}\")\n",
    "print(f\"\\nDear {guest_list[0].title()}, I sincerely invite you to have a dinner with me.\")\n",
    "print(f\"Dear {guest_list[1].title()}, I sincerely invite you to have a dinner with me.\")\n",
    "print(f\"Dear {guest_list[2].title()}, I sincerely invite you to have a dinner with me.\")\n",
    "print(f\"Dear {guest_list[3].title()}, I sincerely invite you to have a dinner with me.\")\n",
    "print(f\"Dear {guest_list[4].title()}, I sincerely invite you to have a dinner with me.\")\n",
    "print(f\"Dear {guest_list[5].title()}, I sincerely invite you to have a dinner with me.\")\n",
    "print(f\"Dear {guest_list[6].title()}, I sincerely invite you to have a dinner with me.\")\n",
    "print(\"\\nSorry my dear friends, I can only invite two guests to dine with me \\nbecause the bigger dining table brought recently can't be delivered in time.\")\n",
    "popped_guest = guest_list.pop(0).title()\n",
    "print(f\"\\nDear {popped_guest},I'm sorry I can't dine with you this time, see you next time~\")\n",
    "popped_guest = guest_list.pop().title()\n",
    "print(f\"Dear {popped_guest},I'm sorry I can't dine with you this time, see you next time~\")\n",
    "popped_guest = guest_list.pop().title()\n",
    "print(f\"Dear {popped_guest},I'm sorry I can't dine with you this time, see you next time~\")\n",
    "popped_guest = guest_list.pop().title()\n",
    "print(f\"Dear {popped_guest},I'm sorry I can't dine with you this time, see you next time~\")\n",
    "popped_guest = guest_list.pop().title()\n",
    "print(f\"Dear {popped_guest},I'm sorry I can't dine with you this time, see you next time~\\n\")\n",
    "print(guest_list)\n",
    "print(f\"\\nDear {guest_list[0].title()},I will still have dinner with you this time!\")\n",
    "print(f\"Dear {guest_list[1].title()},I will still have dinner with you this time!\\n\")\n",
    "del guest_list[-1]\n",
    "del guest_list[0]\n",
    "print(guest_list)"
   ]
  },
  {
   "cell_type": "code",
   "execution_count": null,
   "id": "8ebd0a1d",
   "metadata": {},
   "outputs": [],
   "source": []
  }
 ],
 "metadata": {
  "kernelspec": {
   "display_name": "Python 3 (ipykernel)",
   "language": "python",
   "name": "python3"
  },
  "language_info": {
   "codemirror_mode": {
    "name": "ipython",
    "version": 3
   },
   "file_extension": ".py",
   "mimetype": "text/x-python",
   "name": "python",
   "nbconvert_exporter": "python",
   "pygments_lexer": "ipython3",
   "version": "3.9.13"
  }
 },
 "nbformat": 4,
 "nbformat_minor": 5
}
