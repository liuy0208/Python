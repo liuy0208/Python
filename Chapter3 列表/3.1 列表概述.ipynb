{
 "cells": [
  {
   "cell_type": "markdown",
   "id": "1aabda59",
   "metadata": {},
   "source": [
    "# 3.1 列表概述"
   ]
  },
  {
   "cell_type": "code",
   "execution_count": 9,
   "id": "af143e77",
   "metadata": {},
   "outputs": [
    {
     "name": "stdout",
     "output_type": "stream",
     "text": [
      "['trek', 'cannondale', 'redline', 'specialized']\n"
     ]
    }
   ],
   "source": [
    "# 刘颖 3.9 20：00 列表用[]表示，元素用,分隔，元素为字符串要用引号\n",
    "bicycles = ['trek','cannondale','redline','specialized']\n",
    "print(bicycles)"
   ]
  },
  {
   "cell_type": "code",
   "execution_count": 11,
   "id": "14f625a6",
   "metadata": {},
   "outputs": [
    {
     "name": "stdout",
     "output_type": "stream",
     "text": [
      "cannondale\n",
      "trek\n",
      "redline\n"
     ]
    }
   ],
   "source": [
    "# 索引的使用\n",
    "bicycles = ['trek','cannondale','redline','specialized']\n",
    "print(bicycles[1])\n",
    "print(bicycles[0])\n",
    "print(bicycles[-2])"
   ]
  },
  {
   "cell_type": "code",
   "execution_count": 14,
   "id": "b5b63275",
   "metadata": {},
   "outputs": [
    {
     "name": "stdout",
     "output_type": "stream",
     "text": [
      "I'd rather choose the \"Trek\".\n"
     ]
    }
   ],
   "source": [
    "# f字符串-使用列表中的值\n",
    "bicycles = ['trek','cannondale','redline','specialized']\n",
    "message = f\"\"\"I'd rather choose the \"{bicycles[0].title()}\".\"\"\"\n",
    "print(message)"
   ]
  },
  {
   "cell_type": "code",
   "execution_count": 20,
   "id": "e52f94d3",
   "metadata": {},
   "outputs": [
    {
     "name": "stdout",
     "output_type": "stream",
     "text": [
      "wbw\n",
      "zsp\n",
      "cjy\n",
      "wyr\n",
      "jxy\n",
      "cjy\n"
     ]
    }
   ],
   "source": [
    "# 3-1 names\n",
    "names = [\"wbw\",\"zsp\",\"hzq\",\"cjy\",\"jxy\",\"wyr\"]\n",
    "print(names[0])\n",
    "print(names[1])\n",
    "print(names[3])\n",
    "print(names[-1])\n",
    "print(names[-2])\n",
    "print(names[-3])"
   ]
  },
  {
   "cell_type": "code",
   "execution_count": 27,
   "id": "663bcf2e",
   "metadata": {},
   "outputs": [
    {
     "name": "stdout",
     "output_type": "stream",
     "text": [
      "Wbw,everything will be fine.\n",
      "Zsp,everything will be fine.\n",
      "Hzq,everything will be fine.\n",
      "Cjy,everything will be fine.\n",
      "Jxy,everything will be fine.\n",
      "Wyr,everything will be fine.\n"
     ]
    }
   ],
   "source": [
    "# 3-2 greeting\n",
    "names = [\"wbw\",\"zsp\",\"hzq\",\"cjy\",\"jxy\",\"wyr\"]\n",
    "message = \"everything will be fine.\"\n",
    "print(f\"{names[(0)].title()},{message}\")\n",
    "print(f\"{names[(1)].title()},{message}\")\n",
    "print(f\"{names[(2)].title()},{message}\")\n",
    "print(f\"{names[(-3)].title()},{message}\")\n",
    "print(f\"{names[(-2)].title()},{message}\")\n",
    "print(f\"{names[(-1)].title()},{message}\")"
   ]
  },
  {
   "cell_type": "code",
   "execution_count": 32,
   "id": "73a66e9b",
   "metadata": {},
   "outputs": [
    {
     "name": "stdout",
     "output_type": "stream",
     "text": [
      "Wbw,everything will be fine.\n",
      "Zsp,everything will be fine.\n",
      "Hzq,everything will be fine.\n",
      "Cjy,everything will be fine.\n",
      "Jxy,everything will be fine.\n",
      "Wyr,everything will be fine.\n"
     ]
    }
   ],
   "source": [
    "# 对列表元素执行循环操作\n",
    "names = [\"wbw\",\"zsp\",\"hzq\",\"cjy\",\"jxy\",\"wyr\"]\n",
    "for name in names:\n",
    "    print(f\"{name.title()},everything will be fine.\")"
   ]
  },
  {
   "cell_type": "code",
   "execution_count": 31,
   "id": "9b20bf77",
   "metadata": {},
   "outputs": [
    {
     "name": "stdout",
     "output_type": "stream",
     "text": [
      "My favourite way to go school is \"walk\".\n",
      "The way I often choose to tour in Nan Jing is called \"subway\".\n"
     ]
    }
   ],
   "source": [
    "ways = [\"walk\",\"run\",\"bicycle\",\"subway\"]\n",
    "print(f'My favourite way to go school is \"{ways[(0)]}\".')\n",
    "print(f'The way I often choose to tour in Nan Jing is called \"{ways[(-1)]}\".')"
   ]
  },
  {
   "cell_type": "code",
   "execution_count": null,
   "id": "226f59a8",
   "metadata": {},
   "outputs": [],
   "source": []
  }
 ],
 "metadata": {
  "kernelspec": {
   "display_name": "Python 3 (ipykernel)",
   "language": "python",
   "name": "python3"
  },
  "language_info": {
   "codemirror_mode": {
    "name": "ipython",
    "version": 3
   },
   "file_extension": ".py",
   "mimetype": "text/x-python",
   "name": "python",
   "nbconvert_exporter": "python",
   "pygments_lexer": "ipython3",
   "version": "3.9.13"
  }
 },
 "nbformat": 4,
 "nbformat_minor": 5
}
