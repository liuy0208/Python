{
 "cells": [
  {
   "cell_type": "code",
   "execution_count": 7,
   "id": "e89d9461",
   "metadata": {},
   "outputs": [
    {
     "name": "stdout",
     "output_type": "stream",
     "text": [
      "['bmw', 'audi', 'toyota', 'subaru']\n",
      "['audi', 'bmw', 'subaru', 'toyota']\n"
     ]
    }
   ],
   "source": [
    "# 刘颖 2023.3.12 14：43\n",
    "# sort()方法\n",
    "cars = ['bmw','audi','toyota','subaru']\n",
    "print(cars)\n",
    "cars.sort()\n",
    "print(cars)"
   ]
  },
  {
   "cell_type": "code",
   "execution_count": 13,
   "id": "e7b2e577",
   "metadata": {},
   "outputs": [
    {
     "name": "stdout",
     "output_type": "stream",
     "text": [
      "['bmw', 'audi', 'toyota', 'Subaru']\n",
      "['Subaru', 'audi', 'bmw', 'toyota']\n"
     ]
    }
   ],
   "source": [
    "# sort()方法\n",
    "cars = ['bmw','audi','toyota','Subaru']\n",
    "print(cars)\n",
    "cars.sort()\n",
    "print(cars)\n",
    "# 大写排在小写前面"
   ]
  },
  {
   "cell_type": "code",
   "execution_count": 11,
   "id": "ac36e160",
   "metadata": {},
   "outputs": [
    {
     "name": "stdout",
     "output_type": "stream",
     "text": [
      "['bmw', 'audi', 'toyota', 'Subaru']\n",
      "['toyota', 'bmw', 'audi', 'Subaru']\n"
     ]
    }
   ],
   "source": [
    "# sort()方法\n",
    "cars = ['bmw','audi','toyota','Subaru']\n",
    "print(cars)\n",
    "cars.sort(reverse=True)\n",
    "print(cars)"
   ]
  },
  {
   "cell_type": "code",
   "execution_count": 24,
   "id": "ea33b6ca",
   "metadata": {},
   "outputs": [
    {
     "name": "stdout",
     "output_type": "stream",
     "text": [
      "Here is the original list:\n",
      "['bmw', 'audi', 'toyota', 'subaru']\n",
      "\n",
      "Here is the sorted list:\n",
      "['audi', 'bmw', 'subaru', 'toyota']\n",
      "\n",
      "Here is the original list again :\n",
      "['bmw', 'audi', 'toyota', 'subaru']\n",
      "['audi', 'bmw', 'subaru', 'toyota']\n",
      "['toyota', 'subaru', 'bmw', 'audi']\n"
     ]
    }
   ],
   "source": [
    "# 函数sorted（）\n",
    "cars = ['bmw','audi','toyota','subaru']\n",
    "print(\"Here is the original list:\")\n",
    "print(cars)\n",
    "print(\"\\nHere is the sorted list:\")\n",
    "print(sorted(cars))\n",
    "print(\"\\nHere is the original list again :\")\n",
    "print(cars)\n",
    "print(sorted(cars))\n",
    "# 如何向函数sorted（）传递参数reverse=True\n",
    "sorted_cars = sorted(cars)\n",
    "sorted_cars.reverse()\n",
    "print(sorted_cars)"
   ]
  },
  {
   "cell_type": "code",
   "execution_count": 36,
   "id": "3f3bdea7",
   "metadata": {},
   "outputs": [
    {
     "name": "stdout",
     "output_type": "stream",
     "text": [
      "['French', 'America', 'Russia', 'Spain', 'Australia']\n",
      "['America', 'Australia', 'French', 'Russia', 'Spain']\n",
      "['French', 'America', 'Russia', 'Spain', 'Australia']\n",
      "['Spain', 'Russia', 'French', 'Australia', 'America']\n",
      "['French', 'America', 'Russia', 'Spain', 'Australia']\n",
      "['Australia', 'Spain', 'Russia', 'America', 'French']\n",
      "['French', 'America', 'Russia', 'Spain', 'Australia']\n",
      "['America', 'Australia', 'French', 'Russia', 'Spain']\n",
      "['Spain', 'Russia', 'French', 'Australia', 'America']\n"
     ]
    }
   ],
   "source": [
    "# 3-8 travel around the world\n",
    "resorts_wanted = ['French','America','Russia','Spain','Australia']\n",
    "print(resorts_wanted)\n",
    "print(sorted(resorts_wanted))\n",
    "print(resorts_wanted)\n",
    "sorted_resorts_wanted = sorted(resorts_wanted)\n",
    "sorted_resorts_wanted.reverse()\n",
    "print(sorted_resorts_wanted)\n",
    "print(resorts_wanted)\n",
    "resorts_wanted.reverse()\n",
    "print(resorts_wanted)\n",
    "resorts_wanted.reverse()\n",
    "print(resorts_wanted)\n",
    "resorts_wanted.sort()\n",
    "print(resorts_wanted)\n",
    "resorts_wanted.sort(reverse=True)\n",
    "print(resorts_wanted)"
   ]
  },
  {
   "cell_type": "code",
   "execution_count": 39,
   "id": "c79c32df",
   "metadata": {},
   "outputs": [
    {
     "data": {
      "text/plain": [
       "4"
      ]
     },
     "execution_count": 39,
     "metadata": {},
     "output_type": "execute_result"
    }
   ],
   "source": [
    "# 3-9 guest list.len()\n",
    "guest_list = ['wbw','zsp','hzp','sy']\n",
    "len(guest_list)"
   ]
  },
  {
   "cell_type": "code",
   "execution_count": 43,
   "id": "2c8399b8",
   "metadata": {},
   "outputs": [
    {
     "name": "stdout",
     "output_type": "stream",
     "text": [
      "bmw\n"
     ]
    }
   ],
   "source": [
    "# 3-11 error\n",
    "cars = ['bmw','audi','toyota','Subaru']\n",
    "print(cars[0])\n",
    "# 如果是print(cars[4])就会报错"
   ]
  },
  {
   "cell_type": "code",
   "execution_count": null,
   "id": "e07a3f2f",
   "metadata": {},
   "outputs": [],
   "source": []
  }
 ],
 "metadata": {
  "kernelspec": {
   "display_name": "Python 3 (ipykernel)",
   "language": "python",
   "name": "python3"
  },
  "language_info": {
   "codemirror_mode": {
    "name": "ipython",
    "version": 3
   },
   "file_extension": ".py",
   "mimetype": "text/x-python",
   "name": "python",
   "nbconvert_exporter": "python",
   "pygments_lexer": "ipython3",
   "version": "3.9.13"
  }
 },
 "nbformat": 4,
 "nbformat_minor": 5
}
